{
 "cells": [
  {
   "cell_type": "markdown",
   "metadata": {
    "tags": []
   },
   "source": [
    "![Practicum AI Logo image](https://github.com/PracticumAI/practicumai.github.io/blob/main/images/logo/PracticumAI_logo_250x50.png?raw=true)  <img src='images/05/data_visualization.png' align='right' width=50>\n",
    "\n",
    "# *Practicum AI Data*: Data Visualization - Geospatial Data Plotting \n",
    "\n",
    "The exercise is inspired by Mario Döbler & Tim Großmann (2020) <i>The Data Visualization Workshop</i> from <a href=\"https://www.packtpub.com/product/the-data-visualization-workshop/9781800568846\">Packt Publishers</a> and the <a href=\"https://github.com/PacktWorkshops/The-Data-Visualization-Workshop\">Software Carpentries</a>.\n",
    "***\n",
    "\n",
    "In this notebook, we will start to explore the power of geoplotlib, a versatile Python library, by combining it with various real-world datasets. Through practical applications, you'll gain hands-on experience in geospatial data visualization and develop skills to make meaningful insights from location-based data. \n",
    "\n",
    "\n",
    "## Objectives\n",
    "\n",
    "By the end of this notebook, you will be able to:\n",
    "\n",
    "1. Use geoplotlib to make beautiful maps and identify various types of geospatial charts. \n",
    "2. Create intricate visualizations using geographical data and customize them with different map styles and layers.\n",
    "\n",
    "## 1. Introduction\n",
    "\n",
    "Geospatial data plotting is all about visualizing location-based information on maps, helping us understand geographical patterns and make informed decisions. Python provides various powerful libraries like `geopandas`, `folium`, and `geoplotlib` for creating beautiful geographical visualizations. In this exploration, we will focus solely on `geoplotlib` for our geospatial data plotting journey.\n",
    "\n",
    "### 1.1 Geoplotlib\n",
    "\n",
    "Geoplotlib is a Python library used for creating visualizations of geographical data. It stands out for its ability to handle large datasets efficiently and supports interactive and animated visualizations. Unlike other libraries, Geoplotlib is designed to work with map tiles, providing a seamless map of the world. It offers a simple interface to create various geospatial visualizations, such as histograms, point-based plots, and choropleth plots.\n",
    "\n",
    "The inputs to geoplotlib are data sources and map tiles, and it supports rendering images in Jupyter Notebooks and interactive windows for zooming and panning maps. To use geoplotlib, you need NumPy and SciPy for numerical computations, and pyglet for graphical rendering. Optional requirements include Matplotlib for colormaps and pyshp for reading `.shp` files.The architecture of geoplotlib is as follows:\n",
    "\n",
    "<div style=\"text-align:center\">\n",
    "    <img src=\"images/05/geoplotlib.jpg\" width=\"400\">\n",
    "    <p style=\"font-style:italic; font-size:12px; text-align:center\">Image Source: <a href=\"https://www.researchgate.net/publication/305983877_Geoplotlib_a_Python_Toolbox_for_Visualizing_Geographical_Data\" style=\"text-decoration:none; color:inherit;\">Andrea et al. 2016</a></p>\n",
    "</div>\n",
    "\n",
    "### 1.2 Design Principles of geoplotlib\n",
    "\n",
    "Geoplotlib, a Python open-source toolbox for geographical data visualization, is designed around three main principles:\n",
    "* Simplicity: Geoplotlib offers built-in tools for tasks like density visualization, spatial graphs, and shapefiles, making it easy to use and understand.\n",
    "* Integration: It seamlessly works with various Python data analysis tools, like scientific computing, machine learning, and numerical packages. The visualizations support interactive data analysis, enabling easy and iterative visualization design.\n",
    "* Performance: Geoplotlib performs exceptionally well, allowing visualizations to handle large datasets with millions of data points efficiently.\n",
    "\n",
    "### 1.3 Power of geoplotlib\n",
    "\n",
    "Geoplotlib offers a wide range of powerful features:\n",
    "* It includes dot maps, kernel density estimation, spatial graphs, Voronoi tessellation, shapefiles, and more.\n",
    "* Geoplotlib supports various map types, such as area maps, heat maps, and point density maps.\n",
    "* The standard input for geoplotlib is Latitude (lat) and Longitude (lon).\n",
    "\n",
    "The library consists of several modules:\n",
    "* geoplotlib module\n",
    "* geoplotlib.layers module\n",
    "* geoplotlib.utils module\n",
    "* geoplotlib.core module\n",
    "* geoplotlib.colors module"
   ]
  },
  {
   "cell_type": "markdown",
   "metadata": {},
   "source": [
    "## 2. Geospatial Visualizations\n",
    "\n",
    "### 2.1 Dot Map\n",
    "\n",
    "A dot density map is a type of geospatial visualization that uses dots to represent individual data points on a map. Here's an example of how to create a dot density map using geoplotlib in Python:\n",
    "\n",
    "For the dataset, we will use one of them from the book called poaching_points_cleaned, you can download the dataset [here](https://github.com/PacktWorkshops/The-Data-Visualization-Workshop/blob/master/Datasets/poaching_points_cleaned.csv)"
   ]
  },
  {
   "cell_type": "code",
   "execution_count": 1,
   "metadata": {
    "tags": []
   },
   "outputs": [
    {
     "data": {
      "text/html": [
       "<div>\n",
       "<style scoped>\n",
       "    .dataframe tbody tr th:only-of-type {\n",
       "        vertical-align: middle;\n",
       "    }\n",
       "\n",
       "    .dataframe tbody tr th {\n",
       "        vertical-align: top;\n",
       "    }\n",
       "\n",
       "    .dataframe thead th {\n",
       "        text-align: right;\n",
       "    }\n",
       "</style>\n",
       "<table border=\"1\" class=\"dataframe\">\n",
       "  <thead>\n",
       "    <tr style=\"text-align: right;\">\n",
       "      <th></th>\n",
       "      <th>id_report</th>\n",
       "      <th>date_report</th>\n",
       "      <th>description</th>\n",
       "      <th>created_date</th>\n",
       "      <th>lat</th>\n",
       "      <th>lon</th>\n",
       "    </tr>\n",
       "  </thead>\n",
       "  <tbody>\n",
       "    <tr>\n",
       "      <th>0</th>\n",
       "      <td>138</td>\n",
       "      <td>01/01/2005 12:00:00 AM</td>\n",
       "      <td>Poaching incident</td>\n",
       "      <td>2005/01/01 12:00:00 AM</td>\n",
       "      <td>-7.049359</td>\n",
       "      <td>34.841440</td>\n",
       "    </tr>\n",
       "    <tr>\n",
       "      <th>1</th>\n",
       "      <td>4</td>\n",
       "      <td>01/20/2005 12:00:00 AM</td>\n",
       "      <td>Poaching incident</td>\n",
       "      <td>2005/01/20 12:00:00 AM</td>\n",
       "      <td>-7.650840</td>\n",
       "      <td>34.480010</td>\n",
       "    </tr>\n",
       "    <tr>\n",
       "      <th>2</th>\n",
       "      <td>43</td>\n",
       "      <td>01/20/2005 12:00:00 AM</td>\n",
       "      <td>Poaching incident</td>\n",
       "      <td>2005/02/20 12:00:00 AM</td>\n",
       "      <td>-7.843202</td>\n",
       "      <td>34.005704</td>\n",
       "    </tr>\n",
       "    <tr>\n",
       "      <th>3</th>\n",
       "      <td>98</td>\n",
       "      <td>01/20/2005 12:00:00 AM</td>\n",
       "      <td>Poaching incident</td>\n",
       "      <td>2005/02/21 12:00:00 AM</td>\n",
       "      <td>-7.745846</td>\n",
       "      <td>33.948526</td>\n",
       "    </tr>\n",
       "    <tr>\n",
       "      <th>4</th>\n",
       "      <td>141</td>\n",
       "      <td>01/20/2005 12:00:00 AM</td>\n",
       "      <td>Poaching incident</td>\n",
       "      <td>2005/02/22 12:00:00 AM</td>\n",
       "      <td>-7.876673</td>\n",
       "      <td>33.690167</td>\n",
       "    </tr>\n",
       "  </tbody>\n",
       "</table>\n",
       "</div>"
      ],
      "text/plain": [
       "   id_report             date_report        description  \\\n",
       "0        138  01/01/2005 12:00:00 AM  Poaching incident   \n",
       "1          4  01/20/2005 12:00:00 AM  Poaching incident   \n",
       "2         43  01/20/2005 12:00:00 AM  Poaching incident   \n",
       "3         98  01/20/2005 12:00:00 AM  Poaching incident   \n",
       "4        141  01/20/2005 12:00:00 AM  Poaching incident   \n",
       "\n",
       "             created_date       lat        lon  \n",
       "0  2005/01/01 12:00:00 AM -7.049359  34.841440  \n",
       "1  2005/01/20 12:00:00 AM -7.650840  34.480010  \n",
       "2  2005/02/20 12:00:00 AM -7.843202  34.005704  \n",
       "3  2005/02/21 12:00:00 AM -7.745846  33.948526  \n",
       "4  2005/02/22 12:00:00 AM -7.876673  33.690167  "
      ]
     },
     "execution_count": 1,
     "metadata": {},
     "output_type": "execute_result"
    }
   ],
   "source": [
    "# csv import with pandas\n",
    "import pandas as pd\n",
    "pd_dataset = pd.read_csv('data/poaching_points_cleaned.csv')\n",
    "pd_dataset.head()"
   ]
  },
  {
   "cell_type": "code",
   "execution_count": null,
   "metadata": {
    "tags": []
   },
   "outputs": [],
   "source": [
    "!pip install geoplotlib"
   ]
  },
  {
   "cell_type": "code",
   "execution_count": null,
   "metadata": {},
   "outputs": [],
   "source": [
    "import geoplotlib\n",
    "from geoplotlib.utils import read_csv\n",
    "\n",
    "dataset = read_csv('dat/poaching_points_cleaned.csv')\n",
    "\n",
    "# Plot our dataset with points\n",
    "geoplotlib.dot(dataset)\n",
    "geoplotlib.show()"
   ]
  },
  {
   "cell_type": "markdown",
   "metadata": {},
   "source": [
    "Looking only at the `lat` and `lon` values in the dataset won't give us a good idea of where our elements are on the map or how far apart they are. We can't draw conclusions or understand the patterns without visualizing the data on a map. However, once we see the map, we instantly notice areas with more incidents than others. This insight is not readily apparent from just the dataset's numbers. Data visualization is essential for understanding spatial information.\n",
    "\n",
    "### 2.2 2D Histograms\n",
    "\n",
    "2D histograms offer a more straightforward approach to computing density for visualization than dot maps. The density approximation is represented using a color scale, and the bin size determines the number of pixels used for the histogram bins."
   ]
  },
  {
   "cell_type": "code",
   "execution_count": null,
   "metadata": {},
   "outputs": [],
   "source": [
    "import geoplotlib\n",
    "from geoplotlib.utils import read_csv, BoundingBox\n",
    "\n",
    "dataset = read_csv('dat/poaching_points_cleaned.csv')\n",
    "\n",
    "# Plot our dataset as a histogram\n",
    "geoplotlib.hist(data, colorscale='sqrt', binsize=8)\n",
    "geoplotlib.set_bbox(BoundingBox.DK)\n",
    "geoplotlib.show()"
   ]
  },
  {
   "cell_type": "markdown",
   "metadata": {},
   "source": [
    "Histogram plots provide a clearer view of the density distribution in our dataset. Analyzing the final plot, we can identify hotspots for poaching and observe areas without any poaching incidents.\n",
    "\n",
    "### 2.3 Voronoi Tessellation\n",
    "\n",
    "In a Voronoi tessellation, every pair of data points is connected by a line that is equidistant from both points. This separation forms cells, each indicating which data point is closer to any given point. Smaller cells are formed when the data points are closer together."
   ]
  },
  {
   "cell_type": "code",
   "execution_count": null,
   "metadata": {},
   "outputs": [],
   "source": [
    "# plotting a voronoi map\n",
    "geoplotlib.voronoi(dataset, cmap='Blues_r', \\\n",
    "                   max_area=1e5, alpha=255)\n",
    "geoplotlib.show()"
   ]
  },
  {
   "cell_type": "markdown",
   "metadata": {},
   "source": [
    "Voronoi plots help visualize data point density. They come with additional options like `cmap`, `max_area`, and `alpha`. Cmap sets the map color, alpha controls transparency, and max_area determines Voronoi area colors based on a constant.\n",
    "\n",
    "Comparing the Voronoi plot to the histogram, we can easily spot areas that draw more attention. The center-right edge shows a large dark blue area with an even darker center, something that might have been missed using only the histogram.\n",
    "\n",
    "### 2.4 Delaunay Triangulation\n",
    "\n",
    "Delaunay triangulation is closely related to Voronoi tessellation. It involves connecting each data point to its neighboring points with edges, resulting in a triangulated plot. Smaller triangles appear when data points are closer together, revealing density patterns in specific regions. When combined with color gradients, it offers insights into points of interest, similar to a heatmap."
   ]
  },
  {
   "cell_type": "code",
   "execution_count": null,
   "metadata": {},
   "outputs": [],
   "source": [
    "# Plot our dataset as a delaunay\n",
    "geoplotlib.delaunay(dataset, cmap='hot_r')\n",
    "geoplotlib.set_smoothing(True)\n",
    "geoplotlib.show()"
   ]
  },
  {
   "cell_type": "markdown",
   "metadata": {},
   "source": [
    "Using the `hot_r` color map allows us to get a clear and visually striking representation, making the areas of interest stand out effectively.\n",
    "\n",
    "### 2.5 Choropleth Plot\n",
    "\n",
    "The choropleth plot shows areas, such as country states, shaded or colored based on a single data point or a set of data points. It provides an abstract view of the geographical area, enabling visualization of relationships and differences between different regions. \n",
    "\n",
    "In the code and visual example below, we can observe that the shade of each US state is determined by the unemployment rate, with darker shades indicating higher rates. Download your dataset from [here](https://github.com/PacktWorkshops/The-Data-Visualization-Workshop/blob/master/Datasets/unemployment.json)"
   ]
  },
  {
   "cell_type": "code",
   "execution_count": null,
   "metadata": {},
   "outputs": [],
   "source": [
    "import geoplotlib\n",
    "from geoplotlib.utils import BoundingBox\n",
    "from geoplotlib.colors import ColorMap\n",
    "import json\n",
    "\n",
    "# Find the unemployment rate for the selected county, and convert it to color\n",
    "def get_color(properties):\n",
    "    key = str(int(properties['STATE'])) \\\n",
    "          + properties['COUNTY']\n",
    "    if key in unemployment_rates:\n",
    "        return cmap.to_color(unemployment_rates.get(key), \\\n",
    "                             .15, 'lin')\n",
    "    else:\n",
    "        return [0, 0, 0, 0]\n",
    "    \n",
    "# Get unemployment data\n",
    "with open('data/unemployment.json') as fin:\n",
    "    unemployment_rates = json.load(fin)\n",
    "\n",
    "# Plot the outlines of the states and color them using the unemployment rate\n",
    "cmap = ColorMap('Blues', alpha=255, levels=10)\n",
    "geoplotlib.geojson('data/us_states_shapes.json', \\\n",
    "                   fill=True, color=get_color, \\\n",
    "                   f_tooltip=lambda properties: properties['NAME'])\n",
    "geoplotlib.geojson('data/us_states_shapes.json', \\\n",
    "                   fill=False, color=[255, 255, 255, 64])\n",
    "geoplotlib.set_bbox(BoundingBox.USA)\n",
    "geoplotlib.show()"
   ]
  },
  {
   "cell_type": "markdown",
   "metadata": {},
   "source": [
    "Let's break down what's happening in the code for a better understanding.\n",
    "\n",
    "* First, we import necessary libraries like geoplotlib and json to handle the dataset provided in a specific format.\n",
    "* Next, there's a method called `get_color`, which determines the color based on the unemployment rate of each data point. It sets the darkness of the blue value used for visualization.\n",
    "* In the rest of the code, we read the dataset and use the geojson method to create more complex shapes, allowing us to visualize data with choropleth plots. Additionally, we can display city names when hovering over them.\n",
    "\n",
    "The `BoundingBox` object helps define the initial focus of the visualization, making it easier for users to grasp the context without panning or zooming around first.\n",
    "\n",
    "### 2.6 Moving Points\n",
    "\n",
    "Another fascinating application of geoplotlib is visualizing the movements of objects. For instance, you can use the code below to track taxi movements and witness the output yourself.\n",
    "\n",
    "This part exercise is adapted from the article [Geoplotlib: Exploring the World with Python](https://medium.com/@HeCanThink/geoplotlib-exploring-the-world-with-python-%EF%B8%8F-bbd2bd583760). You can get the taxi dataset from [here](https://github.com/andrea-cuttone/geoplotlib/blob/master/examples/data/taxi.csv)."
   ]
  },
  {
   "cell_type": "code",
   "execution_count": null,
   "metadata": {
    "tags": []
   },
   "outputs": [],
   "source": [
    "from geoplotlib.layers import BaseLayer\n",
    "from geoplotlib.core import BatchPainter\n",
    "import geoplotlib\n",
    "from geoplotlib.colors import colorbrewer\n",
    "from geoplotlib.utils import epoch_to_str, BoundingBox, read_csv\n",
    "\n",
    "\n",
    "class TrailsLayer(BaseLayer):\n",
    "\n",
    "    def __init__(self):\n",
    "        self.data = read_csv('data/taxi.csv')\n",
    "        self.cmap = colorbrewer(self.data['taxi_id'], alpha=220)\n",
    "        self.t = self.data['timestamp'].min()\n",
    "        self.painter = BatchPainter()\n",
    "\n",
    "\n",
    "    def draw(self, proj, mouse_x, mouse_y, ui_manager):\n",
    "        self.painter = BatchPainter()\n",
    "        df = self.data.where((self.data['timestamp'] > self.t) & (self.data['timestamp'] <= self.t + 15*60))\n",
    "\n",
    "        for taxi_id in set(df['taxi_id']):\n",
    "            grp = df.where(df['taxi_id'] == taxi_id)\n",
    "            self.painter.set_color(self.cmap[taxi_id])\n",
    "            x, y = proj.lonlat_to_screen(grp['lon'], grp['lat'])\n",
    "            self.painter.points(x, y, 10)\n",
    "\n",
    "        self.t += 2*60\n",
    "\n",
    "        if self.t > self.data['timestamp'].max():\n",
    "            self.t = self.data['timestamp'].min()\n",
    "\n",
    "        self.painter.batch_draw()\n",
    "        ui_manager.info(epoch_to_str(self.t))\n",
    "\n",
    "\n",
    "    def bbox(self):\n",
    "        return BoundingBox(north=40.110222, west=115.924463, south=39.705711, east=116.803369)\n",
    "\n",
    "\n",
    "geoplotlib.add_layer(TrailsLayer())\n",
    "geoplotlib.show()"
   ]
  },
  {
   "cell_type": "markdown",
   "metadata": {},
   "source": [
    "## 3. Conclusion\n",
    "\n",
    "In this notebook, we explored geoplotlib extensively, learning both basic and advanced concepts. It provided valuable insights into the library's inner workings and showed practical applications for different scenarios. The built-in plots are suitable for most needs, but we also learned how to create custom layers for animated and interactive visualizations. The notebook equips you with the knowledge and tools to effectively use geoplotlib for visualizing geographical data."
   ]
  },
  {
   "cell_type": "markdown",
   "metadata": {},
   "source": [
    "***\n",
    "\n",
    "## Bonus Exercises\n",
    "\n",
    "We will use the `%load` command to load the content of a specified file into the cell, primarily for the purpose of incorporating solutions once you have finished the exercises."
   ]
  },
  {
   "cell_type": "markdown",
   "metadata": {},
   "source": [
    "### E: Dot Map\n",
    "\n",
    "In this exercise, we are going to create a DataFrame for the dataset and use `geoplotlib` to plot it on a dot map. You can follow these steps:\n",
    "\n",
    "*Step 1: Import the necessary libraries.*"
   ]
  },
  {
   "cell_type": "code",
   "execution_count": null,
   "metadata": {},
   "outputs": [],
   "source": [
    "import pandas as pd\n",
    "import geoplotlib\n",
    "from geoplotlib.utils import read_csv"
   ]
  },
  {
   "cell_type": "markdown",
   "metadata": {},
   "source": [
    "*Step 2: Define a dataset in a list of dictionaries and create a DataFrame from the dataset.*"
   ]
  },
  {
   "cell_type": "code",
   "execution_count": null,
   "metadata": {},
   "outputs": [],
   "source": [
    "data = [\n",
    "    {\"Farm_Name\": \"Farm_A\", \"Latitude\": 34.1234, \"Longitude\": -118.5678, \"Crop\": \"Wheat\"},\n",
    "    {\"Farm_Name\": \"Farm_B\", \"Latitude\": 35.4321, \"Longitude\": -120.8765, \"Crop\": \"Corn\"},\n",
    "    {\"Farm_Name\": \"Farm_C\", \"Latitude\": 33.9876, \"Longitude\": -117.5432, \"Crop\": \"Soybean\"},\n",
    "    {\"Farm_Name\": \"Farm_D\", \"Latitude\": 34.5678, \"Longitude\": -119.4321, \"Crop\": \"Potato\"},\n",
    "    {\"Farm_Name\": \"Farm_E\", \"Latitude\": 35.8765, \"Longitude\": -121.3210, \"Crop\": \"Cotton\"},\n",
    "    {\"Farm_Name\": \"Farm_F\", \"Latitude\": 34.7654, \"Longitude\": -120.1234, \"Crop\": \"Barley\"},\n",
    "    {\"Farm_Name\": \"Farm_G\", \"Latitude\": 34.9876, \"Longitude\": -118.8765, \"Crop\": \"Rice\"},\n",
    "    {\"Farm_Name\": \"Farm_H\", \"Latitude\": 35.6543, \"Longitude\": -121.4321, \"Crop\": \"Sunflower\"},\n",
    "    {\"Farm_Name\": \"Farm_I\", \"Latitude\": 35.8765, \"Longitude\": -119.5432, \"Crop\": \"Tomato\"},\n",
    "    {\"Farm_Name\": \"Farm_J\", \"Latitude\": 34.6543, \"Longitude\": -119.9876, \"Crop\": \"Strawberry\"}\n",
    "]\n",
    "\n",
    "df = pd.DataFrame(data)"
   ]
  },
  {
   "cell_type": "markdown",
   "metadata": {},
   "source": [
    "*Step 3: Create a dot map visualization using geoplotlib for the DataFrame.*"
   ]
  },
  {
   "cell_type": "code",
   "execution_count": null,
   "metadata": {},
   "outputs": [],
   "source": [
    "# Code it"
   ]
  },
  {
   "cell_type": "markdown",
   "metadata": {},
   "source": [
    "**Solution**"
   ]
  },
  {
   "cell_type": "code",
   "execution_count": null,
   "metadata": {},
   "outputs": [],
   "source": [
    "%load solutions/05.3_dot_map"
   ]
  }
 ],
 "metadata": {
  "kernelspec": {
   "display_name": "UFRC Python-3.8",
   "language": "python",
   "name": "python3-3.8-ufrc"
  },
  "language_info": {
   "codemirror_mode": {
    "name": "ipython",
    "version": 3
   },
   "file_extension": ".py",
   "mimetype": "text/x-python",
   "name": "python",
   "nbconvert_exporter": "python",
   "pygments_lexer": "ipython3",
   "version": "3.8.5"
  }
 },
 "nbformat": 4,
 "nbformat_minor": 4
}
