{
 "cells": [
  {
   "cell_type": "markdown",
   "metadata": {
    "tags": []
   },
   "source": [
    "![Practicum AI Logo image](https://github.com/PracticumAI/practicumai.github.io/blob/main/images/logo/PracticumAI_logo_250x50.png?raw=true)  <img src='images/data_wrangling.png' align='right' width=100>\n",
    "\n",
    "# *Practicum AI Data*: RAPIDS - cuDF\n",
    "\n",
    "This exercise is inspired by [Nvidia's online deep learning courses](https://courses.nvidia.com/courses/course-v1:DLI+S-DS-01+V1/).\n",
    "***\n",
    "\n",
    "In this notebook, we will start to explore [RAPIDS](https://rapids.ai/), a data science framework which inculde a collection of libraries for running end-to-end data science pipelines completely on the GPU. <img src='images/RAPIDS-logo-purple.png' align='right' width=200>The interaction is designed to have a familiar look and feel to working in Python, but utilizes optimized NVIDIA® CUDA® primitives and high-bandwidth GPU memory under the hood.\n",
    "\n",
    "![The Rapids pipeline](images/rapids_arrow.png)\n",
    "\n",
    "In this notebook, we will just focus on the [cuDF](https://docs.rapids.ai/api/cudf/stable/) library and compare the performance with pandas.\n",
    "\n",
    "## Objectives\n",
    "\n",
    "By the end of this notebook, you will be able to:\n",
    "\n",
    "1. Perform data reading and writing operations using cuDF.\n",
    "2. Compare the performance of basic data manipulations between cuDF and pandas.\n",
    "\n",
    "## 1. cuDF \n",
    "\n",
    "cuDF is a Python GPU DataFrame library (built on the Apache Arrow columnar memory format) for loading, joining, aggregating, filtering, and otherwise manipulating data. cuDF also provides a pandas-like API that will be familiar to data engineers & data scientists, so they can use it to easily accelerate their workflows without going into the details of CUDA programming.\n",
    "\n",
    "**Why use cuDF?**\n",
    "\n",
    "* Enhanced Performance: By utilizing GPUs, cuDF can process data at a much faster rate compared to traditional CPU-based frameworks, enabling quicker analysis and exploration of large datasets.\n",
    "\n",
    "* Seamless Transition: cuDF's pandas-like API allows users familiar with pandas to easily switch to cuDF without extensive relearning, saving time and effort.\n",
    "\n",
    "* Scalability: cuDF's ability to efficiently handle large datasets enables users to work with massive amounts of data that would otherwise be challenging or impossible to process with traditional tools, empowering data scientists and analysts to tackle more complex tasks.\n",
    "\n",
    "**The features of cuDF**\n",
    "\n",
    "* GPU Acceleration: cuDF leverages the power of GPUs to accelerate data processing, offering significant performance improvements compared to traditional CPU-based data processing frameworks.\n",
    "\n",
    "* Familiar API: cuDF provides an API that closely resembles pandas, making it easy for pandas users to transition to cuDF and leverage their existing knowledge and codebase.\n",
    "\n",
    "* Efficient Handling of Large Datasets: cuDF is designed to efficiently handle large datasets that exceed the memory capacity of a single GPU or CPU, utilizing GPU memory management techniques and supporting out-of-core processing."
   ]
  },
  {
   "cell_type": "markdown",
   "metadata": {},
   "source": [
    "## 2. cuDF vs pandas\n",
    "\n",
    "**Available GPU Accelerators**\n",
    "\n",
    "To obtain details about the available GPUs in your environment, their current memory usage, and any active processes utilizing them, please execute the following cells."
   ]
  },
  {
   "cell_type": "code",
   "execution_count": 1,
   "metadata": {},
   "outputs": [
    {
     "name": "stdout",
     "output_type": "stream",
     "text": [
      "GPU Available: True\n"
     ]
    }
   ],
   "source": [
    "# Check GPU availability\n",
    "\n",
    "from numba import cuda\n",
    "\n",
    "cuda_available = cuda.is_available()\n",
    "print(\"GPU Available:\", cuda_available)"
   ]
  },
  {
   "cell_type": "markdown",
   "metadata": {},
   "source": [
    "Running the `nvidia-smi` command provides detailed information about the GPUs, including utilization, memory usage, temperature, power consumption, and more."
   ]
  },
  {
   "cell_type": "code",
   "execution_count": 2,
   "metadata": {},
   "outputs": [
    {
     "name": "stdout",
     "output_type": "stream",
     "text": [
      "Wed May 31 11:57:03 2023       \n",
      "+-----------------------------------------------------------------------------+\n",
      "| NVIDIA-SMI 470.141.03   Driver Version: 470.141.03   CUDA Version: 11.4     |\n",
      "|-------------------------------+----------------------+----------------------+\n",
      "| GPU  Name        Persistence-M| Bus-Id        Disp.A | Volatile Uncorr. ECC |\n",
      "| Fan  Temp  Perf  Pwr:Usage/Cap|         Memory-Usage | GPU-Util  Compute M. |\n",
      "|                               |                      |               MIG M. |\n",
      "|===============================+======================+======================|\n",
      "|   0  NVIDIA A100-SXM...  On   | 00000000:07:00.0 Off |                    0 |\n",
      "| N/A   51C    P0   311W / 400W |   3004MiB / 81251MiB |     89%      Default |\n",
      "|                               |                      |             Disabled |\n",
      "+-------------------------------+----------------------+----------------------+\n",
      "|   1  NVIDIA A100-SXM...  On   | 00000000:0F:00.0 Off |                    0 |\n",
      "| N/A   26C    P0    61W / 400W |      0MiB / 81251MiB |      0%      Default |\n",
      "|                               |                      |             Disabled |\n",
      "+-------------------------------+----------------------+----------------------+\n",
      "|   2  NVIDIA A100-SXM...  On   | 00000000:47:00.0 Off |                    0 |\n",
      "| N/A   27C    P0    67W / 400W |   1706MiB / 81251MiB |      0%      Default |\n",
      "|                               |                      |             Disabled |\n",
      "+-------------------------------+----------------------+----------------------+\n",
      "|   3  NVIDIA A100-SXM...  On   | 00000000:4E:00.0 Off |                    0 |\n",
      "| N/A   28C    P0    69W / 400W |   5512MiB / 81251MiB |      0%      Default |\n",
      "|                               |                      |             Disabled |\n",
      "+-------------------------------+----------------------+----------------------+\n",
      "|   4  NVIDIA A100-SXM...  On   | 00000000:87:00.0 Off |                    0 |\n",
      "| N/A   43C    P0    66W / 400W |      3MiB / 81251MiB |      0%      Default |\n",
      "|                               |                      |             Disabled |\n",
      "+-------------------------------+----------------------+----------------------+\n",
      "|   5  NVIDIA A100-SXM...  On   | 00000000:90:00.0 Off |                    0 |\n",
      "| N/A   31C    P0    62W / 400W |      0MiB / 81251MiB |      0%      Default |\n",
      "|                               |                      |             Disabled |\n",
      "+-------------------------------+----------------------+----------------------+\n",
      "|   6  NVIDIA A100-SXM...  On   | 00000000:B7:00.0 Off |                    0 |\n",
      "| N/A   31C    P0    63W / 400W |      3MiB / 81251MiB |      0%      Default |\n",
      "|                               |                      |             Disabled |\n",
      "+-------------------------------+----------------------+----------------------+\n",
      "|   7  NVIDIA A100-SXM...  On   | 00000000:BD:00.0 Off |                    0 |\n",
      "| N/A   35C    P0    94W / 400W |   4606MiB / 81251MiB |     30%      Default |\n",
      "|                               |                      |             Disabled |\n",
      "+-------------------------------+----------------------+----------------------+\n",
      "                                                                               \n",
      "+-----------------------------------------------------------------------------+\n",
      "| Processes:                                                                  |\n",
      "|  GPU   GI   CI        PID   Type   Process name                  GPU Memory |\n",
      "|        ID   ID                                                   Usage      |\n",
      "|=============================================================================|\n",
      "|    0   N/A  N/A     82871      C   .../SiC/envs/deepmd/bin/_lmp     3001MiB |\n",
      "|    2   N/A  N/A     47659      C   python                           1703MiB |\n",
      "|    3   N/A  N/A    102055      C   ...da/envs/MDR/bin/python3.6     5509MiB |\n",
      "|    7   N/A  N/A       773      C   /opt/conda/bin/python            4603MiB |\n",
      "+-----------------------------------------------------------------------------+\n"
     ]
    }
   ],
   "source": [
    "!nvidia-smi"
   ]
  },
  {
   "cell_type": "markdown",
   "metadata": {},
   "source": [
    "**Time commands**\n",
    "\n",
    "In Jupyter coding environments, you can utilize time commands that are recognizable by the presence of `%` or `%%`. These time commands will provide summary information about the execution time of code for a single line or an entire cell.\n",
    "\n",
    "To compare the performance between pandas and cuDF, you can employ the `%time` command to measure the execution time of code for a line, and the `%%time` command to measure the execution time of code for an entire cell. This will allow you to assess and compare the performance of the two libraries."
   ]
  },
  {
   "cell_type": "code",
   "execution_count": 3,
   "metadata": {},
   "outputs": [
    {
     "name": "stdout",
     "output_type": "stream",
     "text": [
      "CPU times: user 57 µs, sys: 1.08 ms, total: 1.14 ms\n",
      "Wall time: 2 s\n"
     ]
    }
   ],
   "source": [
    "from time import sleep\n",
    "\n",
    "%time sleep(2) # %time only times one line\n",
    "sleep(1)"
   ]
  },
  {
   "cell_type": "code",
   "execution_count": 6,
   "metadata": {},
   "outputs": [
    {
     "name": "stdout",
     "output_type": "stream",
     "text": [
      "CPU times: user 831 µs, sys: 65 µs, total: 896 µs\n",
      "Wall time: 3 s\n"
     ]
    }
   ],
   "source": [
    "%%time \n",
    "# %%time will time the entire cell\n",
    "\n",
    "sleep(1)\n",
    "sleep(2)"
   ]
  },
  {
   "cell_type": "markdown",
   "metadata": {},
   "source": [
    "### 2.1 Reading and Writing Data\n",
    "\n",
    "Using cuDF, a GPU-accelerated dataframe provided by the RAPIDS API, we have the capability to read data from various formats, including csv, json, parquet, feather, orc, and even Pandas dataframes.\n",
    "\n",
    "#### Reading Data\n",
    "\n",
    "In this notebook, we will focus on working with a substantial dataset consisting of nearly 20 million records. This dataset contains comprehensive information about different crops cultivated in the United States, including acreage, production, yield, and other relevant statistics. The dataset is sourced from the United States Department of Agriculture (USDA) National Agricultural Statistics Service, which diligently maintains agricultural data. For more information on obtaining this dataset, please refer to our [03.3_getting_data.ipynb](03.3_getting_data.ipynb) notebook.\n",
    "\n",
    "We will directly read the data from a local csv file into GPU memory, utilizing the capabilities of cuDF."
   ]
  },
  {
   "cell_type": "code",
   "execution_count": 7,
   "metadata": {},
   "outputs": [],
   "source": [
    "# Import necessary libraries\n",
    "\n",
    "import cudf\n",
    "import pandas as pd"
   ]
  },
  {
   "cell_type": "code",
   "execution_count": 8,
   "metadata": {},
   "outputs": [
    {
     "name": "stdout",
     "output_type": "stream",
     "text": [
      "CPU times: user 1.67 s, sys: 3.45 s, total: 5.12 s\n",
      "Wall time: 7.43 s\n"
     ]
    },
    {
     "data": {
      "text/plain": [
       "(20430138, 39)"
      ]
     },
     "execution_count": 8,
     "metadata": {},
     "output_type": "execute_result"
    }
   ],
   "source": [
    "%time gdf = cudf.read_csv('data/qs_crops.csv')\n",
    "gdf.shape"
   ]
  },
  {
   "cell_type": "code",
   "execution_count": 9,
   "metadata": {},
   "outputs": [
    {
     "data": {
      "text/plain": [
       "SOURCE_DESC              object\n",
       "SECTOR_DESC              object\n",
       "GROUP_DESC               object\n",
       "COMMODITY_DESC           object\n",
       "CLASS_DESC               object\n",
       "PRODN_PRACTICE_DESC      object\n",
       "UTIL_PRACTICE_DESC       object\n",
       "STATISTICCAT_DESC        object\n",
       "UNIT_DESC                object\n",
       "SHORT_DESC               object\n",
       "DOMAIN_DESC              object\n",
       "DOMAINCAT_DESC           object\n",
       "AGG_LEVEL_DESC           object\n",
       "STATE_ANSI                int64\n",
       "STATE_FIPS_CODE           int64\n",
       "STATE_ALPHA              object\n",
       "STATE_NAME               object\n",
       "ASD_CODE                  int64\n",
       "ASD_DESC                 object\n",
       "COUNTY_ANSI               int64\n",
       "COUNTY_CODE               int64\n",
       "COUNTY_NAME              object\n",
       "REGION_DESC              object\n",
       "ZIP_5                     int64\n",
       "WATERSHED_CODE            int64\n",
       "WATERSHED_DESC           object\n",
       "CONGR_DISTRICT_CODE        int8\n",
       "COUNTRY_CODE              int64\n",
       "COUNTRY_NAME             object\n",
       "LOCATION_DESC            object\n",
       "YEAR                      int64\n",
       "FREQ_DESC                object\n",
       "BEGIN_CODE                int64\n",
       "END_CODE                  int64\n",
       "REFERENCE_PERIOD_DESC    object\n",
       "WEEK_ENDING              object\n",
       "LOAD_TIME                object\n",
       "VALUE                    object\n",
       "CV_%                     object\n",
       "dtype: object"
      ]
     },
     "execution_count": 9,
     "metadata": {},
     "output_type": "execute_result"
    }
   ],
   "source": [
    "gdf.dtypes"
   ]
  },
  {
   "cell_type": "markdown",
   "metadata": {},
   "source": [
    "For the purpose of comparison, we will now read the same dataset into a Pandas dataframe."
   ]
  },
  {
   "cell_type": "code",
   "execution_count": 10,
   "metadata": {},
   "outputs": [
    {
     "name": "stdout",
     "output_type": "stream",
     "text": [
      "CPU times: user 1min 39s, sys: 17.5 s, total: 1min 56s\n",
      "Wall time: 1min 56s\n"
     ]
    },
    {
     "data": {
      "text/plain": [
       "True"
      ]
     },
     "execution_count": 10,
     "metadata": {},
     "output_type": "execute_result"
    }
   ],
   "source": [
    "%time df = pd.read_csv('data/qs_crops.csv', low_memory=False)\n",
    "gdf.shape == df.shape"
   ]
  },
  {
   "cell_type": "markdown",
   "metadata": {},
   "source": [
    "Throughout this notebook, we will frequently utilize **gdf** to represent a GPU dataframe, which stands for GPU-accelerated dataframe using cuDF. Similarly, we will use **df** to refer to a CPU dataframe when comparing performance between GPU and CPU computations.\n",
    "\n",
    "#### Writing to File\n",
    "\n",
    "In addition to reading data, cuDF also offers methods for writing data to files. We will create a new dataframe specifically containing crops data for the state of Florida and then write it to a file named *florida_crops.csv* using cuDF. We will also perform the same operation using Pandas for comparison purposes.\n",
    "\n",
    "**cuDF**"
   ]
  },
  {
   "cell_type": "code",
   "execution_count": 11,
   "metadata": {},
   "outputs": [
    {
     "name": "stdout",
     "output_type": "stream",
     "text": [
      "CPU times: user 19.7 ms, sys: 26.5 ms, total: 46.2 ms\n",
      "Wall time: 45 ms\n",
      "267542 rows crop data\n"
     ]
    }
   ],
   "source": [
    "%time florida_crops = gdf.loc[gdf['STATE_NAME'] == 'FLORIDA']\n",
    "print(f'{florida_crops.shape[0]} rows crop data')"
   ]
  },
  {
   "cell_type": "code",
   "execution_count": 15,
   "metadata": {},
   "outputs": [
    {
     "name": "stdout",
     "output_type": "stream",
     "text": [
      "CPU times: user 19.7 ms, sys: 104 ms, total: 124 ms\n",
      "Wall time: 199 ms\n"
     ]
    }
   ],
   "source": [
    "%time florida_crops.to_csv('data/florida_crops.csv')"
   ]
  },
  {
   "cell_type": "markdown",
   "metadata": {},
   "source": [
    "**pandas**"
   ]
  },
  {
   "cell_type": "code",
   "execution_count": 16,
   "metadata": {},
   "outputs": [
    {
     "name": "stdout",
     "output_type": "stream",
     "text": [
      "CPU times: user 1.2 s, sys: 96.1 ms, total: 1.3 s\n",
      "Wall time: 1.29 s\n",
      "267542 rows crop data\n"
     ]
    }
   ],
   "source": [
    "%time florida_crops_pd = df.loc[df['STATE_NAME'] == 'FLORIDA']\n",
    "print(f'{florida_crops.shape[0]} rows crop data')"
   ]
  },
  {
   "cell_type": "code",
   "execution_count": 17,
   "metadata": {},
   "outputs": [
    {
     "name": "stdout",
     "output_type": "stream",
     "text": [
      "CPU times: user 2.9 s, sys: 63 ms, total: 2.96 s\n",
      "Wall time: 3.09 s\n"
     ]
    }
   ],
   "source": [
    "%time florida_crops_pd.to_csv('data/florida_crops_pd.csv')"
   ]
  },
  {
   "cell_type": "markdown",
   "metadata": {},
   "source": [
    "### 2.2 Converting Data Types\n",
    "\n",
    "Aside from its superior performance with large datasets, cuDF closely resembles the syntax and functionality of Pandas. In this section, we will showcase a few simple operations to highlight the similarities. It's worth noting that, in cuDF, column operations are generally more efficient than row-wise operations.\n",
    "\n",
    "There are instances where we need to convert integer values into floats. In the following example, we will convert the 'COUNTY_CODE' column from an object datatype to float32 in cuDF. We will also compare the performance of this operation with Pandas.\n",
    "\n",
    "**cuDF**"
   ]
  },
  {
   "cell_type": "code",
   "execution_count": 18,
   "metadata": {},
   "outputs": [
    {
     "name": "stdout",
     "output_type": "stream",
     "text": [
      "CPU times: user 548 µs, sys: 2.75 ms, total: 3.3 ms\n",
      "Wall time: 2.64 ms\n"
     ]
    }
   ],
   "source": [
    "%time gdf['COUNTY_CODE'] = gdf['COUNTY_CODE'].astype('float32')"
   ]
  },
  {
   "cell_type": "markdown",
   "metadata": {},
   "source": [
    "**pandas**"
   ]
  },
  {
   "cell_type": "code",
   "execution_count": 19,
   "metadata": {},
   "outputs": [
    {
     "name": "stdout",
     "output_type": "stream",
     "text": [
      "CPU times: user 68.4 ms, sys: 367 ms, total: 435 ms\n",
      "Wall time: 434 ms\n"
     ]
    }
   ],
   "source": [
    "%time df['COUNTY_CODE'] = df['COUNTY_CODE'].astype('float32')"
   ]
  },
  {
   "cell_type": "markdown",
   "metadata": {},
   "source": [
    "### 2.3 Column-Wise Aggregations\n",
    "\n",
    "Column-wise aggregations leverage the architecture of the GPU and the memory format of RAPIDS to achieve efficient computations.\n",
    "\n",
    "**cuDF**"
   ]
  },
  {
   "cell_type": "code",
   "execution_count": 21,
   "metadata": {},
   "outputs": [
    {
     "name": "stdout",
     "output_type": "stream",
     "text": [
      "CPU times: user 10.7 s, sys: 535 ms, total: 11.3 s\n",
      "Wall time: 11.2 s\n"
     ]
    }
   ],
   "source": [
    "%%time\n",
    "\n",
    "# Convert the data type of the \"VALUE\" column from object to float\n",
    "\n",
    "import numpy as np\n",
    "\n",
    "gdf_value = []\n",
    "\n",
    "numpy_array=gdf['VALUE'].to_numpy()\n",
    "\n",
    "for value in numpy_array:\n",
    "    if value is None:\n",
    "         value = 0\n",
    "    try:\n",
    "        gdf_value.append(float(value))\n",
    "    except ValueError:\n",
    "        gdf_value.append(np.nan)\n",
    "        \n",
    "gdf_value = cudf.DataFrame(gdf_value)"
   ]
  },
  {
   "cell_type": "code",
   "execution_count": 22,
   "metadata": {},
   "outputs": [
    {
     "name": "stdout",
     "output_type": "stream",
     "text": [
      "CPU times: user 4.33 ms, sys: 1.01 ms, total: 5.34 ms\n",
      "Wall time: 4.63 ms\n"
     ]
    },
    {
     "data": {
      "text/plain": [
       "0    72.457203\n",
       "dtype: float64"
      ]
     },
     "execution_count": 22,
     "metadata": {},
     "output_type": "execute_result"
    }
   ],
   "source": [
    "%time gdf_value.mean()"
   ]
  },
  {
   "cell_type": "markdown",
   "metadata": {},
   "source": [
    "**pandas**"
   ]
  },
  {
   "cell_type": "code",
   "execution_count": 23,
   "metadata": {},
   "outputs": [
    {
     "name": "stdout",
     "output_type": "stream",
     "text": [
      "CPU times: user 11 s, sys: 495 ms, total: 11.5 s\n",
      "Wall time: 11.4 s\n"
     ]
    }
   ],
   "source": [
    "%%time\n",
    "\n",
    "# Convert the data type of the \"VALUE\" column from object to float\n",
    "\n",
    "import numpy as np\n",
    "\n",
    "df_value = []\n",
    "\n",
    "numpy_array=df['VALUE'].to_numpy()\n",
    "\n",
    "for value in numpy_array:\n",
    "    if value is None:\n",
    "         value = 0\n",
    "    try:\n",
    "        df_value.append(float(value))\n",
    "    except ValueError:\n",
    "        df_value.append(np.nan)\n",
    "        \n",
    "df_value = pd.DataFrame(df_value)"
   ]
  },
  {
   "cell_type": "code",
   "execution_count": 24,
   "metadata": {},
   "outputs": [
    {
     "name": "stdout",
     "output_type": "stream",
     "text": [
      "CPU times: user 124 ms, sys: 80.9 ms, total: 205 ms\n",
      "Wall time: 204 ms\n"
     ]
    },
    {
     "data": {
      "text/plain": [
       "0    72.457228\n",
       "dtype: float64"
      ]
     },
     "execution_count": 24,
     "metadata": {},
     "output_type": "execute_result"
    }
   ],
   "source": [
    "%time df_value.mean()"
   ]
  },
  {
   "cell_type": "markdown",
   "metadata": {},
   "source": [
    "### 2.4 Data Subsetting \n",
    "\n",
    "cuDF also provides support for two core data subsetting tools: `loc` (label-based locator) and `iloc` (integer-based locator).\n",
    "\n",
    "In our dataset, the labels happen to be incrementing numbers. Similar to Pandas, the `loc` function includes every value it is passed, while the `iloc` function provides a half-open range, excluding the final value. These functions allow for flexible and precise data subsetting based on labels or integer positions, depending on your specific requirements."
   ]
  },
  {
   "cell_type": "code",
   "execution_count": 25,
   "metadata": {},
   "outputs": [
    {
     "data": {
      "text/html": [
       "<div>\n",
       "<style scoped>\n",
       "    .dataframe tbody tr th:only-of-type {\n",
       "        vertical-align: middle;\n",
       "    }\n",
       "\n",
       "    .dataframe tbody tr th {\n",
       "        vertical-align: top;\n",
       "    }\n",
       "\n",
       "    .dataframe thead th {\n",
       "        text-align: right;\n",
       "    }\n",
       "</style>\n",
       "<table border=\"1\" class=\"dataframe\">\n",
       "  <thead>\n",
       "    <tr style=\"text-align: right;\">\n",
       "      <th></th>\n",
       "      <th>SOURCE_DESC</th>\n",
       "      <th>SECTOR_DESC</th>\n",
       "      <th>GROUP_DESC</th>\n",
       "      <th>COMMODITY_DESC</th>\n",
       "      <th>CLASS_DESC</th>\n",
       "      <th>PRODN_PRACTICE_DESC</th>\n",
       "      <th>UTIL_PRACTICE_DESC</th>\n",
       "      <th>STATISTICCAT_DESC</th>\n",
       "      <th>UNIT_DESC</th>\n",
       "      <th>SHORT_DESC</th>\n",
       "      <th>...</th>\n",
       "      <th>LOCATION_DESC</th>\n",
       "      <th>YEAR</th>\n",
       "      <th>FREQ_DESC</th>\n",
       "      <th>BEGIN_CODE</th>\n",
       "      <th>END_CODE</th>\n",
       "      <th>REFERENCE_PERIOD_DESC</th>\n",
       "      <th>WEEK_ENDING</th>\n",
       "      <th>LOAD_TIME</th>\n",
       "      <th>VALUE</th>\n",
       "      <th>CV_%</th>\n",
       "    </tr>\n",
       "  </thead>\n",
       "  <tbody>\n",
       "    <tr>\n",
       "      <th>200</th>\n",
       "      <td>CENSUS</td>\n",
       "      <td>CROPS</td>\n",
       "      <td>FIELD CROPS</td>\n",
       "      <td>HAY</td>\n",
       "      <td>ALFALFA</td>\n",
       "      <td>IRRIGATED</td>\n",
       "      <td>ALL UTILIZATION PRACTICES</td>\n",
       "      <td>AREA HARVESTED</td>\n",
       "      <td>OPERATIONS</td>\n",
       "      <td>HAY, ALFALFA, IRRIGATED - OPERATIONS WITH AREA...</td>\n",
       "      <td>...</td>\n",
       "      <td>MICHIGAN, CENTRAL, GLADWIN</td>\n",
       "      <td>2007</td>\n",
       "      <td>ANNUAL</td>\n",
       "      <td>0</td>\n",
       "      <td>0</td>\n",
       "      <td>YEAR</td>\n",
       "      <td>&lt;NA&gt;</td>\n",
       "      <td>2012-01-01 00:00:00</td>\n",
       "      <td>3</td>\n",
       "      <td>\u0000</td>\n",
       "    </tr>\n",
       "    <tr>\n",
       "      <th>201</th>\n",
       "      <td>SURVEY</td>\n",
       "      <td>CROPS</td>\n",
       "      <td>FIELD CROPS</td>\n",
       "      <td>SOYBEANS</td>\n",
       "      <td>ALL CLASSES</td>\n",
       "      <td>NON-IRRIGATED</td>\n",
       "      <td>ALL UTILIZATION PRACTICES</td>\n",
       "      <td>PRODUCTION</td>\n",
       "      <td>BU</td>\n",
       "      <td>SOYBEANS, NON-IRRIGATED - PRODUCTION, MEASURED...</td>\n",
       "      <td>...</td>\n",
       "      <td>NEBRASKA</td>\n",
       "      <td>1988</td>\n",
       "      <td>ANNUAL</td>\n",
       "      <td>0</td>\n",
       "      <td>0</td>\n",
       "      <td>YEAR</td>\n",
       "      <td>&lt;NA&gt;</td>\n",
       "      <td>2012-01-01 00:00:00</td>\n",
       "      <td>44,054,000</td>\n",
       "      <td>\u0000</td>\n",
       "    </tr>\n",
       "    <tr>\n",
       "      <th>202</th>\n",
       "      <td>CENSUS</td>\n",
       "      <td>CROPS</td>\n",
       "      <td>FIELD CROPS</td>\n",
       "      <td>WHEAT</td>\n",
       "      <td>ALL CLASSES</td>\n",
       "      <td>ALL PRODUCTION PRACTICES</td>\n",
       "      <td>ALL UTILIZATION PRACTICES</td>\n",
       "      <td>AREA HARVESTED</td>\n",
       "      <td>OPERATIONS</td>\n",
       "      <td>WHEAT - OPERATIONS WITH AREA HARVESTED</td>\n",
       "      <td>...</td>\n",
       "      <td>VIRGINIA, CENTRAL, APPOMATTOX</td>\n",
       "      <td>2007</td>\n",
       "      <td>ANNUAL</td>\n",
       "      <td>0</td>\n",
       "      <td>0</td>\n",
       "      <td>YEAR</td>\n",
       "      <td>&lt;NA&gt;</td>\n",
       "      <td>2012-01-01 00:00:00</td>\n",
       "      <td>2</td>\n",
       "      <td>\u0000</td>\n",
       "    </tr>\n",
       "    <tr>\n",
       "      <th>203</th>\n",
       "      <td>SURVEY</td>\n",
       "      <td>CROPS</td>\n",
       "      <td>FIELD CROPS</td>\n",
       "      <td>WHEAT</td>\n",
       "      <td>ALL CLASSES</td>\n",
       "      <td>ALL PRODUCTION PRACTICES</td>\n",
       "      <td>ALL UTILIZATION PRACTICES</td>\n",
       "      <td>YIELD</td>\n",
       "      <td>BU / ACRE</td>\n",
       "      <td>WHEAT - YIELD, MEASURED IN BU / ACRE</td>\n",
       "      <td>...</td>\n",
       "      <td>IOWA, NORTHWEST, OSCEOLA</td>\n",
       "      <td>1985</td>\n",
       "      <td>ANNUAL</td>\n",
       "      <td>0</td>\n",
       "      <td>0</td>\n",
       "      <td>YEAR</td>\n",
       "      <td>&lt;NA&gt;</td>\n",
       "      <td>2012-01-01 00:00:00</td>\n",
       "      <td>43</td>\n",
       "      <td>\u0000</td>\n",
       "    </tr>\n",
       "    <tr>\n",
       "      <th>204</th>\n",
       "      <td>SURVEY</td>\n",
       "      <td>CROPS</td>\n",
       "      <td>FIELD CROPS</td>\n",
       "      <td>TOBACCO</td>\n",
       "      <td>FIRE-CURED VA BELT (TYPE 21)</td>\n",
       "      <td>ALL PRODUCTION PRACTICES</td>\n",
       "      <td>ALL UTILIZATION PRACTICES</td>\n",
       "      <td>YIELD</td>\n",
       "      <td>LB / ACRE</td>\n",
       "      <td>TOBACCO, FIRE-CURED VA BELT (TYPE 21) - YIELD,...</td>\n",
       "      <td>...</td>\n",
       "      <td>VIRGINIA, CENTRAL, NELSON</td>\n",
       "      <td>1944</td>\n",
       "      <td>ANNUAL</td>\n",
       "      <td>0</td>\n",
       "      <td>0</td>\n",
       "      <td>YEAR</td>\n",
       "      <td>&lt;NA&gt;</td>\n",
       "      <td>2012-01-01 00:00:00</td>\n",
       "      <td>940</td>\n",
       "      <td>\u0000</td>\n",
       "    </tr>\n",
       "    <tr>\n",
       "      <th>205</th>\n",
       "      <td>SURVEY</td>\n",
       "      <td>CROPS</td>\n",
       "      <td>FIELD CROPS</td>\n",
       "      <td>TOBACCO</td>\n",
       "      <td>FLUE-CURED NC BORD &amp; SC BELT (TYPE 13)</td>\n",
       "      <td>ALL PRODUCTION PRACTICES</td>\n",
       "      <td>ALL UTILIZATION PRACTICES</td>\n",
       "      <td>AREA HARVESTED</td>\n",
       "      <td>ACRES</td>\n",
       "      <td>TOBACCO, FLUE-CURED NC BORD &amp; SC BELT (TYPE 13...</td>\n",
       "      <td>...</td>\n",
       "      <td>NORTH CAROLINA</td>\n",
       "      <td>1940</td>\n",
       "      <td>ANNUAL</td>\n",
       "      <td>0</td>\n",
       "      <td>0</td>\n",
       "      <td>YEAR</td>\n",
       "      <td>&lt;NA&gt;</td>\n",
       "      <td>2012-01-01 00:00:00</td>\n",
       "      <td>58,000</td>\n",
       "      <td>\u0000</td>\n",
       "    </tr>\n",
       "  </tbody>\n",
       "</table>\n",
       "<p>6 rows × 39 columns</p>\n",
       "</div>"
      ],
      "text/plain": [
       "    SOURCE_DESC SECTOR_DESC   GROUP_DESC COMMODITY_DESC  \\\n",
       "200      CENSUS       CROPS  FIELD CROPS            HAY   \n",
       "201      SURVEY       CROPS  FIELD CROPS       SOYBEANS   \n",
       "202      CENSUS       CROPS  FIELD CROPS          WHEAT   \n",
       "203      SURVEY       CROPS  FIELD CROPS          WHEAT   \n",
       "204      SURVEY       CROPS  FIELD CROPS        TOBACCO   \n",
       "205      SURVEY       CROPS  FIELD CROPS        TOBACCO   \n",
       "\n",
       "                                 CLASS_DESC       PRODN_PRACTICE_DESC  \\\n",
       "200                                 ALFALFA                 IRRIGATED   \n",
       "201                             ALL CLASSES             NON-IRRIGATED   \n",
       "202                             ALL CLASSES  ALL PRODUCTION PRACTICES   \n",
       "203                             ALL CLASSES  ALL PRODUCTION PRACTICES   \n",
       "204            FIRE-CURED VA BELT (TYPE 21)  ALL PRODUCTION PRACTICES   \n",
       "205  FLUE-CURED NC BORD & SC BELT (TYPE 13)  ALL PRODUCTION PRACTICES   \n",
       "\n",
       "            UTIL_PRACTICE_DESC STATISTICCAT_DESC   UNIT_DESC  \\\n",
       "200  ALL UTILIZATION PRACTICES    AREA HARVESTED  OPERATIONS   \n",
       "201  ALL UTILIZATION PRACTICES        PRODUCTION          BU   \n",
       "202  ALL UTILIZATION PRACTICES    AREA HARVESTED  OPERATIONS   \n",
       "203  ALL UTILIZATION PRACTICES             YIELD   BU / ACRE   \n",
       "204  ALL UTILIZATION PRACTICES             YIELD   LB / ACRE   \n",
       "205  ALL UTILIZATION PRACTICES    AREA HARVESTED       ACRES   \n",
       "\n",
       "                                            SHORT_DESC  ...  \\\n",
       "200  HAY, ALFALFA, IRRIGATED - OPERATIONS WITH AREA...  ...   \n",
       "201  SOYBEANS, NON-IRRIGATED - PRODUCTION, MEASURED...  ...   \n",
       "202             WHEAT - OPERATIONS WITH AREA HARVESTED  ...   \n",
       "203               WHEAT - YIELD, MEASURED IN BU / ACRE  ...   \n",
       "204  TOBACCO, FIRE-CURED VA BELT (TYPE 21) - YIELD,...  ...   \n",
       "205  TOBACCO, FLUE-CURED NC BORD & SC BELT (TYPE 13...  ...   \n",
       "\n",
       "                     LOCATION_DESC  YEAR  FREQ_DESC BEGIN_CODE  END_CODE  \\\n",
       "200     MICHIGAN, CENTRAL, GLADWIN  2007     ANNUAL          0         0   \n",
       "201                       NEBRASKA  1988     ANNUAL          0         0   \n",
       "202  VIRGINIA, CENTRAL, APPOMATTOX  2007     ANNUAL          0         0   \n",
       "203       IOWA, NORTHWEST, OSCEOLA  1985     ANNUAL          0         0   \n",
       "204      VIRGINIA, CENTRAL, NELSON  1944     ANNUAL          0         0   \n",
       "205                 NORTH CAROLINA  1940     ANNUAL          0         0   \n",
       "\n",
       "     REFERENCE_PERIOD_DESC WEEK_ENDING            LOAD_TIME       VALUE CV_%  \n",
       "200                   YEAR        <NA>  2012-01-01 00:00:00           3    \u0000  \n",
       "201                   YEAR        <NA>  2012-01-01 00:00:00  44,054,000    \u0000  \n",
       "202                   YEAR        <NA>  2012-01-01 00:00:00           2    \u0000  \n",
       "203                   YEAR        <NA>  2012-01-01 00:00:00          43    \u0000  \n",
       "204                   YEAR        <NA>  2012-01-01 00:00:00         940    \u0000  \n",
       "205                   YEAR        <NA>  2012-01-01 00:00:00      58,000    \u0000  \n",
       "\n",
       "[6 rows x 39 columns]"
      ]
     },
     "execution_count": 25,
     "metadata": {},
     "output_type": "execute_result"
    }
   ],
   "source": [
    "gdf.loc[200:205]"
   ]
  },
  {
   "cell_type": "code",
   "execution_count": 26,
   "metadata": {},
   "outputs": [
    {
     "data": {
      "text/html": [
       "<div>\n",
       "<style scoped>\n",
       "    .dataframe tbody tr th:only-of-type {\n",
       "        vertical-align: middle;\n",
       "    }\n",
       "\n",
       "    .dataframe tbody tr th {\n",
       "        vertical-align: top;\n",
       "    }\n",
       "\n",
       "    .dataframe thead th {\n",
       "        text-align: right;\n",
       "    }\n",
       "</style>\n",
       "<table border=\"1\" class=\"dataframe\">\n",
       "  <thead>\n",
       "    <tr style=\"text-align: right;\">\n",
       "      <th></th>\n",
       "      <th>SOURCE_DESC</th>\n",
       "      <th>SECTOR_DESC</th>\n",
       "      <th>GROUP_DESC</th>\n",
       "      <th>COMMODITY_DESC</th>\n",
       "      <th>CLASS_DESC</th>\n",
       "      <th>PRODN_PRACTICE_DESC</th>\n",
       "      <th>UTIL_PRACTICE_DESC</th>\n",
       "      <th>STATISTICCAT_DESC</th>\n",
       "      <th>UNIT_DESC</th>\n",
       "      <th>SHORT_DESC</th>\n",
       "      <th>...</th>\n",
       "      <th>LOCATION_DESC</th>\n",
       "      <th>YEAR</th>\n",
       "      <th>FREQ_DESC</th>\n",
       "      <th>BEGIN_CODE</th>\n",
       "      <th>END_CODE</th>\n",
       "      <th>REFERENCE_PERIOD_DESC</th>\n",
       "      <th>WEEK_ENDING</th>\n",
       "      <th>LOAD_TIME</th>\n",
       "      <th>VALUE</th>\n",
       "      <th>CV_%</th>\n",
       "    </tr>\n",
       "  </thead>\n",
       "  <tbody>\n",
       "    <tr>\n",
       "      <th>200</th>\n",
       "      <td>CENSUS</td>\n",
       "      <td>CROPS</td>\n",
       "      <td>FIELD CROPS</td>\n",
       "      <td>HAY</td>\n",
       "      <td>ALFALFA</td>\n",
       "      <td>IRRIGATED</td>\n",
       "      <td>ALL UTILIZATION PRACTICES</td>\n",
       "      <td>AREA HARVESTED</td>\n",
       "      <td>OPERATIONS</td>\n",
       "      <td>HAY, ALFALFA, IRRIGATED - OPERATIONS WITH AREA...</td>\n",
       "      <td>...</td>\n",
       "      <td>MICHIGAN, CENTRAL, GLADWIN</td>\n",
       "      <td>2007</td>\n",
       "      <td>ANNUAL</td>\n",
       "      <td>0</td>\n",
       "      <td>0</td>\n",
       "      <td>YEAR</td>\n",
       "      <td>&lt;NA&gt;</td>\n",
       "      <td>2012-01-01 00:00:00</td>\n",
       "      <td>3</td>\n",
       "      <td>\u0000</td>\n",
       "    </tr>\n",
       "    <tr>\n",
       "      <th>201</th>\n",
       "      <td>SURVEY</td>\n",
       "      <td>CROPS</td>\n",
       "      <td>FIELD CROPS</td>\n",
       "      <td>SOYBEANS</td>\n",
       "      <td>ALL CLASSES</td>\n",
       "      <td>NON-IRRIGATED</td>\n",
       "      <td>ALL UTILIZATION PRACTICES</td>\n",
       "      <td>PRODUCTION</td>\n",
       "      <td>BU</td>\n",
       "      <td>SOYBEANS, NON-IRRIGATED - PRODUCTION, MEASURED...</td>\n",
       "      <td>...</td>\n",
       "      <td>NEBRASKA</td>\n",
       "      <td>1988</td>\n",
       "      <td>ANNUAL</td>\n",
       "      <td>0</td>\n",
       "      <td>0</td>\n",
       "      <td>YEAR</td>\n",
       "      <td>&lt;NA&gt;</td>\n",
       "      <td>2012-01-01 00:00:00</td>\n",
       "      <td>44,054,000</td>\n",
       "      <td>\u0000</td>\n",
       "    </tr>\n",
       "    <tr>\n",
       "      <th>202</th>\n",
       "      <td>CENSUS</td>\n",
       "      <td>CROPS</td>\n",
       "      <td>FIELD CROPS</td>\n",
       "      <td>WHEAT</td>\n",
       "      <td>ALL CLASSES</td>\n",
       "      <td>ALL PRODUCTION PRACTICES</td>\n",
       "      <td>ALL UTILIZATION PRACTICES</td>\n",
       "      <td>AREA HARVESTED</td>\n",
       "      <td>OPERATIONS</td>\n",
       "      <td>WHEAT - OPERATIONS WITH AREA HARVESTED</td>\n",
       "      <td>...</td>\n",
       "      <td>VIRGINIA, CENTRAL, APPOMATTOX</td>\n",
       "      <td>2007</td>\n",
       "      <td>ANNUAL</td>\n",
       "      <td>0</td>\n",
       "      <td>0</td>\n",
       "      <td>YEAR</td>\n",
       "      <td>&lt;NA&gt;</td>\n",
       "      <td>2012-01-01 00:00:00</td>\n",
       "      <td>2</td>\n",
       "      <td>\u0000</td>\n",
       "    </tr>\n",
       "    <tr>\n",
       "      <th>203</th>\n",
       "      <td>SURVEY</td>\n",
       "      <td>CROPS</td>\n",
       "      <td>FIELD CROPS</td>\n",
       "      <td>WHEAT</td>\n",
       "      <td>ALL CLASSES</td>\n",
       "      <td>ALL PRODUCTION PRACTICES</td>\n",
       "      <td>ALL UTILIZATION PRACTICES</td>\n",
       "      <td>YIELD</td>\n",
       "      <td>BU / ACRE</td>\n",
       "      <td>WHEAT - YIELD, MEASURED IN BU / ACRE</td>\n",
       "      <td>...</td>\n",
       "      <td>IOWA, NORTHWEST, OSCEOLA</td>\n",
       "      <td>1985</td>\n",
       "      <td>ANNUAL</td>\n",
       "      <td>0</td>\n",
       "      <td>0</td>\n",
       "      <td>YEAR</td>\n",
       "      <td>&lt;NA&gt;</td>\n",
       "      <td>2012-01-01 00:00:00</td>\n",
       "      <td>43</td>\n",
       "      <td>\u0000</td>\n",
       "    </tr>\n",
       "    <tr>\n",
       "      <th>204</th>\n",
       "      <td>SURVEY</td>\n",
       "      <td>CROPS</td>\n",
       "      <td>FIELD CROPS</td>\n",
       "      <td>TOBACCO</td>\n",
       "      <td>FIRE-CURED VA BELT (TYPE 21)</td>\n",
       "      <td>ALL PRODUCTION PRACTICES</td>\n",
       "      <td>ALL UTILIZATION PRACTICES</td>\n",
       "      <td>YIELD</td>\n",
       "      <td>LB / ACRE</td>\n",
       "      <td>TOBACCO, FIRE-CURED VA BELT (TYPE 21) - YIELD,...</td>\n",
       "      <td>...</td>\n",
       "      <td>VIRGINIA, CENTRAL, NELSON</td>\n",
       "      <td>1944</td>\n",
       "      <td>ANNUAL</td>\n",
       "      <td>0</td>\n",
       "      <td>0</td>\n",
       "      <td>YEAR</td>\n",
       "      <td>&lt;NA&gt;</td>\n",
       "      <td>2012-01-01 00:00:00</td>\n",
       "      <td>940</td>\n",
       "      <td>\u0000</td>\n",
       "    </tr>\n",
       "  </tbody>\n",
       "</table>\n",
       "<p>5 rows × 39 columns</p>\n",
       "</div>"
      ],
      "text/plain": [
       "    SOURCE_DESC SECTOR_DESC   GROUP_DESC COMMODITY_DESC  \\\n",
       "200      CENSUS       CROPS  FIELD CROPS            HAY   \n",
       "201      SURVEY       CROPS  FIELD CROPS       SOYBEANS   \n",
       "202      CENSUS       CROPS  FIELD CROPS          WHEAT   \n",
       "203      SURVEY       CROPS  FIELD CROPS          WHEAT   \n",
       "204      SURVEY       CROPS  FIELD CROPS        TOBACCO   \n",
       "\n",
       "                       CLASS_DESC       PRODN_PRACTICE_DESC  \\\n",
       "200                       ALFALFA                 IRRIGATED   \n",
       "201                   ALL CLASSES             NON-IRRIGATED   \n",
       "202                   ALL CLASSES  ALL PRODUCTION PRACTICES   \n",
       "203                   ALL CLASSES  ALL PRODUCTION PRACTICES   \n",
       "204  FIRE-CURED VA BELT (TYPE 21)  ALL PRODUCTION PRACTICES   \n",
       "\n",
       "            UTIL_PRACTICE_DESC STATISTICCAT_DESC   UNIT_DESC  \\\n",
       "200  ALL UTILIZATION PRACTICES    AREA HARVESTED  OPERATIONS   \n",
       "201  ALL UTILIZATION PRACTICES        PRODUCTION          BU   \n",
       "202  ALL UTILIZATION PRACTICES    AREA HARVESTED  OPERATIONS   \n",
       "203  ALL UTILIZATION PRACTICES             YIELD   BU / ACRE   \n",
       "204  ALL UTILIZATION PRACTICES             YIELD   LB / ACRE   \n",
       "\n",
       "                                            SHORT_DESC  ...  \\\n",
       "200  HAY, ALFALFA, IRRIGATED - OPERATIONS WITH AREA...  ...   \n",
       "201  SOYBEANS, NON-IRRIGATED - PRODUCTION, MEASURED...  ...   \n",
       "202             WHEAT - OPERATIONS WITH AREA HARVESTED  ...   \n",
       "203               WHEAT - YIELD, MEASURED IN BU / ACRE  ...   \n",
       "204  TOBACCO, FIRE-CURED VA BELT (TYPE 21) - YIELD,...  ...   \n",
       "\n",
       "                     LOCATION_DESC  YEAR  FREQ_DESC BEGIN_CODE  END_CODE  \\\n",
       "200     MICHIGAN, CENTRAL, GLADWIN  2007     ANNUAL          0         0   \n",
       "201                       NEBRASKA  1988     ANNUAL          0         0   \n",
       "202  VIRGINIA, CENTRAL, APPOMATTOX  2007     ANNUAL          0         0   \n",
       "203       IOWA, NORTHWEST, OSCEOLA  1985     ANNUAL          0         0   \n",
       "204      VIRGINIA, CENTRAL, NELSON  1944     ANNUAL          0         0   \n",
       "\n",
       "     REFERENCE_PERIOD_DESC WEEK_ENDING            LOAD_TIME       VALUE CV_%  \n",
       "200                   YEAR        <NA>  2012-01-01 00:00:00           3    \u0000  \n",
       "201                   YEAR        <NA>  2012-01-01 00:00:00  44,054,000    \u0000  \n",
       "202                   YEAR        <NA>  2012-01-01 00:00:00           2    \u0000  \n",
       "203                   YEAR        <NA>  2012-01-01 00:00:00          43    \u0000  \n",
       "204                   YEAR        <NA>  2012-01-01 00:00:00         940    \u0000  \n",
       "\n",
       "[5 rows x 39 columns]"
      ]
     },
     "execution_count": 26,
     "metadata": {},
     "output_type": "execute_result"
    }
   ],
   "source": [
    "gdf.iloc[200:205]"
   ]
  },
  {
   "cell_type": "markdown",
   "metadata": {},
   "source": [
    "The `loc` function also allows us to select specific rows or columns from a cuDF dataframe based on boolean conditions. By specifying a boolean array or series as the index to the `loc` function, we can filter the dataframe and retrieve the rows or columns that satisfy the given conditions.\n",
    "\n",
    "**cuDF**"
   ]
  },
  {
   "cell_type": "code",
   "execution_count": 27,
   "metadata": {},
   "outputs": [
    {
     "name": "stdout",
     "output_type": "stream",
     "text": [
      "CPU times: user 15 ms, sys: 47 ms, total: 61.9 ms\n",
      "Wall time: 60.7 ms\n"
     ]
    },
    {
     "data": {
      "text/html": [
       "<div>\n",
       "<style scoped>\n",
       "    .dataframe tbody tr th:only-of-type {\n",
       "        vertical-align: middle;\n",
       "    }\n",
       "\n",
       "    .dataframe tbody tr th {\n",
       "        vertical-align: top;\n",
       "    }\n",
       "\n",
       "    .dataframe thead th {\n",
       "        text-align: right;\n",
       "    }\n",
       "</style>\n",
       "<table border=\"1\" class=\"dataframe\">\n",
       "  <thead>\n",
       "    <tr style=\"text-align: right;\">\n",
       "      <th></th>\n",
       "      <th>SOURCE_DESC</th>\n",
       "      <th>SECTOR_DESC</th>\n",
       "      <th>GROUP_DESC</th>\n",
       "      <th>COMMODITY_DESC</th>\n",
       "      <th>CLASS_DESC</th>\n",
       "      <th>PRODN_PRACTICE_DESC</th>\n",
       "      <th>UTIL_PRACTICE_DESC</th>\n",
       "      <th>STATISTICCAT_DESC</th>\n",
       "      <th>UNIT_DESC</th>\n",
       "      <th>SHORT_DESC</th>\n",
       "      <th>...</th>\n",
       "      <th>LOCATION_DESC</th>\n",
       "      <th>YEAR</th>\n",
       "      <th>FREQ_DESC</th>\n",
       "      <th>BEGIN_CODE</th>\n",
       "      <th>END_CODE</th>\n",
       "      <th>REFERENCE_PERIOD_DESC</th>\n",
       "      <th>WEEK_ENDING</th>\n",
       "      <th>LOAD_TIME</th>\n",
       "      <th>VALUE</th>\n",
       "      <th>CV_%</th>\n",
       "    </tr>\n",
       "  </thead>\n",
       "  <tbody>\n",
       "    <tr>\n",
       "      <th>12</th>\n",
       "      <td>SURVEY</td>\n",
       "      <td>CROPS</td>\n",
       "      <td>FIELD CROPS</td>\n",
       "      <td>OATS</td>\n",
       "      <td>ALL CLASSES</td>\n",
       "      <td>ALL PRODUCTION PRACTICES</td>\n",
       "      <td>ALL UTILIZATION PRACTICES</td>\n",
       "      <td>PRODUCTION</td>\n",
       "      <td>BU</td>\n",
       "      <td>OATS - PRODUCTION, MEASURED IN BU</td>\n",
       "      <td>...</td>\n",
       "      <td>ILLINOIS, EAST SOUTHEAST, EFFINGHAM</td>\n",
       "      <td>1965</td>\n",
       "      <td>ANNUAL</td>\n",
       "      <td>0</td>\n",
       "      <td>0</td>\n",
       "      <td>YEAR</td>\n",
       "      <td>&lt;NA&gt;</td>\n",
       "      <td>2012-01-01 00:00:00</td>\n",
       "      <td>117,500</td>\n",
       "      <td>\u0000</td>\n",
       "    </tr>\n",
       "    <tr>\n",
       "      <th>30</th>\n",
       "      <td>SURVEY</td>\n",
       "      <td>CROPS</td>\n",
       "      <td>FIELD CROPS</td>\n",
       "      <td>OATS</td>\n",
       "      <td>ALL CLASSES</td>\n",
       "      <td>IRRIGATED</td>\n",
       "      <td>ALL UTILIZATION PRACTICES</td>\n",
       "      <td>AREA HARVESTED</td>\n",
       "      <td>ACRES</td>\n",
       "      <td>OATS, IRRIGATED - ACRES HARVESTED</td>\n",
       "      <td>...</td>\n",
       "      <td>MONTANA, CENTRAL, GOLDEN VALLEY</td>\n",
       "      <td>1969</td>\n",
       "      <td>ANNUAL</td>\n",
       "      <td>0</td>\n",
       "      <td>0</td>\n",
       "      <td>YEAR</td>\n",
       "      <td>&lt;NA&gt;</td>\n",
       "      <td>2012-01-01 00:00:00</td>\n",
       "      <td>100</td>\n",
       "      <td>\u0000</td>\n",
       "    </tr>\n",
       "    <tr>\n",
       "      <th>39</th>\n",
       "      <td>SURVEY</td>\n",
       "      <td>CROPS</td>\n",
       "      <td>FIELD CROPS</td>\n",
       "      <td>OATS</td>\n",
       "      <td>ALL CLASSES</td>\n",
       "      <td>ALL PRODUCTION PRACTICES</td>\n",
       "      <td>ON FARM</td>\n",
       "      <td>STOCKS</td>\n",
       "      <td>BU</td>\n",
       "      <td>OATS, ON FARM - STOCKS, MEASURED IN BU</td>\n",
       "      <td>...</td>\n",
       "      <td>NEW MEXICO</td>\n",
       "      <td>1966</td>\n",
       "      <td>POINT IN TIME</td>\n",
       "      <td>12</td>\n",
       "      <td>12</td>\n",
       "      <td>FIRST OF DEC</td>\n",
       "      <td>&lt;NA&gt;</td>\n",
       "      <td>2012-01-01 00:00:00</td>\n",
       "      <td>67,000</td>\n",
       "      <td>\u0000</td>\n",
       "    </tr>\n",
       "    <tr>\n",
       "      <th>40</th>\n",
       "      <td>SURVEY</td>\n",
       "      <td>CROPS</td>\n",
       "      <td>FIELD CROPS</td>\n",
       "      <td>OATS</td>\n",
       "      <td>ALL CLASSES</td>\n",
       "      <td>ALL PRODUCTION PRACTICES</td>\n",
       "      <td>ALL UTILIZATION PRACTICES</td>\n",
       "      <td>PRICE RECEIVED</td>\n",
       "      <td>$ / BU</td>\n",
       "      <td>OATS - PRICE RECEIVED, MEASURED IN $ / BU</td>\n",
       "      <td>...</td>\n",
       "      <td>SOUTH DAKOTA</td>\n",
       "      <td>1980</td>\n",
       "      <td>MONTHLY</td>\n",
       "      <td>4</td>\n",
       "      <td>4</td>\n",
       "      <td>APR</td>\n",
       "      <td>&lt;NA&gt;</td>\n",
       "      <td>2012-01-01 00:00:00</td>\n",
       "      <td>1.26</td>\n",
       "      <td>\u0000</td>\n",
       "    </tr>\n",
       "    <tr>\n",
       "      <th>64</th>\n",
       "      <td>SURVEY</td>\n",
       "      <td>CROPS</td>\n",
       "      <td>FIELD CROPS</td>\n",
       "      <td>OATS</td>\n",
       "      <td>ALL CLASSES</td>\n",
       "      <td>ALL PRODUCTION PRACTICES</td>\n",
       "      <td>ALL UTILIZATION PRACTICES</td>\n",
       "      <td>YIELD</td>\n",
       "      <td>BU / ACRE</td>\n",
       "      <td>OATS - YIELD, MEASURED IN BU / ACRE</td>\n",
       "      <td>...</td>\n",
       "      <td>IDAHO, EAST, BANNOCK</td>\n",
       "      <td>1999</td>\n",
       "      <td>ANNUAL</td>\n",
       "      <td>0</td>\n",
       "      <td>0</td>\n",
       "      <td>YEAR</td>\n",
       "      <td>&lt;NA&gt;</td>\n",
       "      <td>2012-01-01 00:00:00</td>\n",
       "      <td>60</td>\n",
       "      <td>\u0000</td>\n",
       "    </tr>\n",
       "  </tbody>\n",
       "</table>\n",
       "<p>5 rows × 39 columns</p>\n",
       "</div>"
      ],
      "text/plain": [
       "   SOURCE_DESC SECTOR_DESC   GROUP_DESC COMMODITY_DESC   CLASS_DESC  \\\n",
       "12      SURVEY       CROPS  FIELD CROPS           OATS  ALL CLASSES   \n",
       "30      SURVEY       CROPS  FIELD CROPS           OATS  ALL CLASSES   \n",
       "39      SURVEY       CROPS  FIELD CROPS           OATS  ALL CLASSES   \n",
       "40      SURVEY       CROPS  FIELD CROPS           OATS  ALL CLASSES   \n",
       "64      SURVEY       CROPS  FIELD CROPS           OATS  ALL CLASSES   \n",
       "\n",
       "         PRODN_PRACTICE_DESC         UTIL_PRACTICE_DESC STATISTICCAT_DESC  \\\n",
       "12  ALL PRODUCTION PRACTICES  ALL UTILIZATION PRACTICES        PRODUCTION   \n",
       "30                 IRRIGATED  ALL UTILIZATION PRACTICES    AREA HARVESTED   \n",
       "39  ALL PRODUCTION PRACTICES                    ON FARM            STOCKS   \n",
       "40  ALL PRODUCTION PRACTICES  ALL UTILIZATION PRACTICES    PRICE RECEIVED   \n",
       "64  ALL PRODUCTION PRACTICES  ALL UTILIZATION PRACTICES             YIELD   \n",
       "\n",
       "    UNIT_DESC                                 SHORT_DESC  ...  \\\n",
       "12         BU          OATS - PRODUCTION, MEASURED IN BU  ...   \n",
       "30      ACRES          OATS, IRRIGATED - ACRES HARVESTED  ...   \n",
       "39         BU     OATS, ON FARM - STOCKS, MEASURED IN BU  ...   \n",
       "40     $ / BU  OATS - PRICE RECEIVED, MEASURED IN $ / BU  ...   \n",
       "64  BU / ACRE        OATS - YIELD, MEASURED IN BU / ACRE  ...   \n",
       "\n",
       "                          LOCATION_DESC  YEAR      FREQ_DESC BEGIN_CODE  \\\n",
       "12  ILLINOIS, EAST SOUTHEAST, EFFINGHAM  1965         ANNUAL          0   \n",
       "30      MONTANA, CENTRAL, GOLDEN VALLEY  1969         ANNUAL          0   \n",
       "39                           NEW MEXICO  1966  POINT IN TIME         12   \n",
       "40                         SOUTH DAKOTA  1980        MONTHLY          4   \n",
       "64                 IDAHO, EAST, BANNOCK  1999         ANNUAL          0   \n",
       "\n",
       "    END_CODE  REFERENCE_PERIOD_DESC WEEK_ENDING            LOAD_TIME    VALUE  \\\n",
       "12         0                   YEAR        <NA>  2012-01-01 00:00:00  117,500   \n",
       "30         0                   YEAR        <NA>  2012-01-01 00:00:00      100   \n",
       "39        12           FIRST OF DEC        <NA>  2012-01-01 00:00:00   67,000   \n",
       "40         4                    APR        <NA>  2012-01-01 00:00:00     1.26   \n",
       "64         0                   YEAR        <NA>  2012-01-01 00:00:00       60   \n",
       "\n",
       "   CV_%  \n",
       "12    \u0000  \n",
       "30    \u0000  \n",
       "39    \u0000  \n",
       "40    \u0000  \n",
       "64    \u0000  \n",
       "\n",
       "[5 rows x 39 columns]"
      ]
     },
     "execution_count": 27,
     "metadata": {},
     "output_type": "execute_result"
    }
   ],
   "source": [
    "%time crop_names = gdf.loc[gdf['COMMODITY_DESC'].str.startswith('O')]\n",
    "crop_names.head()"
   ]
  },
  {
   "cell_type": "markdown",
   "metadata": {},
   "source": [
    "**pandas**"
   ]
  },
  {
   "cell_type": "code",
   "execution_count": 28,
   "metadata": {},
   "outputs": [
    {
     "name": "stdout",
     "output_type": "stream",
     "text": [
      "CPU times: user 5.65 s, sys: 604 ms, total: 6.25 s\n",
      "Wall time: 6.23 s\n"
     ]
    },
    {
     "data": {
      "text/html": [
       "<div>\n",
       "<style scoped>\n",
       "    .dataframe tbody tr th:only-of-type {\n",
       "        vertical-align: middle;\n",
       "    }\n",
       "\n",
       "    .dataframe tbody tr th {\n",
       "        vertical-align: top;\n",
       "    }\n",
       "\n",
       "    .dataframe thead th {\n",
       "        text-align: right;\n",
       "    }\n",
       "</style>\n",
       "<table border=\"1\" class=\"dataframe\">\n",
       "  <thead>\n",
       "    <tr style=\"text-align: right;\">\n",
       "      <th></th>\n",
       "      <th>SOURCE_DESC</th>\n",
       "      <th>SECTOR_DESC</th>\n",
       "      <th>GROUP_DESC</th>\n",
       "      <th>COMMODITY_DESC</th>\n",
       "      <th>CLASS_DESC</th>\n",
       "      <th>PRODN_PRACTICE_DESC</th>\n",
       "      <th>UTIL_PRACTICE_DESC</th>\n",
       "      <th>STATISTICCAT_DESC</th>\n",
       "      <th>UNIT_DESC</th>\n",
       "      <th>SHORT_DESC</th>\n",
       "      <th>...</th>\n",
       "      <th>LOCATION_DESC</th>\n",
       "      <th>YEAR</th>\n",
       "      <th>FREQ_DESC</th>\n",
       "      <th>BEGIN_CODE</th>\n",
       "      <th>END_CODE</th>\n",
       "      <th>REFERENCE_PERIOD_DESC</th>\n",
       "      <th>WEEK_ENDING</th>\n",
       "      <th>LOAD_TIME</th>\n",
       "      <th>VALUE</th>\n",
       "      <th>CV_%</th>\n",
       "    </tr>\n",
       "  </thead>\n",
       "  <tbody>\n",
       "    <tr>\n",
       "      <th>12</th>\n",
       "      <td>SURVEY</td>\n",
       "      <td>CROPS</td>\n",
       "      <td>FIELD CROPS</td>\n",
       "      <td>OATS</td>\n",
       "      <td>ALL CLASSES</td>\n",
       "      <td>ALL PRODUCTION PRACTICES</td>\n",
       "      <td>ALL UTILIZATION PRACTICES</td>\n",
       "      <td>PRODUCTION</td>\n",
       "      <td>BU</td>\n",
       "      <td>OATS - PRODUCTION, MEASURED IN BU</td>\n",
       "      <td>...</td>\n",
       "      <td>ILLINOIS, EAST SOUTHEAST, EFFINGHAM</td>\n",
       "      <td>1965</td>\n",
       "      <td>ANNUAL</td>\n",
       "      <td>0</td>\n",
       "      <td>0</td>\n",
       "      <td>YEAR</td>\n",
       "      <td>NaN</td>\n",
       "      <td>2012-01-01 00:00:00</td>\n",
       "      <td>117,500</td>\n",
       "      <td>NaN</td>\n",
       "    </tr>\n",
       "    <tr>\n",
       "      <th>30</th>\n",
       "      <td>SURVEY</td>\n",
       "      <td>CROPS</td>\n",
       "      <td>FIELD CROPS</td>\n",
       "      <td>OATS</td>\n",
       "      <td>ALL CLASSES</td>\n",
       "      <td>IRRIGATED</td>\n",
       "      <td>ALL UTILIZATION PRACTICES</td>\n",
       "      <td>AREA HARVESTED</td>\n",
       "      <td>ACRES</td>\n",
       "      <td>OATS, IRRIGATED - ACRES HARVESTED</td>\n",
       "      <td>...</td>\n",
       "      <td>MONTANA, CENTRAL, GOLDEN VALLEY</td>\n",
       "      <td>1969</td>\n",
       "      <td>ANNUAL</td>\n",
       "      <td>0</td>\n",
       "      <td>0</td>\n",
       "      <td>YEAR</td>\n",
       "      <td>NaN</td>\n",
       "      <td>2012-01-01 00:00:00</td>\n",
       "      <td>100</td>\n",
       "      <td>NaN</td>\n",
       "    </tr>\n",
       "    <tr>\n",
       "      <th>39</th>\n",
       "      <td>SURVEY</td>\n",
       "      <td>CROPS</td>\n",
       "      <td>FIELD CROPS</td>\n",
       "      <td>OATS</td>\n",
       "      <td>ALL CLASSES</td>\n",
       "      <td>ALL PRODUCTION PRACTICES</td>\n",
       "      <td>ON FARM</td>\n",
       "      <td>STOCKS</td>\n",
       "      <td>BU</td>\n",
       "      <td>OATS, ON FARM - STOCKS, MEASURED IN BU</td>\n",
       "      <td>...</td>\n",
       "      <td>NEW MEXICO</td>\n",
       "      <td>1966</td>\n",
       "      <td>POINT IN TIME</td>\n",
       "      <td>12</td>\n",
       "      <td>12</td>\n",
       "      <td>FIRST OF DEC</td>\n",
       "      <td>NaN</td>\n",
       "      <td>2012-01-01 00:00:00</td>\n",
       "      <td>67,000</td>\n",
       "      <td>NaN</td>\n",
       "    </tr>\n",
       "    <tr>\n",
       "      <th>40</th>\n",
       "      <td>SURVEY</td>\n",
       "      <td>CROPS</td>\n",
       "      <td>FIELD CROPS</td>\n",
       "      <td>OATS</td>\n",
       "      <td>ALL CLASSES</td>\n",
       "      <td>ALL PRODUCTION PRACTICES</td>\n",
       "      <td>ALL UTILIZATION PRACTICES</td>\n",
       "      <td>PRICE RECEIVED</td>\n",
       "      <td>$ / BU</td>\n",
       "      <td>OATS - PRICE RECEIVED, MEASURED IN $ / BU</td>\n",
       "      <td>...</td>\n",
       "      <td>SOUTH DAKOTA</td>\n",
       "      <td>1980</td>\n",
       "      <td>MONTHLY</td>\n",
       "      <td>4</td>\n",
       "      <td>4</td>\n",
       "      <td>APR</td>\n",
       "      <td>NaN</td>\n",
       "      <td>2012-01-01 00:00:00</td>\n",
       "      <td>1.26</td>\n",
       "      <td>NaN</td>\n",
       "    </tr>\n",
       "    <tr>\n",
       "      <th>64</th>\n",
       "      <td>SURVEY</td>\n",
       "      <td>CROPS</td>\n",
       "      <td>FIELD CROPS</td>\n",
       "      <td>OATS</td>\n",
       "      <td>ALL CLASSES</td>\n",
       "      <td>ALL PRODUCTION PRACTICES</td>\n",
       "      <td>ALL UTILIZATION PRACTICES</td>\n",
       "      <td>YIELD</td>\n",
       "      <td>BU / ACRE</td>\n",
       "      <td>OATS - YIELD, MEASURED IN BU / ACRE</td>\n",
       "      <td>...</td>\n",
       "      <td>IDAHO, EAST, BANNOCK</td>\n",
       "      <td>1999</td>\n",
       "      <td>ANNUAL</td>\n",
       "      <td>0</td>\n",
       "      <td>0</td>\n",
       "      <td>YEAR</td>\n",
       "      <td>NaN</td>\n",
       "      <td>2012-01-01 00:00:00</td>\n",
       "      <td>60</td>\n",
       "      <td>NaN</td>\n",
       "    </tr>\n",
       "  </tbody>\n",
       "</table>\n",
       "<p>5 rows × 39 columns</p>\n",
       "</div>"
      ],
      "text/plain": [
       "   SOURCE_DESC SECTOR_DESC   GROUP_DESC COMMODITY_DESC   CLASS_DESC  \\\n",
       "12      SURVEY       CROPS  FIELD CROPS           OATS  ALL CLASSES   \n",
       "30      SURVEY       CROPS  FIELD CROPS           OATS  ALL CLASSES   \n",
       "39      SURVEY       CROPS  FIELD CROPS           OATS  ALL CLASSES   \n",
       "40      SURVEY       CROPS  FIELD CROPS           OATS  ALL CLASSES   \n",
       "64      SURVEY       CROPS  FIELD CROPS           OATS  ALL CLASSES   \n",
       "\n",
       "         PRODN_PRACTICE_DESC         UTIL_PRACTICE_DESC STATISTICCAT_DESC  \\\n",
       "12  ALL PRODUCTION PRACTICES  ALL UTILIZATION PRACTICES        PRODUCTION   \n",
       "30                 IRRIGATED  ALL UTILIZATION PRACTICES    AREA HARVESTED   \n",
       "39  ALL PRODUCTION PRACTICES                    ON FARM            STOCKS   \n",
       "40  ALL PRODUCTION PRACTICES  ALL UTILIZATION PRACTICES    PRICE RECEIVED   \n",
       "64  ALL PRODUCTION PRACTICES  ALL UTILIZATION PRACTICES             YIELD   \n",
       "\n",
       "    UNIT_DESC                                 SHORT_DESC  ...  \\\n",
       "12         BU          OATS - PRODUCTION, MEASURED IN BU  ...   \n",
       "30      ACRES          OATS, IRRIGATED - ACRES HARVESTED  ...   \n",
       "39         BU     OATS, ON FARM - STOCKS, MEASURED IN BU  ...   \n",
       "40     $ / BU  OATS - PRICE RECEIVED, MEASURED IN $ / BU  ...   \n",
       "64  BU / ACRE        OATS - YIELD, MEASURED IN BU / ACRE  ...   \n",
       "\n",
       "                          LOCATION_DESC  YEAR      FREQ_DESC  BEGIN_CODE  \\\n",
       "12  ILLINOIS, EAST SOUTHEAST, EFFINGHAM  1965         ANNUAL           0   \n",
       "30      MONTANA, CENTRAL, GOLDEN VALLEY  1969         ANNUAL           0   \n",
       "39                           NEW MEXICO  1966  POINT IN TIME          12   \n",
       "40                         SOUTH DAKOTA  1980        MONTHLY           4   \n",
       "64                 IDAHO, EAST, BANNOCK  1999         ANNUAL           0   \n",
       "\n",
       "    END_CODE REFERENCE_PERIOD_DESC WEEK_ENDING            LOAD_TIME    VALUE  \\\n",
       "12         0                  YEAR         NaN  2012-01-01 00:00:00  117,500   \n",
       "30         0                  YEAR         NaN  2012-01-01 00:00:00      100   \n",
       "39        12          FIRST OF DEC         NaN  2012-01-01 00:00:00   67,000   \n",
       "40         4                   APR         NaN  2012-01-01 00:00:00     1.26   \n",
       "64         0                  YEAR         NaN  2012-01-01 00:00:00       60   \n",
       "\n",
       "    CV_%  \n",
       "12   NaN  \n",
       "30   NaN  \n",
       "39   NaN  \n",
       "40   NaN  \n",
       "64   NaN  \n",
       "\n",
       "[5 rows x 39 columns]"
      ]
     },
     "execution_count": 28,
     "metadata": {},
     "output_type": "execute_result"
    }
   ],
   "source": [
    "%time crop_names_pd = df.loc[df['COMMODITY_DESC'].str.startswith('O')]\n",
    "crop_names_pd.head()"
   ]
  },
  {
   "cell_type": "markdown",
   "metadata": {
    "tags": []
   },
   "source": [
    "### 2.5 Grouping and Sorting\n",
    "\n",
    "#### Grouping\n",
    "\n",
    "Grouping with cuDF follows the same principles as in Pandas.\n",
    "\n",
    "Once the data is grouped, you can access specific groups using the `get_group()` method and provide the name of the desired group. For instance, select the group of states named 'FLORIDA'.\n",
    "\n",
    "**cuDF**"
   ]
  },
  {
   "cell_type": "code",
   "execution_count": 30,
   "metadata": {},
   "outputs": [
    {
     "name": "stdout",
     "output_type": "stream",
     "text": [
      "CPU times: user 552 µs, sys: 0 ns, total: 552 µs\n",
      "Wall time: 556 µs\n"
     ]
    },
    {
     "data": {
      "text/html": [
       "<div>\n",
       "<style scoped>\n",
       "    .dataframe tbody tr th:only-of-type {\n",
       "        vertical-align: middle;\n",
       "    }\n",
       "\n",
       "    .dataframe tbody tr th {\n",
       "        vertical-align: top;\n",
       "    }\n",
       "\n",
       "    .dataframe thead th {\n",
       "        text-align: right;\n",
       "    }\n",
       "</style>\n",
       "<table border=\"1\" class=\"dataframe\">\n",
       "  <thead>\n",
       "    <tr style=\"text-align: right;\">\n",
       "      <th></th>\n",
       "      <th>STATE_NAME</th>\n",
       "      <th>COMMODITY_DESC</th>\n",
       "    </tr>\n",
       "  </thead>\n",
       "  <tbody>\n",
       "    <tr>\n",
       "      <th>189</th>\n",
       "      <td>FLORIDA</td>\n",
       "      <td>OATS</td>\n",
       "    </tr>\n",
       "    <tr>\n",
       "      <th>244</th>\n",
       "      <td>FLORIDA</td>\n",
       "      <td>GRAPEFRUIT</td>\n",
       "    </tr>\n",
       "    <tr>\n",
       "      <th>270</th>\n",
       "      <td>FLORIDA</td>\n",
       "      <td>ORANGES</td>\n",
       "    </tr>\n",
       "    <tr>\n",
       "      <th>302</th>\n",
       "      <td>FLORIDA</td>\n",
       "      <td>FRUIT &amp; TREE NUT TOTALS</td>\n",
       "    </tr>\n",
       "    <tr>\n",
       "      <th>378</th>\n",
       "      <td>FLORIDA</td>\n",
       "      <td>GRASSES</td>\n",
       "    </tr>\n",
       "  </tbody>\n",
       "</table>\n",
       "</div>"
      ],
      "text/plain": [
       "    STATE_NAME           COMMODITY_DESC\n",
       "189    FLORIDA                     OATS\n",
       "244    FLORIDA               GRAPEFRUIT\n",
       "270    FLORIDA                  ORANGES\n",
       "302    FLORIDA  FRUIT & TREE NUT TOTALS\n",
       "378    FLORIDA                  GRASSES"
      ]
     },
     "execution_count": 30,
     "metadata": {},
     "output_type": "execute_result"
    }
   ],
   "source": [
    "%time states_groups = gdf[['STATE_NAME', 'COMMODITY_DESC']].groupby(['STATE_NAME'])\n",
    "florida = states_groups.get_group('FLORIDA')\n",
    "florida[:5]"
   ]
  },
  {
   "cell_type": "markdown",
   "metadata": {},
   "source": [
    "**pandas**"
   ]
  },
  {
   "cell_type": "code",
   "execution_count": 32,
   "metadata": {},
   "outputs": [
    {
     "name": "stdout",
     "output_type": "stream",
     "text": [
      "CPU times: user 99.5 ms, sys: 99.2 ms, total: 199 ms\n",
      "Wall time: 198 ms\n"
     ]
    },
    {
     "data": {
      "text/html": [
       "<div>\n",
       "<style scoped>\n",
       "    .dataframe tbody tr th:only-of-type {\n",
       "        vertical-align: middle;\n",
       "    }\n",
       "\n",
       "    .dataframe tbody tr th {\n",
       "        vertical-align: top;\n",
       "    }\n",
       "\n",
       "    .dataframe thead th {\n",
       "        text-align: right;\n",
       "    }\n",
       "</style>\n",
       "<table border=\"1\" class=\"dataframe\">\n",
       "  <thead>\n",
       "    <tr style=\"text-align: right;\">\n",
       "      <th></th>\n",
       "      <th>STATE_NAME</th>\n",
       "      <th>COMMODITY_DESC</th>\n",
       "    </tr>\n",
       "  </thead>\n",
       "  <tbody>\n",
       "    <tr>\n",
       "      <th>189</th>\n",
       "      <td>FLORIDA</td>\n",
       "      <td>OATS</td>\n",
       "    </tr>\n",
       "    <tr>\n",
       "      <th>244</th>\n",
       "      <td>FLORIDA</td>\n",
       "      <td>GRAPEFRUIT</td>\n",
       "    </tr>\n",
       "    <tr>\n",
       "      <th>270</th>\n",
       "      <td>FLORIDA</td>\n",
       "      <td>ORANGES</td>\n",
       "    </tr>\n",
       "    <tr>\n",
       "      <th>302</th>\n",
       "      <td>FLORIDA</td>\n",
       "      <td>FRUIT &amp; TREE NUT TOTALS</td>\n",
       "    </tr>\n",
       "    <tr>\n",
       "      <th>378</th>\n",
       "      <td>FLORIDA</td>\n",
       "      <td>GRASSES</td>\n",
       "    </tr>\n",
       "  </tbody>\n",
       "</table>\n",
       "</div>"
      ],
      "text/plain": [
       "    STATE_NAME           COMMODITY_DESC\n",
       "189    FLORIDA                     OATS\n",
       "244    FLORIDA               GRAPEFRUIT\n",
       "270    FLORIDA                  ORANGES\n",
       "302    FLORIDA  FRUIT & TREE NUT TOTALS\n",
       "378    FLORIDA                  GRASSES"
      ]
     },
     "execution_count": 32,
     "metadata": {},
     "output_type": "execute_result"
    }
   ],
   "source": [
    "%time states_groups_pd = df[['STATE_NAME', 'COMMODITY_DESC']].groupby(['STATE_NAME'])\n",
    "florida = states_groups_pd.get_group('FLORIDA')\n",
    "florida[:5]"
   ]
  },
  {
   "cell_type": "markdown",
   "metadata": {},
   "source": [
    "#### Sorting\n",
    "\n",
    "Sorting in cuDF is quite similar to Pandas, although cuDF does not support in-place sorting.\n",
    "\n",
    "To sort a cuDF dataframe, you can use the `sort_values()` function, which takes one or more columns as arguments and returns a new sorted dataframe.\n",
    "\n",
    "**cuDF**"
   ]
  },
  {
   "cell_type": "code",
   "execution_count": 33,
   "metadata": {},
   "outputs": [
    {
     "name": "stdout",
     "output_type": "stream",
     "text": [
      "CPU times: user 39.1 ms, sys: 31.9 ms, total: 71 ms\n",
      "Wall time: 69.9 ms\n",
      "127    ALABAMA\n",
      "135    ALABAMA\n",
      "173    ALABAMA\n",
      "273    ALABAMA\n",
      "343    ALABAMA\n",
      "Name: STATE_NAME, dtype: object\n",
      "2907995    CALIFORNIA\n",
      "2907997    CALIFORNIA\n",
      "2908026    CALIFORNIA\n",
      "2908066    CALIFORNIA\n",
      "2908069    CALIFORNIA\n",
      "Name: STATE_NAME, dtype: object\n"
     ]
    }
   ],
   "source": [
    "%time gdf_names = gdf['STATE_NAME'].sort_values()\n",
    "print(gdf_names[:5]) \n",
    "print(gdf_names[1000000:1000005])"
   ]
  },
  {
   "cell_type": "markdown",
   "metadata": {},
   "source": [
    "**pandas**"
   ]
  },
  {
   "cell_type": "code",
   "execution_count": 34,
   "metadata": {},
   "outputs": [
    {
     "name": "stdout",
     "output_type": "stream",
     "text": [
      "CPU times: user 19.2 s, sys: 182 ms, total: 19.4 s\n",
      "Wall time: 19.4 s\n",
      "7964121     ALABAMA\n",
      "19889613    ALABAMA\n",
      "1099912     ALABAMA\n",
      "7346492     ALABAMA\n",
      "7346462     ALABAMA\n",
      "Name: STATE_NAME, dtype: object\n",
      "9545973     CALIFORNIA\n",
      "6546940     CALIFORNIA\n",
      "18959403    CALIFORNIA\n",
      "14621686    CALIFORNIA\n",
      "1811194     CALIFORNIA\n",
      "Name: STATE_NAME, dtype: object\n"
     ]
    }
   ],
   "source": [
    "%time df_names = df['STATE_NAME'].sort_values()\n",
    "print(df_names[:5]) \n",
    "print(df_names[1000000:1000005])"
   ]
  },
  {
   "cell_type": "markdown",
   "metadata": {},
   "source": [
    "### 2.6 Other useful methods\n",
    "\n",
    "#### String Operations\n",
    "\n",
    "Despite strings not being a data type traditionally associated with GPUs, cuDF offers robust support for accelerated string operations.\n",
    "\n",
    "cuDF provides powerful string operations that leverage the GPU's computational capabilities. These operations allow you to efficiently perform various string manipulations and transformations on cuDF dataframes, similar to how you would handle strings in Pandas.\n",
    "\n",
    "With cuDF's accelerated string operations, you can take advantage of the GPU's parallel processing capabilities to perform string-related tasks efficiently and effectively.\n",
    "\n",
    "**cuDF**"
   ]
  },
  {
   "cell_type": "code",
   "execution_count": 35,
   "metadata": {},
   "outputs": [
    {
     "name": "stdout",
     "output_type": "stream",
     "text": [
      "CPU times: user 7.23 ms, sys: 7.67 ms, total: 14.9 ms\n",
      "Wall time: 14 ms\n"
     ]
    }
   ],
   "source": [
    "%time gdf['COMMODITY_DESC'] = gdf['COMMODITY_DESC'].str.title()"
   ]
  },
  {
   "cell_type": "code",
   "execution_count": 36,
   "metadata": {},
   "outputs": [
    {
     "data": {
      "text/html": [
       "<div>\n",
       "<style scoped>\n",
       "    .dataframe tbody tr th:only-of-type {\n",
       "        vertical-align: middle;\n",
       "    }\n",
       "\n",
       "    .dataframe tbody tr th {\n",
       "        vertical-align: top;\n",
       "    }\n",
       "\n",
       "    .dataframe thead th {\n",
       "        text-align: right;\n",
       "    }\n",
       "</style>\n",
       "<table border=\"1\" class=\"dataframe\">\n",
       "  <thead>\n",
       "    <tr style=\"text-align: right;\">\n",
       "      <th></th>\n",
       "      <th>SOURCE_DESC</th>\n",
       "      <th>SECTOR_DESC</th>\n",
       "      <th>GROUP_DESC</th>\n",
       "      <th>COMMODITY_DESC</th>\n",
       "      <th>CLASS_DESC</th>\n",
       "      <th>PRODN_PRACTICE_DESC</th>\n",
       "      <th>UTIL_PRACTICE_DESC</th>\n",
       "      <th>STATISTICCAT_DESC</th>\n",
       "      <th>UNIT_DESC</th>\n",
       "      <th>SHORT_DESC</th>\n",
       "      <th>...</th>\n",
       "      <th>LOCATION_DESC</th>\n",
       "      <th>YEAR</th>\n",
       "      <th>FREQ_DESC</th>\n",
       "      <th>BEGIN_CODE</th>\n",
       "      <th>END_CODE</th>\n",
       "      <th>REFERENCE_PERIOD_DESC</th>\n",
       "      <th>WEEK_ENDING</th>\n",
       "      <th>LOAD_TIME</th>\n",
       "      <th>VALUE</th>\n",
       "      <th>CV_%</th>\n",
       "    </tr>\n",
       "  </thead>\n",
       "  <tbody>\n",
       "    <tr>\n",
       "      <th>0</th>\n",
       "      <td>SURVEY</td>\n",
       "      <td>CROPS</td>\n",
       "      <td>FIELD CROPS</td>\n",
       "      <td>Soybeans</td>\n",
       "      <td>ALL CLASSES</td>\n",
       "      <td>ALL PRODUCTION PRACTICES</td>\n",
       "      <td>ALL UTILIZATION PRACTICES</td>\n",
       "      <td>YIELD</td>\n",
       "      <td>BU / ACRE</td>\n",
       "      <td>SOYBEANS - YIELD, MEASURED IN BU / ACRE</td>\n",
       "      <td>...</td>\n",
       "      <td>MICHIGAN, SOUTHWEST, CASS</td>\n",
       "      <td>1972</td>\n",
       "      <td>ANNUAL</td>\n",
       "      <td>0</td>\n",
       "      <td>0</td>\n",
       "      <td>YEAR</td>\n",
       "      <td>&lt;NA&gt;</td>\n",
       "      <td>2012-01-01 00:00:00</td>\n",
       "      <td>23.1</td>\n",
       "      <td>\u0000</td>\n",
       "    </tr>\n",
       "    <tr>\n",
       "      <th>1</th>\n",
       "      <td>SURVEY</td>\n",
       "      <td>CROPS</td>\n",
       "      <td>FIELD CROPS</td>\n",
       "      <td>Soybeans</td>\n",
       "      <td>ALL CLASSES</td>\n",
       "      <td>ALL PRODUCTION PRACTICES</td>\n",
       "      <td>ON FARM</td>\n",
       "      <td>STOCKS</td>\n",
       "      <td>BU</td>\n",
       "      <td>SOYBEANS, ON FARM - STOCKS, MEASURED IN BU</td>\n",
       "      <td>...</td>\n",
       "      <td>TENNESSEE</td>\n",
       "      <td>1965</td>\n",
       "      <td>POINT IN TIME</td>\n",
       "      <td>12</td>\n",
       "      <td>12</td>\n",
       "      <td>FIRST OF DEC</td>\n",
       "      <td>&lt;NA&gt;</td>\n",
       "      <td>2012-01-01 00:00:00</td>\n",
       "      <td>2,236,000</td>\n",
       "      <td>\u0000</td>\n",
       "    </tr>\n",
       "    <tr>\n",
       "      <th>2</th>\n",
       "      <td>SURVEY</td>\n",
       "      <td>CROPS</td>\n",
       "      <td>FIELD CROPS</td>\n",
       "      <td>Sugarbeets</td>\n",
       "      <td>ALL CLASSES</td>\n",
       "      <td>ALL PRODUCTION PRACTICES</td>\n",
       "      <td>ALL UTILIZATION PRACTICES</td>\n",
       "      <td>SUCROSE</td>\n",
       "      <td>PCT</td>\n",
       "      <td>SUGARBEETS - SUCROSE, MEASURED IN PCT</td>\n",
       "      <td>...</td>\n",
       "      <td>OHIO, NORTHWEST, PUTNAM</td>\n",
       "      <td>1983</td>\n",
       "      <td>ANNUAL</td>\n",
       "      <td>0</td>\n",
       "      <td>0</td>\n",
       "      <td>YEAR</td>\n",
       "      <td>&lt;NA&gt;</td>\n",
       "      <td>2012-01-01 00:00:00</td>\n",
       "      <td>16.26</td>\n",
       "      <td>\u0000</td>\n",
       "    </tr>\n",
       "    <tr>\n",
       "      <th>3</th>\n",
       "      <td>SURVEY</td>\n",
       "      <td>CROPS</td>\n",
       "      <td>FIELD CROPS</td>\n",
       "      <td>Hay</td>\n",
       "      <td>ALL CLASSES</td>\n",
       "      <td>ALL PRODUCTION PRACTICES</td>\n",
       "      <td>ALL UTILIZATION PRACTICES</td>\n",
       "      <td>PRODUCTION</td>\n",
       "      <td>TONS</td>\n",
       "      <td>HAY - PRODUCTION, MEASURED IN TONS</td>\n",
       "      <td>...</td>\n",
       "      <td>MISSOURI, NORTHWEST, ANDREW</td>\n",
       "      <td>1992</td>\n",
       "      <td>ANNUAL</td>\n",
       "      <td>0</td>\n",
       "      <td>0</td>\n",
       "      <td>YEAR</td>\n",
       "      <td>&lt;NA&gt;</td>\n",
       "      <td>2012-01-01 00:00:00</td>\n",
       "      <td>49,500</td>\n",
       "      <td>\u0000</td>\n",
       "    </tr>\n",
       "    <tr>\n",
       "      <th>4</th>\n",
       "      <td>SURVEY</td>\n",
       "      <td>CROPS</td>\n",
       "      <td>FIELD CROPS</td>\n",
       "      <td>Corn</td>\n",
       "      <td>ALL CLASSES</td>\n",
       "      <td>ALL PRODUCTION PRACTICES</td>\n",
       "      <td>SILAGE</td>\n",
       "      <td>PRODUCTION</td>\n",
       "      <td>TONS</td>\n",
       "      <td>CORN, SILAGE - PRODUCTION, MEASURED IN TONS</td>\n",
       "      <td>...</td>\n",
       "      <td>NEW YORK, CENTRAL, CORTLAND</td>\n",
       "      <td>1991</td>\n",
       "      <td>ANNUAL</td>\n",
       "      <td>0</td>\n",
       "      <td>0</td>\n",
       "      <td>YEAR</td>\n",
       "      <td>&lt;NA&gt;</td>\n",
       "      <td>2012-01-01 00:00:00</td>\n",
       "      <td>184,200</td>\n",
       "      <td>\u0000</td>\n",
       "    </tr>\n",
       "  </tbody>\n",
       "</table>\n",
       "<p>5 rows × 39 columns</p>\n",
       "</div>"
      ],
      "text/plain": [
       "  SOURCE_DESC SECTOR_DESC   GROUP_DESC COMMODITY_DESC   CLASS_DESC  \\\n",
       "0      SURVEY       CROPS  FIELD CROPS       Soybeans  ALL CLASSES   \n",
       "1      SURVEY       CROPS  FIELD CROPS       Soybeans  ALL CLASSES   \n",
       "2      SURVEY       CROPS  FIELD CROPS     Sugarbeets  ALL CLASSES   \n",
       "3      SURVEY       CROPS  FIELD CROPS            Hay  ALL CLASSES   \n",
       "4      SURVEY       CROPS  FIELD CROPS           Corn  ALL CLASSES   \n",
       "\n",
       "        PRODN_PRACTICE_DESC         UTIL_PRACTICE_DESC STATISTICCAT_DESC  \\\n",
       "0  ALL PRODUCTION PRACTICES  ALL UTILIZATION PRACTICES             YIELD   \n",
       "1  ALL PRODUCTION PRACTICES                    ON FARM            STOCKS   \n",
       "2  ALL PRODUCTION PRACTICES  ALL UTILIZATION PRACTICES           SUCROSE   \n",
       "3  ALL PRODUCTION PRACTICES  ALL UTILIZATION PRACTICES        PRODUCTION   \n",
       "4  ALL PRODUCTION PRACTICES                     SILAGE        PRODUCTION   \n",
       "\n",
       "   UNIT_DESC                                   SHORT_DESC  ...  \\\n",
       "0  BU / ACRE      SOYBEANS - YIELD, MEASURED IN BU / ACRE  ...   \n",
       "1         BU   SOYBEANS, ON FARM - STOCKS, MEASURED IN BU  ...   \n",
       "2        PCT        SUGARBEETS - SUCROSE, MEASURED IN PCT  ...   \n",
       "3       TONS           HAY - PRODUCTION, MEASURED IN TONS  ...   \n",
       "4       TONS  CORN, SILAGE - PRODUCTION, MEASURED IN TONS  ...   \n",
       "\n",
       "                 LOCATION_DESC  YEAR      FREQ_DESC BEGIN_CODE  END_CODE  \\\n",
       "0    MICHIGAN, SOUTHWEST, CASS  1972         ANNUAL          0         0   \n",
       "1                    TENNESSEE  1965  POINT IN TIME         12        12   \n",
       "2      OHIO, NORTHWEST, PUTNAM  1983         ANNUAL          0         0   \n",
       "3  MISSOURI, NORTHWEST, ANDREW  1992         ANNUAL          0         0   \n",
       "4  NEW YORK, CENTRAL, CORTLAND  1991         ANNUAL          0         0   \n",
       "\n",
       "   REFERENCE_PERIOD_DESC WEEK_ENDING            LOAD_TIME      VALUE CV_%  \n",
       "0                   YEAR        <NA>  2012-01-01 00:00:00       23.1    \u0000  \n",
       "1           FIRST OF DEC        <NA>  2012-01-01 00:00:00  2,236,000    \u0000  \n",
       "2                   YEAR        <NA>  2012-01-01 00:00:00      16.26    \u0000  \n",
       "3                   YEAR        <NA>  2012-01-01 00:00:00     49,500    \u0000  \n",
       "4                   YEAR        <NA>  2012-01-01 00:00:00    184,200    \u0000  \n",
       "\n",
       "[5 rows x 39 columns]"
      ]
     },
     "execution_count": 36,
     "metadata": {},
     "output_type": "execute_result"
    }
   ],
   "source": [
    "gdf.head()"
   ]
  },
  {
   "cell_type": "markdown",
   "metadata": {},
   "source": [
    "**pandas**"
   ]
  },
  {
   "cell_type": "code",
   "execution_count": 37,
   "metadata": {},
   "outputs": [
    {
     "name": "stdout",
     "output_type": "stream",
     "text": [
      "CPU times: user 5.8 s, sys: 1.42 s, total: 7.22 s\n",
      "Wall time: 7.19 s\n"
     ]
    }
   ],
   "source": [
    "%time df['COMMODITY_DESC'] = df['COMMODITY_DESC'].str.title()"
   ]
  },
  {
   "cell_type": "code",
   "execution_count": 38,
   "metadata": {},
   "outputs": [
    {
     "data": {
      "text/html": [
       "<div>\n",
       "<style scoped>\n",
       "    .dataframe tbody tr th:only-of-type {\n",
       "        vertical-align: middle;\n",
       "    }\n",
       "\n",
       "    .dataframe tbody tr th {\n",
       "        vertical-align: top;\n",
       "    }\n",
       "\n",
       "    .dataframe thead th {\n",
       "        text-align: right;\n",
       "    }\n",
       "</style>\n",
       "<table border=\"1\" class=\"dataframe\">\n",
       "  <thead>\n",
       "    <tr style=\"text-align: right;\">\n",
       "      <th></th>\n",
       "      <th>SOURCE_DESC</th>\n",
       "      <th>SECTOR_DESC</th>\n",
       "      <th>GROUP_DESC</th>\n",
       "      <th>COMMODITY_DESC</th>\n",
       "      <th>CLASS_DESC</th>\n",
       "      <th>PRODN_PRACTICE_DESC</th>\n",
       "      <th>UTIL_PRACTICE_DESC</th>\n",
       "      <th>STATISTICCAT_DESC</th>\n",
       "      <th>UNIT_DESC</th>\n",
       "      <th>SHORT_DESC</th>\n",
       "      <th>...</th>\n",
       "      <th>LOCATION_DESC</th>\n",
       "      <th>YEAR</th>\n",
       "      <th>FREQ_DESC</th>\n",
       "      <th>BEGIN_CODE</th>\n",
       "      <th>END_CODE</th>\n",
       "      <th>REFERENCE_PERIOD_DESC</th>\n",
       "      <th>WEEK_ENDING</th>\n",
       "      <th>LOAD_TIME</th>\n",
       "      <th>VALUE</th>\n",
       "      <th>CV_%</th>\n",
       "    </tr>\n",
       "  </thead>\n",
       "  <tbody>\n",
       "    <tr>\n",
       "      <th>0</th>\n",
       "      <td>SURVEY</td>\n",
       "      <td>CROPS</td>\n",
       "      <td>FIELD CROPS</td>\n",
       "      <td>Soybeans</td>\n",
       "      <td>ALL CLASSES</td>\n",
       "      <td>ALL PRODUCTION PRACTICES</td>\n",
       "      <td>ALL UTILIZATION PRACTICES</td>\n",
       "      <td>YIELD</td>\n",
       "      <td>BU / ACRE</td>\n",
       "      <td>SOYBEANS - YIELD, MEASURED IN BU / ACRE</td>\n",
       "      <td>...</td>\n",
       "      <td>MICHIGAN, SOUTHWEST, CASS</td>\n",
       "      <td>1972</td>\n",
       "      <td>ANNUAL</td>\n",
       "      <td>0</td>\n",
       "      <td>0</td>\n",
       "      <td>YEAR</td>\n",
       "      <td>NaN</td>\n",
       "      <td>2012-01-01 00:00:00</td>\n",
       "      <td>23.1</td>\n",
       "      <td>NaN</td>\n",
       "    </tr>\n",
       "    <tr>\n",
       "      <th>1</th>\n",
       "      <td>SURVEY</td>\n",
       "      <td>CROPS</td>\n",
       "      <td>FIELD CROPS</td>\n",
       "      <td>Soybeans</td>\n",
       "      <td>ALL CLASSES</td>\n",
       "      <td>ALL PRODUCTION PRACTICES</td>\n",
       "      <td>ON FARM</td>\n",
       "      <td>STOCKS</td>\n",
       "      <td>BU</td>\n",
       "      <td>SOYBEANS, ON FARM - STOCKS, MEASURED IN BU</td>\n",
       "      <td>...</td>\n",
       "      <td>TENNESSEE</td>\n",
       "      <td>1965</td>\n",
       "      <td>POINT IN TIME</td>\n",
       "      <td>12</td>\n",
       "      <td>12</td>\n",
       "      <td>FIRST OF DEC</td>\n",
       "      <td>NaN</td>\n",
       "      <td>2012-01-01 00:00:00</td>\n",
       "      <td>2,236,000</td>\n",
       "      <td>NaN</td>\n",
       "    </tr>\n",
       "    <tr>\n",
       "      <th>2</th>\n",
       "      <td>SURVEY</td>\n",
       "      <td>CROPS</td>\n",
       "      <td>FIELD CROPS</td>\n",
       "      <td>Sugarbeets</td>\n",
       "      <td>ALL CLASSES</td>\n",
       "      <td>ALL PRODUCTION PRACTICES</td>\n",
       "      <td>ALL UTILIZATION PRACTICES</td>\n",
       "      <td>SUCROSE</td>\n",
       "      <td>PCT</td>\n",
       "      <td>SUGARBEETS - SUCROSE, MEASURED IN PCT</td>\n",
       "      <td>...</td>\n",
       "      <td>OHIO, NORTHWEST, PUTNAM</td>\n",
       "      <td>1983</td>\n",
       "      <td>ANNUAL</td>\n",
       "      <td>0</td>\n",
       "      <td>0</td>\n",
       "      <td>YEAR</td>\n",
       "      <td>NaN</td>\n",
       "      <td>2012-01-01 00:00:00</td>\n",
       "      <td>16.26</td>\n",
       "      <td>NaN</td>\n",
       "    </tr>\n",
       "    <tr>\n",
       "      <th>3</th>\n",
       "      <td>SURVEY</td>\n",
       "      <td>CROPS</td>\n",
       "      <td>FIELD CROPS</td>\n",
       "      <td>Hay</td>\n",
       "      <td>ALL CLASSES</td>\n",
       "      <td>ALL PRODUCTION PRACTICES</td>\n",
       "      <td>ALL UTILIZATION PRACTICES</td>\n",
       "      <td>PRODUCTION</td>\n",
       "      <td>TONS</td>\n",
       "      <td>HAY - PRODUCTION, MEASURED IN TONS</td>\n",
       "      <td>...</td>\n",
       "      <td>MISSOURI, NORTHWEST, ANDREW</td>\n",
       "      <td>1992</td>\n",
       "      <td>ANNUAL</td>\n",
       "      <td>0</td>\n",
       "      <td>0</td>\n",
       "      <td>YEAR</td>\n",
       "      <td>NaN</td>\n",
       "      <td>2012-01-01 00:00:00</td>\n",
       "      <td>49,500</td>\n",
       "      <td>NaN</td>\n",
       "    </tr>\n",
       "    <tr>\n",
       "      <th>4</th>\n",
       "      <td>SURVEY</td>\n",
       "      <td>CROPS</td>\n",
       "      <td>FIELD CROPS</td>\n",
       "      <td>Corn</td>\n",
       "      <td>ALL CLASSES</td>\n",
       "      <td>ALL PRODUCTION PRACTICES</td>\n",
       "      <td>SILAGE</td>\n",
       "      <td>PRODUCTION</td>\n",
       "      <td>TONS</td>\n",
       "      <td>CORN, SILAGE - PRODUCTION, MEASURED IN TONS</td>\n",
       "      <td>...</td>\n",
       "      <td>NEW YORK, CENTRAL, CORTLAND</td>\n",
       "      <td>1991</td>\n",
       "      <td>ANNUAL</td>\n",
       "      <td>0</td>\n",
       "      <td>0</td>\n",
       "      <td>YEAR</td>\n",
       "      <td>NaN</td>\n",
       "      <td>2012-01-01 00:00:00</td>\n",
       "      <td>184,200</td>\n",
       "      <td>NaN</td>\n",
       "    </tr>\n",
       "  </tbody>\n",
       "</table>\n",
       "<p>5 rows × 39 columns</p>\n",
       "</div>"
      ],
      "text/plain": [
       "  SOURCE_DESC SECTOR_DESC   GROUP_DESC COMMODITY_DESC   CLASS_DESC  \\\n",
       "0      SURVEY       CROPS  FIELD CROPS       Soybeans  ALL CLASSES   \n",
       "1      SURVEY       CROPS  FIELD CROPS       Soybeans  ALL CLASSES   \n",
       "2      SURVEY       CROPS  FIELD CROPS     Sugarbeets  ALL CLASSES   \n",
       "3      SURVEY       CROPS  FIELD CROPS            Hay  ALL CLASSES   \n",
       "4      SURVEY       CROPS  FIELD CROPS           Corn  ALL CLASSES   \n",
       "\n",
       "        PRODN_PRACTICE_DESC         UTIL_PRACTICE_DESC STATISTICCAT_DESC  \\\n",
       "0  ALL PRODUCTION PRACTICES  ALL UTILIZATION PRACTICES             YIELD   \n",
       "1  ALL PRODUCTION PRACTICES                    ON FARM            STOCKS   \n",
       "2  ALL PRODUCTION PRACTICES  ALL UTILIZATION PRACTICES           SUCROSE   \n",
       "3  ALL PRODUCTION PRACTICES  ALL UTILIZATION PRACTICES        PRODUCTION   \n",
       "4  ALL PRODUCTION PRACTICES                     SILAGE        PRODUCTION   \n",
       "\n",
       "   UNIT_DESC                                   SHORT_DESC  ...  \\\n",
       "0  BU / ACRE      SOYBEANS - YIELD, MEASURED IN BU / ACRE  ...   \n",
       "1         BU   SOYBEANS, ON FARM - STOCKS, MEASURED IN BU  ...   \n",
       "2        PCT        SUGARBEETS - SUCROSE, MEASURED IN PCT  ...   \n",
       "3       TONS           HAY - PRODUCTION, MEASURED IN TONS  ...   \n",
       "4       TONS  CORN, SILAGE - PRODUCTION, MEASURED IN TONS  ...   \n",
       "\n",
       "                 LOCATION_DESC  YEAR      FREQ_DESC  BEGIN_CODE  END_CODE  \\\n",
       "0    MICHIGAN, SOUTHWEST, CASS  1972         ANNUAL           0         0   \n",
       "1                    TENNESSEE  1965  POINT IN TIME          12        12   \n",
       "2      OHIO, NORTHWEST, PUTNAM  1983         ANNUAL           0         0   \n",
       "3  MISSOURI, NORTHWEST, ANDREW  1992         ANNUAL           0         0   \n",
       "4  NEW YORK, CENTRAL, CORTLAND  1991         ANNUAL           0         0   \n",
       "\n",
       "  REFERENCE_PERIOD_DESC WEEK_ENDING            LOAD_TIME      VALUE  CV_%  \n",
       "0                  YEAR         NaN  2012-01-01 00:00:00       23.1   NaN  \n",
       "1          FIRST OF DEC         NaN  2012-01-01 00:00:00  2,236,000   NaN  \n",
       "2                  YEAR         NaN  2012-01-01 00:00:00      16.26   NaN  \n",
       "3                  YEAR         NaN  2012-01-01 00:00:00     49,500   NaN  \n",
       "4                  YEAR         NaN  2012-01-01 00:00:00    184,200   NaN  \n",
       "\n",
       "[5 rows x 39 columns]"
      ]
     },
     "execution_count": 38,
     "metadata": {},
     "output_type": "execute_result"
    }
   ],
   "source": [
    "df.head()"
   ]
  },
  {
   "cell_type": "markdown",
   "metadata": {},
   "source": [
    "#### The `unique` method\n",
    "\n",
    "The `unique` method in cuDF efficiently scans through the data and extracts only the unique values present in a column or rows.\n",
    "\n",
    "By utilizing parallel processing on the GPU, the unique method in cuDF can quickly identify and return the unique values from a specific column or rows in a cuDF dataframe. This functionality is particularly useful when you need to extract distinct values for further analysis or data processing tasks.\n",
    "\n",
    "**cuDF**"
   ]
  },
  {
   "cell_type": "code",
   "execution_count": 39,
   "metadata": {},
   "outputs": [
    {
     "name": "stdout",
     "output_type": "stream",
     "text": [
      "CPU times: user 40.6 ms, sys: 36.4 ms, total: 77 ms\n",
      "Wall time: 76 ms\n"
     ]
    },
    {
     "data": {
      "text/plain": [
       "0                    Alcohol Coproducts\n",
       "1                               Almonds\n",
       "2                              Amaranth\n",
       "3                                Apples\n",
       "4                              Apricots\n",
       "                     ...               \n",
       "262                          Watercress\n",
       "263                               Wheat\n",
       "264                           Wild Rice\n",
       "265    Woody Ornamentals & Vines, Other\n",
       "266                                Yams\n",
       "Name: COMMODITY_DESC, Length: 267, dtype: object"
      ]
     },
     "execution_count": 39,
     "metadata": {},
     "output_type": "execute_result"
    }
   ],
   "source": [
    "%time gdf['COMMODITY_DESC'].unique()"
   ]
  },
  {
   "cell_type": "markdown",
   "metadata": {},
   "source": [
    "**pandas**"
   ]
  },
  {
   "cell_type": "code",
   "execution_count": 40,
   "metadata": {},
   "outputs": [
    {
     "name": "stdout",
     "output_type": "stream",
     "text": [
      "CPU times: user 1.01 s, sys: 49.4 ms, total: 1.06 s\n",
      "Wall time: 1.05 s\n"
     ]
    },
    {
     "data": {
      "text/plain": [
       "array(['Soybeans', 'Sugarbeets', 'Hay', 'Corn', 'Wheat', 'Sunflower',\n",
       "       'Oats', 'Cotton', 'Rye', 'Crop Totals', 'Hay & Haylage',\n",
       "       'Sugarcane', 'Beans', 'Sorghum', 'Bedding Plants, Annual',\n",
       "       'Potatoes', 'Tobacco', 'Barley', 'Greens', 'Horticulture Totals',\n",
       "       'Tomatoes', 'Vegetable Totals', 'Pumpkins',\n",
       "       'Bedding Plants, Herbaceous Perennial', 'Blackberries', 'Squash',\n",
       "       'Pecans', 'Pastureland', 'Rice', 'Orchards', 'Berry Totals',\n",
       "       'Fruit & Tree Nut Totals', 'Fruit & Nut Plants', 'Grapes',\n",
       "       'Apples', 'Cut Christmas Trees & Short Term Woody Crops',\n",
       "       'Peanuts', 'Sweet Corn', 'Grain Storage Capacity',\n",
       "       'Flowering Plants, Potted', 'Turnips', 'Tangerines',\n",
       "       'Nursery Totals', 'Sweet Potatoes', 'Flaxseed', 'Blueberries',\n",
       "       'Cut Christmas Trees', 'Soil', 'Grain', 'Foliage Plants', 'Mint',\n",
       "       'Beets', 'Deciduous Shade Trees', 'Grapefruit',\n",
       "       'Vegetables, Other', 'Fruit & Tree Nuts, Other', 'Peas',\n",
       "       'Nectarines', 'Tree Nut Totals', 'Lettuce', 'Oranges',\n",
       "       'Cake & Meal', 'Peaches', 'Field Crops, Other', 'Cucumbers',\n",
       "       'Cabbage', 'Maple Syrup', 'Short Term Woody Crops', 'Haylage',\n",
       "       'Popcorn', 'Onions', 'Grasses', 'Bittermelon', 'Eggplant',\n",
       "       'Propagative Material', 'Melons', 'Non-Citrus Totals',\n",
       "       'Raspberries', 'Peppers', 'Grasses & Legumes Totals',\n",
       "       'Woody Ornamentals & Vines, Other', 'Chestnuts', 'Food Grains',\n",
       "       'Pistachios', 'Potatoes & Dry Beans', 'Apricots', 'Safflower',\n",
       "       'Strawberries', 'Pears', 'Aquatic Plants', 'Cherries',\n",
       "       'Floriculture Totals', 'Horticulture, Other',\n",
       "       'Deciduous Flowering Trees', 'Cauliflower', 'Fruit Totals',\n",
       "       'Avocados', 'Plums & Prunes', 'Cut Flowers', 'Transplants',\n",
       "       'Spinach', 'Herbs', 'Lentils', 'Small Grains', 'Walnuts',\n",
       "       'Vegetable Seeds', 'Crops, Other', 'Bedding Plant Totals',\n",
       "       'Evergreens, Broadleaf', 'Mushrooms', 'Field Crop Totals',\n",
       "       'Carrots', 'Broccoli', 'Persimmons', 'Mustard', 'Okra',\n",
       "       'Deciduous Shrubs', 'Garlic', 'Tangelos', 'Guavas', 'Horseradish',\n",
       "       'Radishes', 'Bananas', 'Kumquats',\n",
       "       'Cut Flowers & Cut Cultivated Greens', 'Emmer & Spelt', 'Rhubarb',\n",
       "       'Sod', 'Fieldwork', 'Evergreens, Coniferous', 'Almonds',\n",
       "       'Buckwheat', 'Canola', 'Hazelnuts', 'Citrus Totals', 'Plantains',\n",
       "       'Flower Seeds', 'Hops', 'Tree Nuts, Other', 'Coffee',\n",
       "       'Bulbs & Corms & Rhizomes & Tubers', 'Chickpeas', 'Berries, Other',\n",
       "       'Cut Cultivated Greens', 'Plums', 'Nursery, Other',\n",
       "       'Brussels Sprouts', 'Figs', 'Field Crops & Vegetables, Other',\n",
       "       'Grasses & Legumes, Other', 'Non-Citrus, Other', 'Asparagus',\n",
       "       'Elderberries', 'Packing Facility', 'Legumes', 'Lemons', 'Parsley',\n",
       "       'Triticale', 'Ginger Root', 'Taro', 'Millet', 'Loganberries',\n",
       "       'Chicory', 'Rapeseed', 'Food Crop Totals', 'Ginseng',\n",
       "       'Feed Grains & Hay', 'Celery', 'Artichokes', 'Cranberries',\n",
       "       'Vegetables, Mixed', 'Boysenberries', 'Prunes',\n",
       "       'Ornamental Grasses', 'Floriculture, Other', 'Breadfruit',\n",
       "       'Temples', 'Bareroot Herbaceous Perennials', 'Aronia Berries',\n",
       "       'Dill', 'Jojoba', 'Escarole & Endive', 'Currants', 'Limes',\n",
       "       'Daikon', 'Flour', 'Cold Storage Capacity', 'Yams', 'Cacao',\n",
       "       'Alcohol Coproducts', 'Cassava', 'Oil', 'Passion Fruit', 'Olives',\n",
       "       'Fruit, Other', 'Pomegranates', 'Chironjas', 'Oil-Bearing Crops',\n",
       "       'Citrus, Other', 'Guar', 'Root Crops & Tubers, Other',\n",
       "       'Switchgrass', 'Camelina', 'Dates', 'Snow', 'Kiwifruit',\n",
       "       'Watercress', 'Coconuts', 'Sorrel',\n",
       "       'Non-Citrus Fruit & Tree Nuts Totals', 'Dasheens', 'Sesame',\n",
       "       'Wild Rice', 'Miscanthus', 'Food Crop, Other', 'Papayas',\n",
       "       'Soursops', 'Mangoes', 'Macadamias', 'Kava', 'Millfeed',\n",
       "       'Plum-Apricot Hybrids', 'Quenepas', 'Root Celery', 'Pineapples',\n",
       "       'Palms', 'Lemons & Limes', 'Laupele', 'Starfruit', 'Pickles',\n",
       "       'Peas & Carrots', 'Peas & Lentils', 'Basil', 'Cacti & Succulents',\n",
       "       'Feed Grains', 'Pimientos', 'Dragon Fruit', 'Mushroom Spawn',\n",
       "       'Gado', 'Roots & Tubers', 'Field Crop & Vegetable Totals',\n",
       "       'K-Early Citrus', 'Root Crops & Tubers', 'Cherimoyas', 'Citrons',\n",
       "       'Ornamental Tree Seedlings', 'Gooseberries', 'Taniers',\n",
       "       'Sweet Rice', 'Crambe', 'Amaranth', 'Sprouts', 'Roots, Other',\n",
       "       'Coriander', 'Chives', 'Sweetsops', 'Bulbs & Roots', 'Betel Nuts',\n",
       "       'Poinsettias', 'Cilantro', 'Crude Pine Gum', 'Lotus Root',\n",
       "       'Silage', 'Fruit Bearing Trees', 'Caneberries', 'Herbs & Spices',\n",
       "       'Hemp'], dtype=object)"
      ]
     },
     "execution_count": 40,
     "metadata": {},
     "output_type": "execute_result"
    }
   ],
   "source": [
    "%time df['COMMODITY_DESC'].unique()"
   ]
  },
  {
   "cell_type": "markdown",
   "metadata": {},
   "source": [
    "#### The `value_counts` method\n",
    "\n",
    "The `value_counts()` method is a valuable function that returns an object with the counts of unique values in a column of a DataFrame. This function is particularly useful when you want to determine the frequency or occurrence of different values within a specific column.\n",
    "\n",
    "To identify the top 10 crops based on their occurrence count, you can use the following code snippet:\n",
    "\n",
    "**cuDF**"
   ]
  },
  {
   "cell_type": "code",
   "execution_count": 41,
   "metadata": {},
   "outputs": [
    {
     "name": "stdout",
     "output_type": "stream",
     "text": [
      "CPU times: user 17.7 ms, sys: 10.7 ms, total: 28.3 ms\n",
      "Wall time: 27.3 ms\n"
     ]
    },
    {
     "data": {
      "text/plain": [
       "Wheat               3971067\n",
       "Corn                2103901\n",
       "Hay                 1673872\n",
       "Soybeans            1168626\n",
       "Barley               848615\n",
       "Oats                 817520\n",
       "Sorghum              752455\n",
       "Cotton               710160\n",
       "Soil                 452440\n",
       "Vegetable Totals     402757\n",
       "Name: COMMODITY_DESC, dtype: int32"
      ]
     },
     "execution_count": 41,
     "metadata": {},
     "output_type": "execute_result"
    }
   ],
   "source": [
    "%time gdf['COMMODITY_DESC'].value_counts()[:10]"
   ]
  },
  {
   "cell_type": "markdown",
   "metadata": {},
   "source": [
    "**pandas**"
   ]
  },
  {
   "cell_type": "code",
   "execution_count": 42,
   "metadata": {},
   "outputs": [
    {
     "name": "stdout",
     "output_type": "stream",
     "text": [
      "CPU times: user 1.57 s, sys: 0 ns, total: 1.57 s\n",
      "Wall time: 1.56 s\n"
     ]
    },
    {
     "data": {
      "text/plain": [
       "Wheat               3971067\n",
       "Corn                2103901\n",
       "Hay                 1673872\n",
       "Soybeans            1168626\n",
       "Barley               848615\n",
       "Oats                 817520\n",
       "Sorghum              752455\n",
       "Cotton               710160\n",
       "Soil                 452440\n",
       "Vegetable Totals     402757\n",
       "Name: COMMODITY_DESC, dtype: int64"
      ]
     },
     "execution_count": 42,
     "metadata": {},
     "output_type": "execute_result"
    }
   ],
   "source": [
    "%time df['COMMODITY_DESC'].value_counts()[:10]"
   ]
  },
  {
   "cell_type": "markdown",
   "metadata": {},
   "source": [
    "## Conclusion\n",
    "\n",
    "This notebook compares the performance and features of two data manipulation libraries: cuDF (GPU-accelerated) and pandas (CPU-based). cuDF excels in speed and scalability with large datasets, thanks to GPU acceleration. pandas offers comprehensive functionalities and broad community support.\n",
    "\n",
    "Choosing between them depends on specific needs. cuDF is ideal for high-performance computing on large datasets, while pandas is favored for its extensive functionality and ease of use. Users can make informed decisions on leveraging cuDF's speed or pandas' comprehensive features for data manipulation and analysis tasks by considering factors like dataset size and complexity.\n",
    "\n",
    "For additional functions and features of cuDF, you can visit the [official website](https://docs.rapids.ai/api/cudf/stable/) and refer to the documentation for detailed information."
   ]
  },
  {
   "cell_type": "markdown",
   "metadata": {},
   "source": [
    "***\n",
    "\n",
    "## Bonus Questions\n",
    "\n",
    "We will use the `%load` command to load the content of a specified file into the cell, primarily for the purpose of incorporating solutions once you have finished the exercises."
   ]
  },
  {
   "cell_type": "markdown",
   "metadata": {},
   "source": [
    "### Q1: Modify Data Type\n",
    "\n",
    "Analyze the data types of the **gdf** DataFrame and convert any 64-bit data types to their 32-bit counterparts.\n",
    "\n",
    "* Retrieve the data types of each column in the gdf DataFrame and store them in the **gdf_dtypes** variable. Iterate over each column and check if the data type is either 'int64' or 'float64'.\n",
    "\n",
    "* If a column has a 64-bit data type, use the `astype()` method to convert it to the corresponding 32-bit data type."
   ]
  },
  {
   "cell_type": "code",
   "execution_count": null,
   "metadata": {},
   "outputs": [],
   "source": [
    "# Code it"
   ]
  },
  {
   "cell_type": "markdown",
   "metadata": {},
   "source": [
    "**Solution**"
   ]
  },
  {
   "cell_type": "code",
   "execution_count": 112,
   "metadata": {},
   "outputs": [
    {
     "name": "stdout",
     "output_type": "stream",
     "text": [
      "SOURCE_DESC               object\n",
      "SECTOR_DESC               object\n",
      "GROUP_DESC                object\n",
      "COMMODITY_DESC            object\n",
      "CLASS_DESC                object\n",
      "PRODN_PRACTICE_DESC       object\n",
      "UTIL_PRACTICE_DESC        object\n",
      "STATISTICCAT_DESC         object\n",
      "UNIT_DESC                 object\n",
      "SHORT_DESC                object\n",
      "DOMAIN_DESC               object\n",
      "DOMAINCAT_DESC            object\n",
      "AGG_LEVEL_DESC            object\n",
      "STATE_ANSI                 int32\n",
      "STATE_FIPS_CODE            int64\n",
      "STATE_ALPHA               object\n",
      "STATE_NAME                object\n",
      "ASD_CODE                   int32\n",
      "ASD_DESC                  object\n",
      "COUNTY_ANSI                int64\n",
      "COUNTY_CODE              float32\n",
      "COUNTY_NAME               object\n",
      "REGION_DESC               object\n",
      "ZIP_5                      int64\n",
      "WATERSHED_CODE             int64\n",
      "WATERSHED_DESC            object\n",
      "CONGR_DISTRICT_CODE         int8\n",
      "COUNTRY_CODE               int64\n",
      "COUNTRY_NAME              object\n",
      "LOCATION_DESC             object\n",
      "YEAR                       int64\n",
      "FREQ_DESC                 object\n",
      "BEGIN_CODE                 int64\n",
      "END_CODE                   int64\n",
      "REFERENCE_PERIOD_DESC     object\n",
      "WEEK_ENDING               object\n",
      "LOAD_TIME                 object\n",
      "VALUE                     object\n",
      "CV_%                      object\n",
      "dtype: object\n"
     ]
    }
   ],
   "source": [
    "%load solutions/03.3_modify_dtypes"
   ]
  },
  {
   "cell_type": "markdown",
   "metadata": {},
   "source": [
    "### Q2: Oranges states\n",
    "\n",
    "In this exercise, the objective is to identify the states involved in the cultivation of the commodity 'Oranges'. \n",
    "\n",
    "* To achieve this, we utilize the `loc()` method to filter rows from the data where the 'COMMODITY_DESC' column is equal to 'Oranges'. We extract the 'COMMODITY_DESC' and 'STATE_NAME' columns, forming the oranges DataFrame. \n",
    "\n",
    "* By accessing the 'STATE_NAME' column of the oranges DataFrame and applying the `unique()` method, we obtain an array of unique state names that represent the states engaged in the cultivation of oranges."
   ]
  },
  {
   "cell_type": "code",
   "execution_count": null,
   "metadata": {},
   "outputs": [],
   "source": [
    "# Code it"
   ]
  },
  {
   "cell_type": "markdown",
   "metadata": {},
   "source": [
    "**Solution**"
   ]
  },
  {
   "cell_type": "code",
   "execution_count": 106,
   "metadata": {},
   "outputs": [
    {
     "data": {
      "text/plain": [
       "0                      ALABAMA\n",
       "1               AMERICAN SAMOA\n",
       "2                      ARIZONA\n",
       "3                   CALIFORNIA\n",
       "4                      FLORIDA\n",
       "5                      GEORGIA\n",
       "6                         GUAM\n",
       "7                       HAWAII\n",
       "8                    LOUISIANA\n",
       "9                  MISSISSIPPI\n",
       "10                    NEW YORK\n",
       "11    NORTHERN MARIANA ISLANDS\n",
       "12                 PUERTO RICO\n",
       "13              SOUTH CAROLINA\n",
       "14                       TEXAS\n",
       "15                    US TOTAL\n",
       "16    VIRGIN ISLANDS OF THE US\n",
       "Name: STATE_NAME, dtype: object"
      ]
     },
     "execution_count": 106,
     "metadata": {},
     "output_type": "execute_result"
    }
   ],
   "source": [
    "%load solutions/03.3_oranges_states"
   ]
  },
  {
   "cell_type": "markdown",
   "metadata": {},
   "source": [
    "### Q3: Top five crops\n",
    "\n",
    "To identify the top 5 crops in Florida, you will utilize the `groupby` and `value_counts` methods. \n",
    "\n",
    "* By grouping the data by 'STATE_NAME' and retrieving the group for Florida using `get_group`, you can count the occurrences of each crop in Florida. \n",
    "\n",
    "* Then, you can use the `value_counts()` method combined with slicing to select the top 5 crops based on their counts in Florida, like `value_counts()[:5]`."
   ]
  },
  {
   "cell_type": "code",
   "execution_count": null,
   "metadata": {},
   "outputs": [],
   "source": [
    "# Code it"
   ]
  },
  {
   "cell_type": "markdown",
   "metadata": {},
   "source": [
    "**Solution**"
   ]
  },
  {
   "cell_type": "code",
   "execution_count": 93,
   "metadata": {},
   "outputs": [
    {
     "data": {
      "text/plain": [
       "STATE_NAME  COMMODITY_DESC  \n",
       "FLORIDA     Soil                15180\n",
       "            Corn                15142\n",
       "            Peanuts             14592\n",
       "            Oranges             10671\n",
       "            Vegetable Totals    10166\n",
       "dtype: int64"
      ]
     },
     "execution_count": 93,
     "metadata": {},
     "output_type": "execute_result"
    }
   ],
   "source": [
    "%load solutions/03.3_top_five_crops"
   ]
  },
  {
   "cell_type": "code",
   "execution_count": null,
   "metadata": {},
   "outputs": [],
   "source": []
  }
 ],
 "metadata": {
  "kernelspec": {
   "display_name": "RAPIDSai-23.02",
   "language": "python",
   "name": "rapidsai-23.02"
  },
  "language_info": {
   "codemirror_mode": {
    "name": "ipython",
    "version": 3
   },
   "file_extension": ".py",
   "mimetype": "text/x-python",
   "name": "python",
   "nbconvert_exporter": "python",
   "pygments_lexer": "ipython3",
   "version": "3.10.9"
  }
 },
 "nbformat": 4,
 "nbformat_minor": 4
}
