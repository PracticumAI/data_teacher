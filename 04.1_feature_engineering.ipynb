{
 "cells": [
  {
   "cell_type": "markdown",
   "metadata": {
    "tags": []
   },
   "source": [
    "![Practicum AI Logo image](https://github.com/PracticumAI/practicumai.github.io/blob/main/images/logo/PracticumAI_logo_250x50.png?raw=true)  <img src='images/04/data_optimization.png' align='right' width=50>\n",
    "\n",
    "# *Practicum AI Data*: Data Optimization - Feature Engineering\n",
    "\n",
    "This exercise is inspired by [Nvidia's online deep learning courses](https://courses.nvidia.com/courses/course-v1:DLI+S-DS-01+V1/).\n",
    "***\n",
    "\n",
    "In this notebook, we will explore commonly used feature engineering techniques to optimize different types of data, including numerical variables, categorical variables, time-series data, and text data. During our exploration, we will explore how to convert categorical data into numerical representations using encoding and vectorizing methods. We will also discuss techniques such as transformers and binning that can be applied to normalize or standardize data distributions. Furthermore, we will explore how hashing and principal component analysis (PCA) can generate new features and reduce dataset dimensionality.\n",
    "\n",
    "\n",
    "## Objectives\n",
    "\n",
    "By the end of this notebook, you will be able to:\n",
    "\n",
    "1. Gain a comprehensive understanding of feature engineering and its significance in machine learning.\n",
    "2. Apply various feature engineering techniques to optimize the dataset.\n",
    "\n",
    "### Table of Contents\n",
    "\n",
    "* [1. Introduction](#introduction)\n",
    "* [2. Feature Engineering Techniques](#techniques)\n",
    "    * [2.1 Feature Engineering for Numerical Variables](#section_1)\n",
    "        * [2.1.1 Feature Selection and Extraction](#section_1_1)\n",
    "        * [2.1.2 Scaling and Normalization](#section_1_2)\n",
    "        * [2.1.3 Creating New Feature](#section_1_3)\n",
    "        * [2.1.4 Skewness and Kurtosis Handling](#section_1_4)\n",
    "        * [2.1.5 Handling Imbalanced Data](#section_1_5)\n",
    "    * [2.2 Feture Engineering for Categorical Varibles](#section_2)\n",
    "        * [2.2.1 Encoding Categorical Variables](#section_2_1)\n",
    "        * [2.2.2 Handling Rare Categories](#section_2_2)\n",
    "    * [2.3 Feature Engineering for Time-Series Data](#section_3)\n",
    "    * [2.4 Feature Engineering for Text Data](#section_4)\n",
    "* [3. Conclusion](#conclusion)\n",
    "\n",
    "## 1. Introduction<a class=\"anchor\" id=\"introduction\"></a>\n",
    "\n",
    "**Feature engineering is the process of transforming raw data into a format that is suitable for machine learning algorithms to extract meaningful patterns and make accurate predictions.** It involves selecting, creating, and manipulating variables or features that represent important characteristics or properties of the data.\n",
    "\n",
    "The goal of feature engineering is to enhance the predictive power of a machine learning model by providing it with informative and relevant inputs. This can involve a variety of techniques, such as:\n",
    "\n",
    "* Feature selection: Identifying and choosing the most relevant features from the available data. This helps to reduce dimensionality and remove noisy or redundant information, improving the model's efficiency and generalization.\n",
    "\n",
    "* Feature extraction: Creating new features from existing data through mathematical transformations or domain-specific knowledge. This can involve techniques like principal component analysis (PCA), wavelet transforms, or text parsing to extract meaningful information.\n",
    "\n",
    "* Feature encoding: Converting categorical variables into numerical representations that can be understood by machine learning algorithms. This can include one-hot encoding, ordinal encoding, or target encoding.\n",
    "\n",
    "* Feature scaling: Normalizing or standardizing numerical features to ensure they are on a similar scale. This prevents features with larger values from dominating the model's learning process and helps algorithms converge more effectively.\n",
    "\n",
    "* Feature synthesis: Generating new features by combining existing ones or creating interactions between them. This can involve techniques like polynomial features, feature crossing, or time-based aggregations.\n",
    "\n",
    "By performing effective feature engineering, data scientists aim to improve the performance, interpretability, and robustness of machine learning models. It requires a deep understanding of the data, domain knowledge, and creativity to transform raw data into meaningful representations that capture the underlying patterns and relationships in the data."
   ]
  },
  {
   "cell_type": "markdown",
   "metadata": {
    "tags": []
   },
   "source": [
    "## 2. Feature Engineering Techniques<a class=\"anchor\" id=\"techniques\"></a>\n",
    "\n",
    "In this notebook, we will delve into a range of commonly used techniques in Feature Engineering. Initially, we will cover feature selection and extraction, scaling and normalization, creating new features, handling imbalanced data, and addressing skewness and kurtosis. Next, we will explore the encoding of categorical variables and managing rare categories. Lastly, we will focus on feature engineering approaches for handling time-series and text data.\n",
    "\n",
    "By the end of this guide, you will have a comprehensive understanding of Feature Engineering techniques and their potential to enhance the performance of your machine learning models. \n",
    "\n",
    "Let's get started!\n",
    "\n",
    "### 2.1 Feature Engineering for Numerical Variables<a class=\"anchor\" id=\"section_1\"></a>\n",
    "\n",
    "Numerical variables are quantitative measurements expressed as numbers. They can be discrete (whole numbers) or continuous (any value within a range). Examples include age, height, weight, temperature, and income. Numerical variables are used in statistical analysis and mathematical computations.\n",
    "\n",
    "#### 2.1.1 Feature Selection and Extraction<a class=\"anchor\" id=\"section_1_1\"></a>\n",
    "\n",
    "Feature selection and extraction play a vital role in machine learning as they involve identifying the most significant features from a dataset, leading to improved accuracy and efficiency of the model. In this section, we will explore several widely used techniques for feature selection and extraction, accompanied by Python code snippets.\n",
    "\n",
    "**(1)  Principal Component Analysis (PCA)**\n",
    "\n",
    "PCA is a statistical technique that reduces the dimensionality of a dataset. It achieves this by transforming the original features into a new set of features called principal components. These principal components are chosen in a way that captures the maximum variance in the data. \n",
    "\n",
    "By retaining a subset of the principal components that explain the majority of the variance, PCA effectively reduces the dataset's dimensionality. This lower-dimensional representation aids in visualization, interpretation, and analysis of the data while preserving important information.\n",
    "\n",
    "<div style=\"text-align:center\">\n",
    "    <h1 style=\"font-size:12px; \">How PCA Work</h1>\n",
    "    <img src=\"images/04/pca.png\" width=\"400\">\n",
    "    <p style=\"font-style:italic; font-size:12px; text-align:center\">Image Source:<a href=\"https://towardsdatascience.com/7-of-the-most-used-feature-engineering-techniques-bcc50f48474d#f4b0\" style=\"text-decoration:none; color:inherit;\">Medium</a></p>\n",
    "</div>\n",
    "\n",
    "Normally, PCA involves standardizing the data, calculating the covariance matrix, computing eigenvectors and eigenvalues, selecting the principal components based on high eigenvalues, and projecting the data onto a lower-dimensional space.\n",
    "\n",
    "Now, let's see how to conduct PCA on a dataset using the scikit-learn library."
   ]
  },
  {
   "cell_type": "code",
   "execution_count": 73,
   "metadata": {},
   "outputs": [
    {
     "data": {
      "text/html": [
       "<div>\n",
       "<style scoped>\n",
       "    .dataframe tbody tr th:only-of-type {\n",
       "        vertical-align: middle;\n",
       "    }\n",
       "\n",
       "    .dataframe tbody tr th {\n",
       "        vertical-align: top;\n",
       "    }\n",
       "\n",
       "    .dataframe thead th {\n",
       "        text-align: right;\n",
       "    }\n",
       "</style>\n",
       "<table border=\"1\" class=\"dataframe\">\n",
       "  <thead>\n",
       "    <tr style=\"text-align: right;\">\n",
       "      <th></th>\n",
       "      <th>Id</th>\n",
       "      <th>SepalLengthCm</th>\n",
       "      <th>SepalWidthCm</th>\n",
       "      <th>PetalLengthCm</th>\n",
       "      <th>PetalWidthCm</th>\n",
       "      <th>Species</th>\n",
       "    </tr>\n",
       "  </thead>\n",
       "  <tbody>\n",
       "    <tr>\n",
       "      <th>0</th>\n",
       "      <td>1</td>\n",
       "      <td>5.1</td>\n",
       "      <td>3.5</td>\n",
       "      <td>1.4</td>\n",
       "      <td>0.2</td>\n",
       "      <td>Iris-setosa</td>\n",
       "    </tr>\n",
       "    <tr>\n",
       "      <th>1</th>\n",
       "      <td>2</td>\n",
       "      <td>4.9</td>\n",
       "      <td>3.0</td>\n",
       "      <td>1.4</td>\n",
       "      <td>0.2</td>\n",
       "      <td>Iris-setosa</td>\n",
       "    </tr>\n",
       "    <tr>\n",
       "      <th>2</th>\n",
       "      <td>3</td>\n",
       "      <td>4.7</td>\n",
       "      <td>3.2</td>\n",
       "      <td>1.3</td>\n",
       "      <td>0.2</td>\n",
       "      <td>Iris-setosa</td>\n",
       "    </tr>\n",
       "    <tr>\n",
       "      <th>3</th>\n",
       "      <td>4</td>\n",
       "      <td>4.6</td>\n",
       "      <td>3.1</td>\n",
       "      <td>1.5</td>\n",
       "      <td>0.2</td>\n",
       "      <td>Iris-setosa</td>\n",
       "    </tr>\n",
       "    <tr>\n",
       "      <th>4</th>\n",
       "      <td>5</td>\n",
       "      <td>5.0</td>\n",
       "      <td>3.6</td>\n",
       "      <td>1.4</td>\n",
       "      <td>0.2</td>\n",
       "      <td>Iris-setosa</td>\n",
       "    </tr>\n",
       "  </tbody>\n",
       "</table>\n",
       "</div>"
      ],
      "text/plain": [
       "   Id  SepalLengthCm  SepalWidthCm  PetalLengthCm  PetalWidthCm      Species\n",
       "0   1            5.1           3.5            1.4           0.2  Iris-setosa\n",
       "1   2            4.9           3.0            1.4           0.2  Iris-setosa\n",
       "2   3            4.7           3.2            1.3           0.2  Iris-setosa\n",
       "3   4            4.6           3.1            1.5           0.2  Iris-setosa\n",
       "4   5            5.0           3.6            1.4           0.2  Iris-setosa"
      ]
     },
     "execution_count": 73,
     "metadata": {},
     "output_type": "execute_result"
    }
   ],
   "source": [
    "import pandas as pd\n",
    "\n",
    "# Load the Iris dataset\n",
    "iris_data = pd.read_csv('data/Iris.csv')\n",
    "iris_data.dropna(how=\"all\", inplace=True) # drops the empty lines\n",
    "\n",
    "iris_data.head()"
   ]
  },
  {
   "cell_type": "markdown",
   "metadata": {},
   "source": [
    "<div style=\"padding: 10px;margin-bottom: 20px;border: thin solid #65BB7B;border-left-width: 10px;background-color: #fff\"><strong>Note:</strong> The <a href=\"https://archive.ics.uci.edu/dataset/53/iris\" style=\"text-decoration:none; color:inherit;\">Iris dataset</a>  is a dataset containing information about three species of Iris flowers (Iris setosa, Iris virginica and Iris versicolor). It includes data on the length and width of the sepals and petals of the flowers in centimeters and contains 150 observations.</div>\n",
    "\n",
    "First, we can have a look at the distribution of the data in the four dimensions (Sepal Length, Sepal Width, Petal Length, Petal Width)"
   ]
  },
  {
   "cell_type": "code",
   "execution_count": 6,
   "metadata": {},
   "outputs": [
    {
     "data": {
      "image/png": "[encoded data removed]",
      "text/plain": [
       "<Figure size 720x576 with 4 Axes>"
      ]
     },
     "metadata": {},
     "output_type": "display_data"
    }
   ],
   "source": [
    "from matplotlib import pyplot as plt\n",
    "import seaborn as sns\n",
    "\n",
    "\n",
    "sns.set_style(\"whitegrid\")\n",
    "colors = [\"black\", \"#f3d23aff\", \"grey\"]\n",
    "plt.figure(figsize=(10, 8))\n",
    "\n",
    "with sns.axes_style(\"darkgrid\"):\n",
    "    for cnt, column in enumerate(iris_data.columns[1:5]):\n",
    "        plt.subplot(2, 2, cnt+1)\n",
    "        for species_cnt, species in enumerate(iris_data.Species.unique()):\n",
    "            plt.hist(iris_data[iris_data.Species == species][column], label=species, color=colors[species_cnt])\n",
    "\n",
    "        plt.xlabel(column)\n",
    "    plt.legend(loc='upper right', fancybox=True, fontsize=8)\n",
    "\n",
    "    plt.tight_layout()\n",
    "    plt.show()"
   ]
  },
  {
   "cell_type": "markdown",
   "metadata": {},
   "source": [
    "The distribution clearly reveals that the individual classes can be distinguished quite effectively using the PetalWidth and PetalLength features. Thus, if limited to utilizing only two dimensions as features for the model, these two would be the optimal choice. The resulting figure obtained by plotting these dimensions is presented below."
   ]
  },
  {
   "cell_type": "code",
   "execution_count": 31,
   "metadata": {},
   "outputs": [
    {
     "data": {
      "image/png": "[encoded data removed]",
      "text/plain": [
       "<Figure size 474.35x360 with 1 Axes>"
      ]
     },
     "metadata": {},
     "output_type": "display_data"
    }
   ],
   "source": [
    "import seaborn as sns\n",
    "import matplotlib.pyplot as plt\n",
    "\n",
    "sns.set(style=\"darkgrid\", palette=\"pastel\")\n",
    "colors = [\"black\", \"#f3d23aff\", \"grey\"]\n",
    "\n",
    "sns.FacetGrid(iris_data, hue=\"Species\", height=5,  palette=colors) \\\n",
    "   .map(plt.scatter, \"PetalLengthCm\", \"PetalWidthCm\") \\\n",
    "   .add_legend()\n",
    "\n",
    "plt.show()"
   ]
  },
  {
   "cell_type": "markdown",
   "metadata": {},
   "source": [
    "By selecting the most crucial attributes, we can effectively decrease the dimensionality while minimizing information loss. \n",
    "\n",
    "PCA takes it a step further by centering, scaling, and projecting the data onto new dimensions, liberating us from the constraints of the original feature space. This process can be likened to rotating a 3D dataset in space until an optimal orientation is found, enabling easier class separation."
   ]
  },
  {
   "cell_type": "code",
   "execution_count": 48,
   "metadata": {},
   "outputs": [
    {
     "name": "stdout",
     "output_type": "stream",
     "text": [
      "Explained variance ratio: [0.92461621 0.05301557]\n"
     ]
    }
   ],
   "source": [
    "from sklearn.decomposition import PCA\n",
    "\n",
    "# define X\n",
    "X = iris_data[[\"PetalLengthCm\", \"PetalWidthCm\", \"SepalLengthCm\", \"SepalWidthCm\"]]\n",
    "\n",
    "# fit PCA and transform X\n",
    "pca = PCA(n_components=2).fit(X)\n",
    "X_transform = pca.transform(X)\n",
    "\n",
    "# calculate the explained variance ratio\n",
    "print(\"Explained variance ratio:\", pca.explained_variance_ratio_)"
   ]
  },
  {
   "cell_type": "markdown",
   "metadata": {},
   "source": [
    "<div style=\"padding: 10px;margin-bottom: 20px;border: thin solid #65BB7B;border-left-width: 10px;background-color: #fff\"><strong>Note:</strong> The <em>explained_variance_ratio_</em> attribute returns an array of values, where each value represents the proportion of variance explained by each principal component.</div>\n",
    "\n",
    "Finally, let's visualize the two-dimensional plot using the new two principal components (PC)."
   ]
  },
  {
   "cell_type": "code",
   "execution_count": 68,
   "metadata": {},
   "outputs": [
    {
     "data": {
      "image/png": "[encoded data removed]",
      "text/plain": [
       "<Figure size 432x288 with 1 Axes>"
      ]
     },
     "metadata": {},
     "output_type": "display_data"
    }
   ],
   "source": [
    "# Assign numeric codes to each category in the \"Species\" column\n",
    "iris_data_trans[\"Species\"] = pd.Categorical(iris_data_trans[\"Species\"])\n",
    "iris_data_trans[\"Species\"] = iris_data_trans[\"Species\"].cat.codes\n",
    "\n",
    "# Define custom colors for each species\n",
    "color_map = {\"Iris-setosa\": \"black\", \"Iris-versicolor\": \"#f3d23a\", \"Iris-virginica\": \"grey\"}\n",
    "\n",
    "# Plot 2D plot with custom colors and labels\n",
    "for species, color in color_map.items():\n",
    "    plt.scatter(iris_data_trans.loc[iris_data[\"Species\"] == species, \"PCA1\"],\n",
    "                iris_data_trans.loc[iris_data[\"Species\"] == species, \"PCA2\"],\n",
    "                c=color,\n",
    "                label=species)\n",
    "\n",
    "plt.title(\"Iris Data Set Visualized in 2D\")\n",
    "plt.xlabel(\"PC1\")\n",
    "plt.ylabel(\"PC2\")\n",
    "\n",
    "# Display the legend\n",
    "plt.legend(loc='lower right', fancybox=True, fontsize=8)\n",
    "plt.show()"
   ]
  },
  {
   "cell_type": "markdown",
   "metadata": {},
   "source": [
    "Comparing the plot of the first two principal components (PC1 and PC2) to the two-dimensional plot of PetalWidth and PetalLength, we observe that the key information in the dataset is retained. Moreover, the data is centered and scaled for better analysis.\n",
    "\n",
    "**(2) Linear Discriminant Analysis (LDA)**\n",
    "\n",
    "LDA is a supervised learning technique that is used for feature extraction in classification problems. It works by finding a new set of features that maximizes the separation between the classes in the data.\n",
    "\n",
    "<div style=\"text-align:center\">\n",
    "    <h1 style=\"font-size:12px; \">PCA VS LDA</h1>\n",
    "    <img src=\"images/04/lda.png\" width=\"400\">\n",
    "    <p style=\"font-style:italic; font-size:12px; text-align:center\">Image Source:<a href=\"https://vivekmuraleedharan73.medium.com/what-is-linear-discriminant-analysis-lda-7e33ff59020a\" style=\"text-decoration:none; color:inherit;\">Medium</a></p>\n",
    "</div>"
   ]
  },
  {
   "cell_type": "code",
   "execution_count": 70,
   "metadata": {},
   "outputs": [],
   "source": [
    "from sklearn.discriminant_analysis import LinearDiscriminantAnalysis\n",
    "from sklearn.datasets import load_iris\n",
    "\n",
    "# Load the Iris dataset\n",
    "iris = load_iris()\n",
    "X = iris.data\n",
    "y = iris.target\n",
    "\n",
    "# Create an LDA object\n",
    "lda = LinearDiscriminantAnalysis(n_components=1)\n",
    "\n",
    "# Fit and transform the data\n",
    "X_lda = lda.fit_transform(X, y)"
   ]
  },
  {
   "cell_type": "code",
   "execution_count": 74,
   "metadata": {},
   "outputs": [
    {
     "data": {
      "image/png": "[encoded data removed]",
      "text/plain": [
       "<Figure size 432x288 with 1 Axes>"
      ]
     },
     "metadata": {},
     "output_type": "display_data"
    }
   ],
   "source": [
    "import matplotlib.pyplot as plt\n",
    "\n",
    "# Plot the transformed data\n",
    "plt.scatter(X_lda, y)\n",
    "plt.xlabel(\"LDA Component\")\n",
    "plt.ylabel(\"Target Variable\")\n",
    "plt.title(\"Linear Discriminant Analysis\")\n",
    "plt.show()"
   ]
  },
  {
   "cell_type": "markdown",
   "metadata": {},
   "source": [
    "<div style=\"padding: 10px;margin-bottom: 20px;border: thin solid #65BB7B;border-left-width: 10px;background-color: #fff\"><strong>Note:</strong> The transformed data <em>X_lda</em> is plotted on the x-axis, and the <em>target variable y</em> is plotted on the y-axis. The x-axis represents the LDA component, which is the linear combination of the original features that maximizes class separation.</div>\n",
    "\n",
    "**(3) Correlation Analysis**\n",
    "\n",
    "Correlation analysis is used to identify the correlation between the features in the dataset. Features that are highly correlated with each other can be removed from the dataset as they provide redundant information.\n",
    "\n",
    "<div style=\"text-align:center\">\n",
    "    <h1 style=\"font-size:12px; \">Different Correlation Type</h1>\n",
    "    <img src=\"images/04/correlation.png\" width=\"400\">\n",
    "    <p style=\"font-style:italic; font-size:12px; text-align:center\">Image Source:<a href=\"https://www.scribbr.com/statistics/correlation-coefficient/\" style=\"text-decoration:none; color:inherit;\">Scribbr</a></p>\n",
    "</div>\n",
    "\n",
    "Let’s see how to perform correlation analysis on a dataset using pandas:"
   ]
  },
  {
   "cell_type": "code",
   "execution_count": 11,
   "metadata": {},
   "outputs": [],
   "source": [
    "import pandas as pd\n",
    "\n",
    "# Load the Iris dataset\n",
    "df = pd.read_csv('data/Iris.csv')\n",
    "\n",
    "# Drop the 'Id' column if it exists\n",
    "if 'Id' in df.columns:\n",
    "    df = df.drop('Id', axis=1)\n",
    "\n",
    "# calculate the correlation matrix\n",
    "corr_matrix = df.corr()"
   ]
  },
  {
   "cell_type": "code",
   "execution_count": 101,
   "metadata": {},
   "outputs": [
    {
     "data": {
      "image/png": "[encoded data removed]",
      "text/plain": [
       "<Figure size 432x288 with 2 Axes>"
      ]
     },
     "metadata": {},
     "output_type": "display_data"
    }
   ],
   "source": [
    "import seaborn as sns\n",
    "import matplotlib.pyplot as plt\n",
    "\n",
    "# Generate the heatmap of correlation matrix\n",
    "sns.heatmap(corr_matrix, cmap='coolwarm', annot=True, fmt=\".2f\")\n",
    "plt.title('Correlation Matrix')\n",
    "plt.show()"
   ]
  },
  {
   "cell_type": "markdown",
   "metadata": {},
   "source": [
    "From the plot, we see that the petal length and petal width are highly correlated, as well as the petal length and sepal length have a good correlation."
   ]
  },
  {
   "cell_type": "code",
   "execution_count": 15,
   "metadata": {},
   "outputs": [
    {
     "name": "stdout",
     "output_type": "stream",
     "text": [
      "Index(['PetalLengthCm', 'PetalWidthCm'], dtype='object')\n",
      "   PetalLengthCm  PetalWidthCm\n",
      "0            1.4           0.2\n",
      "1            1.4           0.2\n",
      "2            1.3           0.2\n",
      "3            1.5           0.2\n",
      "4            1.4           0.2\n"
     ]
    }
   ],
   "source": [
    "import numpy as np\n",
    "\n",
    "# Set the threshold for correlation\n",
    "threshold = 0.9\n",
    "\n",
    "# Set the diagonal values of the correlation matrix to 0\n",
    "np.fill_diagonal(corr_matrix.values, 0)\n",
    "\n",
    "# Find columns with correlation above the threshold\n",
    "high_corr_cols = corr_matrix.columns[(corr_matrix > threshold).any()]\n",
    "\n",
    "# Select the highly correlated features\n",
    "high_corr_features = df[high_corr_cols]\n",
    "\n",
    "# Print the selected features\n",
    "print(high_corr_features.head())"
   ]
  },
  {
   "cell_type": "markdown",
   "metadata": {},
   "source": [
    "If you identify the features that are highly correlated, you can eliminate redundant features using the `drop()` function."
   ]
  },
  {
   "cell_type": "code",
   "execution_count": 17,
   "metadata": {},
   "outputs": [
    {
     "data": {
      "text/html": [
       "<div>\n",
       "<style scoped>\n",
       "    .dataframe tbody tr th:only-of-type {\n",
       "        vertical-align: middle;\n",
       "    }\n",
       "\n",
       "    .dataframe tbody tr th {\n",
       "        vertical-align: top;\n",
       "    }\n",
       "\n",
       "    .dataframe thead th {\n",
       "        text-align: right;\n",
       "    }\n",
       "</style>\n",
       "<table border=\"1\" class=\"dataframe\">\n",
       "  <thead>\n",
       "    <tr style=\"text-align: right;\">\n",
       "      <th></th>\n",
       "      <th>SepalLengthCm</th>\n",
       "      <th>SepalWidthCm</th>\n",
       "      <th>Species</th>\n",
       "    </tr>\n",
       "  </thead>\n",
       "  <tbody>\n",
       "    <tr>\n",
       "      <th>0</th>\n",
       "      <td>5.1</td>\n",
       "      <td>3.5</td>\n",
       "      <td>Iris-setosa</td>\n",
       "    </tr>\n",
       "    <tr>\n",
       "      <th>1</th>\n",
       "      <td>4.9</td>\n",
       "      <td>3.0</td>\n",
       "      <td>Iris-setosa</td>\n",
       "    </tr>\n",
       "    <tr>\n",
       "      <th>2</th>\n",
       "      <td>4.7</td>\n",
       "      <td>3.2</td>\n",
       "      <td>Iris-setosa</td>\n",
       "    </tr>\n",
       "    <tr>\n",
       "      <th>3</th>\n",
       "      <td>4.6</td>\n",
       "      <td>3.1</td>\n",
       "      <td>Iris-setosa</td>\n",
       "    </tr>\n",
       "    <tr>\n",
       "      <th>4</th>\n",
       "      <td>5.0</td>\n",
       "      <td>3.6</td>\n",
       "      <td>Iris-setosa</td>\n",
       "    </tr>\n",
       "  </tbody>\n",
       "</table>\n",
       "</div>"
      ],
      "text/plain": [
       "   SepalLengthCm  SepalWidthCm      Species\n",
       "0            5.1           3.5  Iris-setosa\n",
       "1            4.9           3.0  Iris-setosa\n",
       "2            4.7           3.2  Iris-setosa\n",
       "3            4.6           3.1  Iris-setosa\n",
       "4            5.0           3.6  Iris-setosa"
      ]
     },
     "execution_count": 17,
     "metadata": {},
     "output_type": "execute_result"
    }
   ],
   "source": [
    "# Drop the highly correlated features\n",
    "df_new = df.drop(high_corr_cols, axis=1)\n",
    "df_new.head()"
   ]
  },
  {
   "cell_type": "markdown",
   "metadata": {},
   "source": [
    "**(4) Recursive Feature Elimination (RFE)**\n",
    "\n",
    "RFE is a feature selection technique that iteratively considers smaller subsets of features. During each iteration, the model is trained on the remaining features and ranks their importance. The least important feature is then removed, and this process is repeated until the desired number of features is achieved.\n",
    "\n",
    "<div style=\"text-align:center\">\n",
    "    <h1 style=\"font-size:12px; \">Workflow Diagram of RFE</h1>\n",
    "    <img src=\"images/04/rfe.jpg\" width=\"400\">\n",
    "    <p style=\"font-style:italic; font-size:12px; text-align:center\">Image Source:<a href=\"https://www.mdpi.com/2673-4001/3/1/3\" style=\"text-decoration:none; color:inherit;\">Faysal JA et al., 2022</a></p>\n",
    "</div>\n",
    "\n",
    "Here is an illustrative example of how RFE can be used for feature selection:"
   ]
  },
  {
   "cell_type": "code",
   "execution_count": 18,
   "metadata": {},
   "outputs": [
    {
     "name": "stdout",
     "output_type": "stream",
     "text": [
      "Feature Names: ['MedInc', 'HouseAge', 'AveRooms', 'AveBedrms', 'Population', 'AveOccup', 'Latitude', 'Longitude']\n",
      "\n",
      "Target Variable (Median House Value): [4.526 3.585 3.521 ... 0.923 0.847 0.894]\n"
     ]
    }
   ],
   "source": [
    "from sklearn.datasets import fetch_california_housing\n",
    "from sklearn.linear_model import LinearRegression\n",
    "from sklearn.feature_selection import RFE\n",
    "\n",
    "# Load the California Housing dataset\n",
    "data = fetch_california_housing()\n",
    "\n",
    "# Access the feature names\n",
    "feature_names = data.feature_names\n",
    "print(\"Feature Names:\", feature_names)\n",
    "\n",
    "# Access the target variable\n",
    "target = data.target\n",
    "print(\"\\nTarget Variable (Median House Value):\", target)"
   ]
  },
  {
   "cell_type": "code",
   "execution_count": 20,
   "metadata": {},
   "outputs": [
    {
     "name": "stdout",
     "output_type": "stream",
     "text": [
      "Selected Features:\n",
      "['MedInc', 'AveRooms', 'AveBedrms', 'Latitude', 'Longitude']\n"
     ]
    }
   ],
   "source": [
    "# Access the features and target variables\n",
    "X = data.data  # Features\n",
    "y = data.target  # Target variable (median house value)\n",
    "\n",
    "# Create a Linear Regression model\n",
    "model = LinearRegression()\n",
    "\n",
    "# Perform Recursive Feature Elimination (RFE)\n",
    "rfe = RFE(model, n_features_to_select=5)\n",
    "rfe.fit(X, y)\n",
    "\n",
    "# Get the selected feature indices\n",
    "selected_feature_indices = rfe.support_\n",
    "\n",
    "# Filter the feature names using the selected feature indices\n",
    "selected_features = [feature for i, feature in enumerate(data.feature_names) if selected_feature_indices[i]]\n",
    "\n",
    "print(\"Selected Features:\")\n",
    "print(selected_features)"
   ]
  },
  {
   "cell_type": "markdown",
   "metadata": {},
   "source": [
    "**(5) Tree-based Methods**\n",
    "\n",
    "Decision trees and random forests are popular tree-based methods used for feature selection and prediction. They construct a tree structure based on the most important features for predicting the target variable. Feature importance is determined by measuring the reduction in impurity achieved when splitting the data based on a particular feature.\n",
    "\n",
    "In decision trees, the feature with the highest information gain becomes the root node, and the data is recursively split based on that feature. This process continues until a stopping criterion is met, such as reaching a maximum tree depth or a minimum number of samples per leaf.\n",
    "\n",
    "Random forests, on the other hand, build multiple decision trees using random subsets of features and data. Feature importance is assessed by calculating the average reduction in impurity across all trees. This ensemble approach helps to reduce model variance and enhance its ability to generalize to new data.\n",
    "\n",
    "<div style=\"text-align:center\">\n",
    "    <h1 style=\"font-size:12px; \">Decision Tree vs Random Forest</h1>\n",
    "    <img src=\"images/04/tree_forest.png\" width=\"400\">\n",
    "    <p style=\"font-style:italic; font-size:12px; text-align:center\">Image Source:<a href=\"https://www.google.com/search?q=decision+tree+and+random+forest&tbm=isch&ved=2ahUKEwjs3sOP9uP_AhXokrAFHf9QBVwQ2-cCegQIABAA&oq=decision+tree+and+&gs_lcp=CgNpbWcQARgAMgUIABCABDIFCAAQgAQyBQgAEIAEMgUIABCABDIFCAAQgAQyBQgAEIAEMgYIABAIEB4yBggAEAgQHjIGCAAQCBAeMgYIABAIEB46BAgjECc6BwgAEIoFEEM6CAgAEIAEELEDULAMWKAjYOIxaABwAHgAgAFZiAHvBJIBATiYAQCgAQGqAQtnd3Mtd2l6LWltZ8ABAQ&sclient=img&ei=TxWbZKz7MOilwt0P_6GV4AU&bih=609&biw=1263&rlz=1C1ONGR_enUS951US951&hl=en#imgrc=OsVV88p8MciVgM&imgdii=-93CFt-D68AMiM\" style=\"text-decoration:none; color:inherit;\">STATOLOGY</a></p>\n",
    "</div>"
   ]
  },
  {
   "cell_type": "code",
   "execution_count": 46,
   "metadata": {},
   "outputs": [
    {
     "name": "stdout",
     "output_type": "stream",
     "text": [
      "sepal length (cm) 0.0059189255008685404\n",
      "sepal width (cm) 0.006145984326963746\n",
      "petal length (cm) 0.5027000743269701\n",
      "petal width (cm) 0.4852350158451978\n"
     ]
    }
   ],
   "source": [
    "from sklearn.ensemble import RandomForestRegressor\n",
    "from sklearn.datasets import load_iris\n",
    "\n",
    "# Load the Iris dataset\n",
    "iris = load_iris()\n",
    "X = iris.data\n",
    "y = iris.target\n",
    "\n",
    "# Create a random forest regressor\n",
    "rf = RandomForestRegressor(n_estimators=100, random_state=42)\n",
    "\n",
    "# Fit the model\n",
    "rf.fit(X, y)\n",
    "\n",
    "# Get feature importances\n",
    "importances = rf.feature_importances_\n",
    "\n",
    "# Print feature importances\n",
    "for feature, importance in zip(iris.feature_names, importances):\n",
    "    print(feature, importance)"
   ]
  },
  {
   "cell_type": "markdown",
   "metadata": {},
   "source": [
    "Tree-based methods also provide a way to extract features. In this case, we can generate new features based on the decision boundaries of the tree. For example, we can use the final branches of a decision tree as new binary features that indicate whether a data point falls into a specific region of the feature space. By doing this, we can create informative features based on how the tree divides the data.\n",
    "\n",
    "**(6) Wrapper Methods**\n",
    "\n",
    "Wrapper methods are a category of feature selection techniques where models are trained and evaluated using various subsets of features. The performance of the model is assessed for each feature subset, and the optimal subset is chosen based on the model's performance.\n",
    "\n",
    "<div style=\"text-align:center\">\n",
    "    <h1 style=\"font-size:12px; \">General Framework of Wrapper Feature Selection Methods</h1>\n",
    "    <img src=\"images/04/wrapper.jpg\" width=\"400\">\n",
    "    <p style=\"font-style:italic; font-size:12px; text-align:center\">Image Source:<a href=\"https://dl.acm.org/doi/10.1145/3136625\" style=\"text-decoration:none; color:inherit;\">Jundong Li et al., 2017</a></p>\n",
    "</div>\n",
    "\n",
    "Here's an illustration of implementing a wrapper method using Recursive Feature Elimination (RFE) with a support vector machine (SVM) classifier in scikit-learn:"
   ]
  },
  {
   "cell_type": "code",
   "execution_count": 42,
   "metadata": {},
   "outputs": [
    {
     "name": "stdout",
     "output_type": "stream",
     "text": [
      "Feature Rankings:\n",
      "1: petal length (cm)\n",
      "1: petal width (cm)\n",
      "2: sepal width (cm)\n",
      "3: sepal length (cm)\n",
      "\n",
      "Selected Features:\n",
      "petal length (cm)\n",
      "petal width (cm)\n"
     ]
    }
   ],
   "source": [
    "from sklearn.svm import SVC\n",
    "from sklearn.feature_selection import RFE\n",
    "from sklearn.datasets import load_iris\n",
    "\n",
    "# load the iris dataset\n",
    "data = load_iris()\n",
    "X = data.data\n",
    "y = data.target\n",
    "\n",
    "# create an SVM classifier\n",
    "svm = SVC(kernel='linear')\n",
    "\n",
    "# create a feature selector using RFE with SVM\n",
    "selector = RFE(svm, n_features_to_select=2)\n",
    "\n",
    "# fit the selector to the data\n",
    "selector.fit(X, y)\n",
    "\n",
    "# Get the selected feature indices\n",
    "selected_indices = selector.get_support(indices=True)\n",
    "\n",
    "# Get the corresponding feature names\n",
    "selected_features = [data.feature_names[i] for i in selected_indices]\n",
    "\n",
    "# Get the feature rankings\n",
    "feature_rankings = selector.ranking_\n",
    "\n",
    "# Print the feature rankings with feature names\n",
    "print(\"Feature Rankings:\")\n",
    "for feature_rank, feature_name in sorted(zip(feature_rankings, data.feature_names)):\n",
    "    print(f\"{feature_rank}: {feature_name}\")\n",
    "\n",
    "# Print the selected features\n",
    "print(\"\\nSelected Features:\")\n",
    "for feature in selected_features:\n",
    "    print(feature)"
   ]
  },
  {
   "cell_type": "markdown",
   "metadata": {},
   "source": [
    "In this example, we load the iris dataset and split it into features (X) and target (y). We create an SVM classifier with a linear kernel. Using RFE with SVM, we build a feature selector and train it on the data. Finally, we print the selected features by accessing the support_ and ranking_ attributes. The selected features for the iris dataset are petal length and petal width.\n",
    "\n",
    "**Forward Selection:** Forward Selection is a wrapper method that gradually adds one feature at a time to the model until the model's performance no longer improves. Here’s how it works in Python:"
   ]
  },
  {
   "cell_type": "code",
   "execution_count": 36,
   "metadata": {},
   "outputs": [
    {
     "name": "stdout",
     "output_type": "stream",
     "text": [
      "Selected Features:\n",
      "MedInc\n",
      "HouseAge\n",
      "AveRooms\n",
      "AveBedrms\n",
      "Population\n"
     ]
    }
   ],
   "source": [
    "from sklearn.feature_selection import SequentialFeatureSelector\n",
    "from sklearn.linear_model import LinearRegression\n",
    "from sklearn.datasets import fetch_california_housing\n",
    "\n",
    "# Load the dataset\n",
    "data = fetch_california_housing()\n",
    "X = data.data\n",
    "y = data.target\n",
    "\n",
    "# Initialize the feature selector\n",
    "selector = SequentialFeatureSelector(LinearRegression(), n_features_to_select=5, direction='forward')\n",
    "\n",
    "# Fit the feature selector\n",
    "selector.fit(X, y)\n",
    "\n",
    "# Get the selected feature indices\n",
    "selected_indices = selector.get_support(indices=True)\n",
    "\n",
    "# Get the corresponding feature names\n",
    "selected_features = [data.feature_names[i] for i in selected_indices]\n",
    "\n",
    "# Print the selected features\n",
    "print(\"Selected Features:\")\n",
    "for feature in selected_features:\n",
    "    print(feature)"
   ]
  },
  {
   "cell_type": "markdown",
   "metadata": {},
   "source": [
    "In the given code, we load the dataset and initialize the SequentialFeatureSelector object with a linear regression model. We fit the selector to the dataset and print the selected features. The selected features from the Forward Selection method are MedInc, HouseAge, AveRooms, AveBedrms, and Population for California housing dataset.\n",
    "\n",
    "**Backward Elimination:** Backward Elimination is a feature selection method that iteratively removes one feature at a time from the model until further removals no longer improve the model's performance."
   ]
  },
  {
   "cell_type": "code",
   "execution_count": 45,
   "metadata": {},
   "outputs": [
    {
     "name": "stdout",
     "output_type": "stream",
     "text": [
      "Selected Features:\n",
      "MedInc\n",
      "HouseAge\n",
      "AveBedrms\n",
      "Latitude\n",
      "Longitude\n"
     ]
    }
   ],
   "source": [
    "from sklearn.feature_selection import SequentialFeatureSelector\n",
    "from sklearn.linear_model import LinearRegression\n",
    "from sklearn.datasets import fetch_california_housing\n",
    "\n",
    "# Load the dataset\n",
    "data = fetch_california_housing()\n",
    "X = data.data\n",
    "y = data.target\n",
    "\n",
    "# Initialize the feature selector\n",
    "selector = SequentialFeatureSelector(LinearRegression(), n_features_to_select=5, direction='backward')\n",
    "\n",
    "# Fit the feature selector\n",
    "selector.fit(X, y)\n",
    "\n",
    "# Get the selected feature indices\n",
    "selected_indices = selector.get_support(indices=True)\n",
    "\n",
    "# Get the corresponding feature names\n",
    "selected_features = [data.feature_names[i] for i in selected_indices]\n",
    "\n",
    "# Print the selected features\n",
    "print(\"Selected Features:\")\n",
    "for feature in selected_features:\n",
    "    print(feature)"
   ]
  },
  {
   "cell_type": "markdown",
   "metadata": {},
   "source": [
    "In the given code, we use backward elimination for feature selection. We initialize the SequentialFeatureSelector object with a linear regression model and set the direction to 'backward'. After fitting the selector on the dataset, we print the selected features. For the California housing dataset, the selected features are MedInc, HouseAge, AveBedrms, Latitude, and Longitude. The results are a little different from the Forward Elimination method.\n",
    "\n",
    "**Exhaustive Search:** Exhaustive Search is a filter method for feature selection that involves evaluating all possible subsets of features and selecting the best subset according to a scoring criterion. \n",
    "\n",
    "Here’s how it works in Python:"
   ]
  },
  {
   "cell_type": "code",
   "execution_count": 44,
   "metadata": {
    "tags": []
   },
   "outputs": [
    {
     "name": "stdout",
     "output_type": "stream",
     "text": [
      "Best Subset of Features:\n",
      "MedInc\n",
      "HouseAge\n",
      "AveRooms\n",
      "AveBedrms\n",
      "Population\n",
      "AveOccup\n",
      "Latitude\n",
      "Longitude\n"
     ]
    }
   ],
   "source": [
    "from itertools import combinations\n",
    "from sklearn.metrics import r2_score\n",
    "from sklearn.linear_model import LinearRegression\n",
    "from sklearn.datasets import fetch_california_housing\n",
    "\n",
    "# Load the dataset\n",
    "data = fetch_california_housing()\n",
    "X = data.data\n",
    "y = data.target\n",
    "\n",
    "# Initialize variables\n",
    "best_score = -float('inf')\n",
    "best_features = None\n",
    "\n",
    "# Loop over all possible subsets of features\n",
    "for k in range(1, X.shape[1] + 1):\n",
    "    for subset in combinations(range(X.shape[1]), k):\n",
    "        # Train a linear regression model\n",
    "        X_subset = X[:, list(subset)]\n",
    "        model = LinearRegression().fit(X_subset, y)\n",
    "        # Compute the R2 score\n",
    "        score = r2_score(y, model.predict(X_subset))\n",
    "        # Update the best subset of features\n",
    "        if score > best_score:\n",
    "            best_score = score\n",
    "            best_features = subset\n",
    "\n",
    "# Print the best subset of features\n",
    "print(\"Best Subset of Features:\")\n",
    "for feature_index in best_features:\n",
    "    print(data.feature_names[feature_index])"
   ]
  },
  {
   "cell_type": "markdown",
   "metadata": {
    "tags": []
   },
   "source": [
    "In the code, we load the dataset and iterate through all possible feature subsets. For each subset, we train a linear regression model, calculate the R2 score, and update the best subset of features. Finally, we print the selected features.\n",
    "\n",
    "**(7) Embedded Methods**\n",
    "\n",
    "The embedded methods integrate feature selection into the model training process. Techniques like Lasso regression and Ridge regression introduce penalty terms in the loss function to promote sparse feature selection.\n",
    "\n",
    "<div style=\"text-align:center\">\n",
    "    <h1 style=\"font-size:12px; \">Feature Selection Methods</h1>\n",
    "    <img src=\"images/04/embedded.jpg\" width=\"400\">\n",
    "    <p style=\"font-style:italic; font-size:12px; text-align:center\">Image Source:<a href=\"https://www.mdpi.com/1424-8220/20/21/6318\" style=\"text-decoration:none; color:inherit;\">Liping Xie et al., 2020</a></p>\n",
    "</div>\n",
    "\n",
    "**Lasso regression** uses a penalty term with the absolute value of coefficients, enabling aggressive feature selection by setting some coefficients to zero. It is particularly useful for reducing the number of features in high-dimensional data."
   ]
  },
  {
   "cell_type": "code",
   "execution_count": 31,
   "metadata": {},
   "outputs": [
    {
     "name": "stdout",
     "output_type": "stream",
     "text": [
      "[ 0.70571337  0.10601099 -0.         -0.         -0.         -0.\n",
      " -0.01121267 -0.        ]\n"
     ]
    }
   ],
   "source": [
    "from sklearn.linear_model import Lasso\n",
    "from sklearn.preprocessing import StandardScaler\n",
    "from sklearn.datasets import fetch_california_housing\n",
    "\n",
    "# Load the dataset\n",
    "data = fetch_california_housing()\n",
    "X = data.data\n",
    "y = data.target\n",
    "\n",
    "# Standardize the features\n",
    "scaler = StandardScaler()\n",
    "X = scaler.fit_transform(X)\n",
    "\n",
    "# Fit the Lasso model\n",
    "lasso = Lasso(alpha=0.1)\n",
    "lasso.fit(X, y)\n",
    "\n",
    "# Get the coefficients\n",
    "coefficients = lasso.coef_\n",
    "print(coefficients)"
   ]
  },
  {
   "cell_type": "markdown",
   "metadata": {},
   "source": [
    "<div style=\"padding: 10px;margin-bottom: 20px;border: thin solid #65BB7B;border-left-width: 10px;background-color: #fff\">\n",
    "  <strong>Note:</strong>\n",
    "  <ul>\n",
    "    <li>The printed coefficients represent the estimated impact of each feature on the target variable. Positive coefficients indicate a positive relationship, while negative coefficients indicate a negative relationship.</li>\n",
    "    <li>The magnitude of the coefficient reflects the strength of the relationship. Features with coefficients close to zero have minimal impact on the target variable in the Lasso model due to feature selection.</li>\n",
    "  </ul>\n",
    "</div>\n",
    "\n",
    "**Ridge regression** incorporates a penalty term into the loss function to encourage feature selection. This penalty term, proportional to the square of the model coefficients, leads to the selection of a smaller set of crucial features for predicting the target variable. The coefficients are shrunk towards zero but not set precisely to zero."
   ]
  },
  {
   "cell_type": "code",
   "execution_count": 32,
   "metadata": {},
   "outputs": [
    {
     "name": "stdout",
     "output_type": "stream",
     "text": [
      "[ 0.82961664  0.11875818 -0.26551388  0.30567906 -0.00450071 -0.03932662\n",
      " -0.89982369 -0.87047846]\n"
     ]
    }
   ],
   "source": [
    "from sklearn.linear_model import Ridge\n",
    "from sklearn.preprocessing import StandardScaler\n",
    "from sklearn.datasets import fetch_california_housing\n",
    "\n",
    "# Load the dataset\n",
    "data = fetch_california_housing()\n",
    "X = data.data\n",
    "y = data.target\n",
    "\n",
    "# Standardize the features\n",
    "scaler = StandardScaler()\n",
    "X = scaler.fit_transform(X)\n",
    "\n",
    "# Fit the Ridge model\n",
    "ridge = Ridge(alpha=0.1)\n",
    "ridge.fit(X, y)\n",
    "\n",
    "# Get the coefficients\n",
    "coefficients = ridge.coef_\n",
    "print(coefficients)"
   ]
  },
  {
   "cell_type": "markdown",
   "metadata": {},
   "source": [
    "In both cases, the regularization parameter alpha determines the intensity of the penalty term. A larger alpha value leads to a more pronounced feature selection, resulting in sparser models.\n",
    "\n",
    "#### 2.1.2 Scaling and Normalization<a class=\"anchor\" id=\"section_1_2\"></a>\n",
    "\n",
    "Scaling and normalization are crucial preprocessing steps in feature engineering. They are employed to standardize the scale and range of features, facilitating improved performance and faster optimization in machine learning algorithms. Here are some widely used techniques for scaling and normalization:\n",
    "\n",
    "\n",
    "**(1) Standardization**\n",
    "\n",
    "Standardization also known as z-score normalization, rescales the features to have zero mean and unit variance. This is achieved by subtracting the mean from each value and dividing it by the standard deviation. The standardized values will have a mean of zero and a standard deviation of one.\n",
    "\n",
    "<div style=\"text-align:center\">\n",
    "    <img src=\"images/04/standardization.png\" width=\"200\">\n",
    "</div>\n",
    "\n",
    "Here is an example of applying standardization using scikit-learn:"
   ]
  },
  {
   "cell_type": "code",
   "execution_count": 59,
   "metadata": {},
   "outputs": [
    {
     "data": {
      "image/png": "[encoded data removed]",
      "text/plain": [
       "<Figure size 1332x756 with 2 Axes>"
      ]
     },
     "metadata": {},
     "output_type": "display_data"
    }
   ],
   "source": [
    "# data normalization with sklearn\n",
    "from sklearn.preprocessing import StandardScaler\n",
    "import matplotlib.pyplot as plt\n",
    "import pandas as pd\n",
    "import seaborn as sns\n",
    "\n",
    "plt.rcParams['font.size'] = '16'\n",
    "sns.set_style(\"darkgrid\", {\"axes.facecolor\": \".9\"})\n",
    "\n",
    "# Load the Iris dataset\n",
    "iris_data = pd.read_csv('data/Iris.csv')\n",
    "X = iris_data[[\"SepalLengthCm\"]]\n",
    "\n",
    "# fit scaler and transform data\n",
    "X_scale = StandardScaler().fit_transform(X)\n",
    "\n",
    "# plots\n",
    "fig, (ax1, ax2) = plt.subplots(2)\n",
    "fig.suptitle('Standardization')\n",
    "fig.set_size_inches(18.5, 10.5)\n",
    "\n",
    "# subplot 1 - raw data\n",
    "ax1.hist(X, 25, facecolor='black', ec=\"white\")\n",
    "ax1.set_xlabel(\"SepalLengthCm\")\n",
    "ax1.set_ylabel(\"Frequency\")\n",
    "\n",
    "# subplot 2 - standard scaler\n",
    "ax2.hist(X_scale, 25, facecolor='black', ec=\"white\")\n",
    "ax2.set_xlabel(\"Standard SepalLengthCm\")\n",
    "ax2.set_ylabel(\"Frequency\")\n",
    "\n",
    "fig.tight_layout()"
   ]
  },
  {
   "cell_type": "markdown",
   "metadata": {},
   "source": [
    "**(2) Robust scaling**\n",
    "\n",
    "Robust scaling is a technique that rescales the features using the median and interquartile range instead of the mean and standard deviation. It is particularly useful when dealing with data that contains outliers, as it is more resistant to their influence.\n",
    "\n",
    "<div style=\"text-align:center\">\n",
    "    <img src=\"images/04/robust.png\" width=\"200\">\n",
    "</div>\n",
    "\n",
    "Here is an example of applying Robust scaling using scikit-learn:"
   ]
  },
  {
   "cell_type": "code",
   "execution_count": 62,
   "metadata": {},
   "outputs": [
    {
     "data": {
      "image/png": "[encoded data removed]",
      "text/plain": [
       "<Figure size 1332x756 with 2 Axes>"
      ]
     },
     "metadata": {},
     "output_type": "display_data"
    }
   ],
   "source": [
    "# data normalization with sklearn\n",
    "from sklearn.preprocessing import RobustScaler\n",
    "import matplotlib.pyplot as plt\n",
    "import pandas as pd\n",
    "import seaborn as sns\n",
    "\n",
    "plt.rcParams['font.size'] = '16'\n",
    "sns.set_style(\"darkgrid\", {\"axes.facecolor\": \".9\"})\n",
    "\n",
    "# Load the Iris dataset\n",
    "iris_data = pd.read_csv('data/Iris.csv')\n",
    "X = iris_data[[\"SepalLengthCm\"]]\n",
    "\n",
    "# fit scaler and transform data\n",
    "X_scale = RobustScaler().fit_transform(X)\n",
    "\n",
    "# plots\n",
    "fig, (ax1, ax2) = plt.subplots(2)\n",
    "fig.suptitle('Standardization')\n",
    "fig.set_size_inches(18.5, 10.5)\n",
    "\n",
    "# subplot 1 - raw data\n",
    "ax1.hist(X, 25, facecolor='black', ec=\"white\")\n",
    "ax1.set_xlabel(\"SepalLengthCm\")\n",
    "ax1.set_ylabel(\"Frequency\")\n",
    "\n",
    "# subplot 2 - standard scaler\n",
    "ax2.hist(X_scale, 25, facecolor='black', ec=\"white\")\n",
    "ax2.set_xlabel(\"Robust Scaled SepalLengthCm\")\n",
    "ax2.set_ylabel(\"Frequency\")\n",
    "\n",
    "fig.tight_layout()"
   ]
  },
  {
   "cell_type": "markdown",
   "metadata": {},
   "source": [
    "**(3) Normalization**\n",
    "\n",
    "Normalization is a technique that scales each observation so that it has a unit norm. This means that the sum of squares of each feature value is equal to 1. Normalization is commonly used in algorithms that require data to have a similar scale across all samples.\n",
    "\n",
    "<div style=\"text-align:center\">\n",
    "    <h1 style=\"font-size:12px; \">Standardization and Normalization</h1>\n",
    "    <img src=\"images/04/stand_normal.png\" width=\"400\">\n",
    "    <p style=\"font-style:italic; font-size:12px; text-align:center\">Image Source:<a href=\"https://medium.com/@simranjeetsingh1497/the-ultimate-guide-to-machine-learning-from-eda-to-model-deployment-part-2-e56ac58785f8\" style=\"text-decoration:none; color:inherit;\">Medium</a></p>\n",
    "</div>\n",
    "\n",
    "Here is an example of applying normalization using scikit-learn:"
   ]
  },
  {
   "cell_type": "code",
   "execution_count": 70,
   "metadata": {},
   "outputs": [
    {
     "data": {
      "image/png": "[encoded data removed]",
      "text/plain": [
       "<Figure size 1332x756 with 2 Axes>"
      ]
     },
     "metadata": {},
     "output_type": "display_data"
    }
   ],
   "source": [
    "# data normalization with sklearn\n",
    "from sklearn.preprocessing import Normalizer\n",
    "import matplotlib.pyplot as plt\n",
    "import pandas as pd\n",
    "import seaborn as sns\n",
    "\n",
    "plt.rcParams['font.size'] = '16'\n",
    "sns.set_style(\"darkgrid\", {\"axes.facecolor\": \".9\"})\n",
    "\n",
    "# Load the Iris dataset\n",
    "iris_data = pd.read_csv('data/Iris.csv')\n",
    "X = iris_data[[\"SepalLengthCm\"]]\n",
    "\n",
    "# fit scaler and transform data\n",
    "X_normal = Normalizer(norm='l2').fit_transform(X)\n",
    "\n",
    "# plots\n",
    "fig, (ax1, ax2) = plt.subplots(2)\n",
    "fig.suptitle('Normalization')\n",
    "fig.set_size_inches(18.5, 10.5)\n",
    "\n",
    "# subplot 1 - raw data\n",
    "ax1.hist(X, 25, facecolor='black', ec=\"white\")\n",
    "ax1.set_xlabel(\"SepalLengthCm\")\n",
    "ax1.set_ylabel(\"Frequency\")\n",
    "\n",
    "# subplot 2 - normalizer\n",
    "ax2.hist(X_normal, 25, facecolor='black', ec=\"white\")\n",
    "ax2.set_xlabel(\"Normaled SepalLengthCm\")\n",
    "ax2.set_ylabel(\"Frequency\")\n",
    "\n",
    "fig.tight_layout()"
   ]
  },
  {
   "cell_type": "markdown",
   "metadata": {},
   "source": [
    "**(4) Min-Max scaling**\n",
    "\n",
    "Min-Max scaling also known as normalization, rescales the features to a specific range, typically between 0 and 1. It involves subtracting the minimum value from each data point and dividing it by the range of values.\n",
    "\n",
    "<div style=\"text-align:center\">\n",
    "    <img src=\"images/04/min_max.png\" width=\"200\">\n",
    "</div>\n",
    "\n",
    "Here is an example of applying Min-Max scaling using scikit-learn:"
   ]
  },
  {
   "cell_type": "code",
   "execution_count": 68,
   "metadata": {},
   "outputs": [
    {
     "data": {
      "image/png": "[encoded data removed]",
      "text/plain": [
       "<Figure size 1332x756 with 2 Axes>"
      ]
     },
     "metadata": {},
     "output_type": "display_data"
    }
   ],
   "source": [
    "# data normalization with sklearn\n",
    "from sklearn.preprocessing import MinMaxScaler\n",
    "import matplotlib.pyplot as plt\n",
    "import pandas as pd\n",
    "import seaborn as sns\n",
    "\n",
    "plt.rcParams['font.size'] = '16'\n",
    "sns.set_style(\"darkgrid\", {\"axes.facecolor\": \".9\"})\n",
    "\n",
    "# Load the Iris dataset\n",
    "iris_data = pd.read_csv('data/Iris.csv')\n",
    "X = iris_data[[\"SepalLengthCm\"]]\n",
    "\n",
    "# fit scaler and transform data\n",
    "X_normal = MinMaxScaler().fit_transform(X)\n",
    "\n",
    "# plots\n",
    "fig, (ax1, ax2) = plt.subplots(2)\n",
    "fig.suptitle('Normalization')\n",
    "fig.set_size_inches(18.5, 10.5)\n",
    "\n",
    "# subplot 1 - raw data\n",
    "ax1.hist(X, 25, facecolor='black', ec=\"white\")\n",
    "ax1.set_xlabel(\"SepalLengthCm\")\n",
    "ax1.set_ylabel(\"Frequency\")\n",
    "\n",
    "# subplot 2 - normalizer\n",
    "ax2.hist(X_normal, 25, facecolor='black', ec=\"white\")\n",
    "ax2.set_xlabel(\"Min-Max Scaled SepalLengthCm\")\n",
    "ax2.set_ylabel(\"Frequency\")\n",
    "\n",
    "fig.tight_layout()"
   ]
  },
  {
   "cell_type": "markdown",
   "metadata": {},
   "source": [
    "#### 2.1.3 Creating New Feature<a class=\"anchor\" id=\"section_1_3\"></a>\n",
    "\n",
    "Developing new features is a vital part of feature engineering, which entails constructing new variables or columns from existing data. This can assist in capturing intricate connections between the features and enhancing the accuracy of the models.\n",
    "\n",
    "Here are some techniques for generating new features:\n",
    "\n",
    "**(1) Combined features** \n",
    "\n",
    "Combined features are generated by multiplying two or more existing features. This approach enables the capturing of collective impacts between the features and reveals novel patterns within the data. For instance, if we possess two features, \"crop_yield\" and \"land_area\", we can create a new interaction feature called \"yield_area\" by multiplying these two variables together.\n",
    "\n",
    "Here is an illustration of generating a combined feature using Pandas in Python:"
   ]
  },
  {
   "cell_type": "code",
   "execution_count": 1,
   "metadata": {
    "tags": []
   },
   "outputs": [
    {
     "name": "stdout",
     "output_type": "stream",
     "text": [
      "   crop_yield  land_area  yield_area\n",
      "0         100         10        1000\n",
      "1         150         12        1800\n",
      "2         120         15        1800\n"
     ]
    }
   ],
   "source": [
    "import pandas as pd\n",
    "\n",
    "# create a sample data frame\n",
    "data = pd.DataFrame({'crop_yield': [100, 150, 120],\n",
    "                     'land_area': [10, 12, 15]})\n",
    "\n",
    "# create a new interaction feature\n",
    "data['yield_area'] = data['crop_yield'] * data['land_area']\n",
    "\n",
    "# display the updated data frame\n",
    "print(data)"
   ]
  },
  {
   "cell_type": "markdown",
   "metadata": {},
   "source": [
    "**(2) Polynomial features** \n",
    "\n",
    "Polynomial features are created by raising existing variables to a higher power. This technique helps capture non-linear relationships between these variables and improves the accuracy of the models. For example, if we have a variable called \"crop_yield,\" we can create a new polynomial feature called \"crop_yield_squared\" by squaring the values of this variable.\n",
    "\n",
    "Here is an example of creating polynomial features using Scikit-learn in Python:"
   ]
  },
  {
   "cell_type": "code",
   "execution_count": 2,
   "metadata": {
    "tags": []
   },
   "outputs": [
    {
     "name": "stdout",
     "output_type": "stream",
     "text": [
      "[[ 1.  1.  2.  1.  2.  4.]\n",
      " [ 1.  3.  4.  9. 12. 16.]]\n"
     ]
    }
   ],
   "source": [
    "from sklearn.preprocessing import PolynomialFeatures\n",
    "import numpy as np\n",
    "\n",
    "# create a sample data set\n",
    "X = np.array([[1, 2],\n",
    "              [3, 4]])\n",
    "\n",
    "# create polynomial features up to degree 2\n",
    "poly = PolynomialFeatures(degree=2)\n",
    "X_poly = poly.fit_transform(X)\n",
    "\n",
    "# display the updated feature matrix\n",
    "print(X_poly)"
   ]
  },
  {
   "cell_type": "markdown",
   "metadata": {},
   "source": [
    "**(3) Binning**\n",
    "\n",
    "Binning, a involves grouping a continuous or numerical variable into a categorical feature. The process of binning introduces non-linearity and often enhances the model's performance. Additionally, it can assist in identifying missing values or outliers within the data.\n",
    "\n",
    "\n",
    "There are two types of binning:\n",
    "\n",
    "* Unsupervised Binning: This includes equal width binning and equal frequency binning.\n",
    "* Supervised Binning: This involves entropy-based binning.\n",
    "\n",
    "**Unsupervised binning** involves converting a numerical or continuous variable into categorical bins without considering the target class label. There are two categories of unsupervised binning:\n",
    "\n",
    "**Equal Width Binning** is an algorithm that divides a continuous variable into multiple categories, with each bin or range having the same width. \n",
    "\n",
    "The width of each bin is calculated using the formula: w = (max - min) / (number of bins)\n",
    "\n",
    "The bins are defined as [min + w], [min + 2w], [min + 3w], and so on, until [min + nw], where n represents the number of bins.\n"
   ]
  },
  {
   "cell_type": "code",
   "execution_count": 9,
   "metadata": {
    "tags": []
   },
   "outputs": [
    {
     "name": "stdout",
     "output_type": "stream",
     "text": [
      "   crop_yield yield_category\n",
      "0          50          Bin 1\n",
      "1         100          Bin 4\n",
      "2          75          Bin 3\n",
      "3         120          Bin 4\n",
      "4          90          Bin 3\n",
      "5          80          Bin 3\n",
      "6         110          Bin 4\n",
      "7          95          Bin 3\n"
     ]
    }
   ],
   "source": [
    "import pandas as pd\n",
    "\n",
    "# Create a sample data frame\n",
    "data = pd.DataFrame({'crop_yield': [50, 100, 75, 120, 90, 80, 110, 95]})\n",
    "\n",
    "# Define the number of bins and width\n",
    "num_bins = 3\n",
    "bin_width = (data['crop_yield'].max() - data['crop_yield'].min()) / num_bins\n",
    "\n",
    "# Create the bins with adjusted edges to include the minimum value\n",
    "bins = [float('-inf'), data['crop_yield'].min()]  # First bin for minimum value\n",
    "bins += [data['crop_yield'].min() + i * bin_width for i in range(1, num_bins)]\n",
    "bins.append(data['crop_yield'].max())  # Include the maximum value as the last bin edge\n",
    "\n",
    "labels = [f'Bin {i}' for i in range(1, num_bins + 2)]  # Update labels accordingly\n",
    "\n",
    "# Perform Equal Width Binning and drop NaN values\n",
    "data['yield_category'] = pd.cut(data['crop_yield'], bins=bins, labels=labels)\n",
    "data.dropna(inplace=True)\n",
    "\n",
    "# Display the updated data frame\n",
    "print(data)"
   ]
  },
  {
   "cell_type": "markdown",
   "metadata": {},
   "source": [
    "In this example, we divide the \"crop_yield\" variable into 3 equal-width bins based on the minimum and maximum values. Each crop yield value is assigned a bin label in the \"yield_category\" column. Additionally, we create a separate bin for the minimum value. The bin labels are adjusted accordingly, starting from 1 for the subsequent bins.\n",
    "\n",
    "**Equal frequency binning** divides the data into categories with an equal number of values. This algorithm ensures that the data is evenly distributed among the categories."
   ]
  },
  {
   "cell_type": "code",
   "execution_count": 14,
   "metadata": {
    "tags": []
   },
   "outputs": [
    {
     "name": "stdout",
     "output_type": "stream",
     "text": [
      "   crop_yield  yield_category\n",
      "0          50               1\n",
      "1         100               3\n",
      "2          75               1\n",
      "3         120               3\n",
      "4          90               2\n",
      "5          80               1\n",
      "6         110               3\n",
      "7          95               2\n"
     ]
    }
   ],
   "source": [
    "import pandas as pd\n",
    "\n",
    "# Create a sample data frame\n",
    "data = pd.DataFrame({'crop_yield': [50, 100, 75, 120, 90, 80, 110, 95]})\n",
    "\n",
    "# Define the number of bins\n",
    "num_bins = 3\n",
    "\n",
    "# Perform equal frequency binning\n",
    "data['yield_category'] = pd.qcut(data['crop_yield'], q=num_bins, labels=False)\n",
    "\n",
    "# Adjust the labels to start from 1\n",
    "data['yield_category'] += 1\n",
    "\n",
    "# Display the updated data frame\n",
    "print(data)"
   ]
  },
  {
   "cell_type": "markdown",
   "metadata": {},
   "source": [
    "In this example, we use the `pd.qcut()` function from pandas to perform equal frequency binning. The `q` parameter specifies the number of bins we want to create. The resulting bins are labeled with integer values in the \"yield_category\" column.\n",
    "\n",
    "**Supervised binning** transforms a numerical or continuous variable into a categorical variable by considering the target class label. It utilizes the target class label to determine the cut points for discretization. One specific type of supervised binning is entropy-based binning.\n",
    "\n",
    "**Entropy-based binning** categorizes a continuous variable based on the majority of values in each bin belonging to the same class label. It calculates the entropy for the target class labels and selects the split that maximizes the information gain. This technique helps identify meaningful categories in the data by emphasizing class differences."
   ]
  },
  {
   "cell_type": "code",
   "execution_count": 13,
   "metadata": {
    "tags": []
   },
   "outputs": [
    {
     "name": "stdout",
     "output_type": "stream",
     "text": [
      "   crop_yield class_label  yield_category\n",
      "0          50         Low               1\n",
      "1         100        High               3\n",
      "2          75      Medium               2\n",
      "3         120        High               3\n",
      "4          90      Medium               2\n",
      "5          80         Low               2\n",
      "6         110        High               3\n",
      "7          95      Medium               2\n"
     ]
    }
   ],
   "source": [
    "import pandas as pd\n",
    "import numpy as np\n",
    "\n",
    "# Create a sample data frame\n",
    "data = pd.DataFrame({'crop_yield': [50, 100, 75, 120, 90, 80, 110, 95],\n",
    "                     'class_label': ['Low', 'High', 'Medium', 'High', 'Medium', 'Low', 'High', 'Medium']})\n",
    "\n",
    "# Calculate entropy of class labels\n",
    "class_entropy = -np.sum((data['class_label'].value_counts() / len(data)) * np.log2(data['class_label'].value_counts() / len(data)))\n",
    "\n",
    "# Perform entropy-based binning on 'crop_yield' variable\n",
    "num_bins = 3\n",
    "data['yield_category'] = pd.cut(data['crop_yield'], bins=num_bins, labels=False, include_lowest=True) + 1\n",
    "\n",
    "# Display the updated data frame\n",
    "print(data)"
   ]
  },
  {
   "cell_type": "markdown",
   "metadata": {},
   "source": [
    "In this example, we start with a data frame containing the \"crop_yield\" and \"class_label\" columns. The entropy of the \"class_label\" variable is computed using the entropy formula. Then, using `pd.cut()`, we apply entropy-based binning to the \"crop_yield\" variable, resulting in the \"yield_category\" column with the assigned bin labels.\n",
    "\n",
    "#### 2.1.4 Skewness and Kurtosis Handling<a class=\"anchor\" id=\"section_1_4\"></a>\n",
    "\n",
    "Statistical measures like skewness and kurtosis aid in comprehending the distribution of data. Skewness gauges the extent of asymmetry present in the data, while kurtosis assesses the level of peakedness or flatness in the distribution.\n",
    "\n",
    "Skewness measures the asymmetry of the data distribution.\n",
    "* A positive skewness value (greater than 0) indicates a right-skewed distribution, where the tail is longer on the right side.\n",
    "* A negative skewness value (less than 0) indicates a left-skewed distribution, where the tail is longer on the left side.\n",
    "* A skewness value of 0 indicates a symmetric distribution.\n",
    "\n",
    "<div style=\"text-align:center\">\n",
    "    <h1 style=\"font-size:12px; \">Skewness</h1>\n",
    "    <img src=\"images/04/skewness.png\" width=\"400\">\n",
    "    <p style=\"font-style:italic; font-size:12px; text-align:center\">Image Source:<a href=\"https://medium.com/@simranjeetsingh1497/the-ultimate-guide-to-machine-learning-from-eda-to-model-deployment-part-2-e56ac58785f8\" style=\"text-decoration:none; color:inherit;\">Medium</a></p>\n",
    "</div>\n",
    "\n",
    "Kurtosis measures the tailedness or peakedness of the data distribution compared to a normal distribution.\n",
    "* Leptokurtic distributions have positive kurtosis values (> 0) and exhibit heavier tails and a more peaked shape compared to a normal distribution.\n",
    "* Platykurtic distributions have negative kurtosis values (< 0) and display lighter tails and a flatter shape compared to a normal distribution.\n",
    "* Mesokurtic distributions have a kurtosis value of 0, indicating a similar level of tailedness and peakedness as a normal distribution.\n",
    "\n",
    "<div style=\"text-align:center\">\n",
    "    <h1 style=\"font-size:12px; \">Kurtosis</h1>\n",
    "    <img src=\"images/04/kurtosis.png\" width=\"400\">\n",
    "    <p style=\"font-style:italic; font-size:12px; text-align:center\">Image Source:<a href=\"https://365datascience.com/calculators/kurtosis-calculator/\" style=\"text-decoration:none; color:inherit;\">365DataScience</a></p>\n",
    "</div>\n",
    "\n",
    "Skewed and kurtosis data can negatively affect the performance of machine learning models. To address both skewness and kurtosis in data, consider the following transformation techniques:\n",
    "\n",
    "**(1) Log Transformation**:\n",
    "   - *Application*: Logarithmic transformation can be used to reduce the skewness and kurtosis of data.\n",
    "   - *Applicability*: It is suitable for both positively and negatively skewed data, making it effective in addressing both skewness and kurtosis.\n",
    "   - *Method*: Apply the natural logarithm or base-10 logarithm to the data.\n",
    "\n",
    "**(2) Square Root Transformation**:\n",
    "   - *Application*: The square root transformation can be used to reduce skewness and kurtosis in data.\n",
    "   - *Applicability*: It is particularly effective for positively skewed data, addressing both skewness and kurtosis simultaneously.\n",
    "   - *Method*: Take the square root of each data point.\n",
    "\n",
    "**(3) Square Transformation**:\n",
    "   - *Application*: The square transformation can be used to reduce skewness and kurtosis in data.\n",
    "   - *Applicability*: It is suitable for both positively and negatively skewed data, making it useful for handling both skewness and kurtosis.\n",
    "   - *Method*: Square each data point.\n",
    "\n",
    "**(4) Box-Cox Transformation**:\n",
    "   - *Application*: The Box-Cox transformation is a versatile method for handling skewness and kurtosis in data.\n",
    "   - *Applicability*: It can handle both positively and negatively skewed data, effectively addressing both skewness and kurtosis.\n",
    "   - *Method*: It uses a parameter lambda (λ) to determine the appropriate transformation to be applied. The optimal lambda value can be determined using statistical techniques.\n",
    "\n",
    "By employing these transformation techniques, you can adjust the distribution of the data, reducing skewness and kurtosis, and improving the suitability of the data for machine learning models.\n",
    "\n",
    "Below is an example of Python code demonstrating these transformations:"
   ]
  },
  {
   "cell_type": "code",
   "execution_count": 4,
   "metadata": {
    "tags": []
   },
   "outputs": [
    {
     "name": "stdout",
     "output_type": "stream",
     "text": [
      "Skewness: 2.1363479484568817\n",
      "Kurtosis: 6.79503026524641\n",
      "Log Skewness: -0.9717720818199896\n",
      "Log Kurtosis: 1.0662868522876723\n",
      "Sqrt Skewness: 0.676725926088088\n",
      "Sqrt Kurtosis: 0.3452879399192921\n",
      "Square Skewness: 6.934254170004139\n",
      "Square Kurtosis: 81.94529929028465\n",
      "Box-Cox Skewness: -0.05173257813076606\n",
      "Box-Cox Kurtosis: -0.34738734423614526\n"
     ]
    }
   ],
   "source": [
    "import numpy as np\n",
    "import pandas as pd\n",
    "from scipy import stats\n",
    "\n",
    "# Generate some skewed data\n",
    "data = np.random.gamma(1, 10, 1000)\n",
    "\n",
    "# Calculate skewness and kurtosis\n",
    "skewness = stats.skew(data)\n",
    "kurtosis = stats.kurtosis(data)\n",
    "\n",
    "print(\"Skewness:\", skewness)\n",
    "print(\"Kurtosis:\", kurtosis)\n",
    "\n",
    "# Log transformation\n",
    "log_data = np.log(data)\n",
    "log_skewness = stats.skew(log_data)\n",
    "log_kurtosis = stats.kurtosis(log_data)\n",
    "\n",
    "print(\"Log Skewness:\", log_skewness)\n",
    "print(\"Log Kurtosis:\", log_kurtosis)\n",
    "\n",
    "# Square root transformation\n",
    "sqrt_data = np.sqrt(data)\n",
    "sqrt_skewness = stats.skew(sqrt_data)\n",
    "sqrt_kurtosis = stats.kurtosis(sqrt_data)\n",
    "\n",
    "print(\"Sqrt Skewness:\", sqrt_skewness)\n",
    "print(\"Sqrt Kurtosis:\", sqrt_kurtosis)\n",
    "\n",
    "# Square transformation\n",
    "square_data = np.square(data)\n",
    "square_skewness = stats.skew(square_data)\n",
    "square_kurtosis = stats.kurtosis(square_data)\n",
    "\n",
    "print(\"Square Skewness:\", square_skewness)\n",
    "print(\"Square Kurtosis:\", square_kurtosis)\n",
    "\n",
    "# Box-Cox transformation\n",
    "box_cox_data, _ = stats.boxcox(data)\n",
    "box_cox_skewness = stats.skew(box_cox_data)\n",
    "box_cox_kurtosis = stats.kurtosis(box_cox_data)\n",
    "\n",
    "print(\"Box-Cox Skewness:\", box_cox_skewness)\n",
    "print(\"Box-Cox Kurtosis:\", box_cox_kurtosis)"
   ]
  },
  {
   "cell_type": "markdown",
   "metadata": {},
   "source": [
    "#### 2.1.5 Handling Imbalanced Data<a class=\"anchor\" id=\"section_1_5\"></a>\n",
    "\n",
    "Addressing imbalanced data is a vital task in machine learning. Imbalanced data occurs when the distribution of the target variable is uneven, with one class being less represented than the other. This imbalance can introduce bias in the model, leading to poor performance on the minority class. \n",
    "\n",
    "There are various techniques to handle imbalanced data:\n",
    "\n",
    "**(1) Oversampling**: Oversampling involves generating additional samples for the minority class by resampling the existing samples with replacement. This helps to increase the representation of the minority class and can be implemented using the `resample` function from the `sklearn.utils` module."
   ]
  },
  {
   "cell_type": "code",
   "execution_count": 6,
   "metadata": {
    "tags": []
   },
   "outputs": [
    {
     "name": "stdout",
     "output_type": "stream",
     "text": [
      "Upsampled X: [[5 6]\n",
      " [6 7]\n",
      " [5 6]\n",
      " [5 6]]\n",
      "Upsampled y: [1 1 1 1]\n"
     ]
    }
   ],
   "source": [
    "import numpy as np\n",
    "from sklearn.utils import resample\n",
    "\n",
    "# Create a sample dataset\n",
    "X_majority = np.array([[1, 2], [2, 3], [3, 4], [4, 5]])  # Majority class samples\n",
    "y_majority = np.array([0, 0, 0, 0])  # Majority class labels\n",
    "\n",
    "X_minority = np.array([[5, 6], [6, 7]])  # Minority class samples\n",
    "y_minority = np.array([1, 1])  # Minority class labels\n",
    "\n",
    "# Upsample minority class\n",
    "X_upsampled, y_upsampled = resample(X_minority, y_minority, replace=True, n_samples=len(X_majority), random_state=42)\n",
    "\n",
    "# Check the upsampled data\n",
    "print(\"Upsampled X:\", X_upsampled)\n",
    "print(\"Upsampled y:\", y_upsampled)"
   ]
  },
  {
   "cell_type": "markdown",
   "metadata": {},
   "source": [
    "**(2) Undersampling**: Undersampling involves reducing the number of samples from the majority class to achieve a balanced distribution. This also can be achieved using the `resample` function from the `sklearn.utils`module.\n",
    "\n",
    "<div style=\"text-align:center\">\n",
    "    <img src=\"images/04/under_oversampling.png\" width=\"400\">\n",
    "    <p style=\"font-style:italic; font-size:12px; text-align:center\">Image Source:<a href=\"https://medium.com/analytics-vidhya/undersampling-and-oversampling-an-old-and-a-new-approach-4f984a0e8392\" style=\"text-decoration:none; color:inherit;\">Medium</a></p>\n",
    "</div>"
   ]
  },
  {
   "cell_type": "code",
   "execution_count": 7,
   "metadata": {
    "tags": []
   },
   "outputs": [
    {
     "name": "stdout",
     "output_type": "stream",
     "text": [
      "Downsampled X: [[2 3]\n",
      " [4 5]]\n",
      "Downsampled y: [0 0]\n"
     ]
    }
   ],
   "source": [
    "import numpy as np\n",
    "from sklearn.utils import resample\n",
    "\n",
    "# Create a sample dataset\n",
    "X_majority = np.array([[1, 2], [2, 3], [3, 4], [4, 5]])  # Majority class samples\n",
    "y_majority = np.array([0, 0, 0, 0])  # Majority class labels\n",
    "\n",
    "X_minority = np.array([[5, 6], [6, 7]])  # Minority class samples\n",
    "y_minority = np.array([1, 1])  # Minority class labels\n",
    "\n",
    "# Downsample majority class\n",
    "X_downsampled, y_downsampled = resample(X_majority, y_majority, replace=False, n_samples=len(X_minority), random_state=42)\n",
    "\n",
    "# Check the downsampled data\n",
    "print(\"Downsampled X:\", X_downsampled)\n",
    "print(\"Downsampled y:\", y_downsampled)"
   ]
  },
  {
   "cell_type": "markdown",
   "metadata": {},
   "source": [
    "**(3) SMOTE**: The Synthetic Minority Over-sampling Technique (SMOTE) is a method that generates synthetic samples for the minority class by utilizing the available samples. To implement SMOTE, you can utilize the `SMOTE` function provided by the `imblearn.over_sampling` module."
   ]
  },
  {
   "cell_type": "code",
   "execution_count": 16,
   "metadata": {
    "tags": []
   },
   "outputs": [
    {
     "name": "stdout",
     "output_type": "stream",
     "text": [
      "Before Counter({0: 897, 1: 103})\n",
      "After Counter({0: 897, 1: 897})\n"
     ]
    }
   ],
   "source": [
    "from imblearn.over_sampling import SMOTE\n",
    "from collections import Counter\n",
    "from sklearn.datasets import make_classification\n",
    "\n",
    "# Create an imbalanced dataset\n",
    "X, y = make_classification(\n",
    "    n_samples=1000, n_features=10, weights=[0.9, 0.1], random_state=42\n",
    ")\n",
    "\n",
    "counter1 = Counter(y)\n",
    "print('Before', counter1)\n",
    "\n",
    "# Create an instance of SMOTE\n",
    "sm = SMOTE(random_state=42)\n",
    "\n",
    "# Use SMOTE to upsample the minority class\n",
    "X_resampled, y_resampled = sm.fit_resample(X, y)\n",
    "\n",
    "# Print the shape of the resampled dataset\n",
    "counter2 = Counter(y_resampled)\n",
    "print(\"After\", counter2)"
   ]
  },
  {
   "cell_type": "markdown",
   "metadata": {},
   "source": [
    "**(4) Class weighting**: Class weighting is a technique that involves assigning weights to different classes in a model to address class imbalance. This can be achieved by utilizing the `class_weight` parameter within the model."
   ]
  },
  {
   "cell_type": "code",
   "execution_count": 17,
   "metadata": {
    "tags": []
   },
   "outputs": [
    {
     "name": "stdout",
     "output_type": "stream",
     "text": [
      "Accuracy: 0.865\n"
     ]
    }
   ],
   "source": [
    "from sklearn.datasets import make_classification\n",
    "from sklearn.linear_model import LogisticRegression\n",
    "from sklearn.model_selection import train_test_split\n",
    "\n",
    "# Create an imbalanced dataset\n",
    "X, y = make_classification(n_samples=1000, n_features=10, weights=[0.9, 0.1], random_state=42)\n",
    "\n",
    "# Split the data into training and testing sets\n",
    "X_train, X_test, y_train, y_test = train_test_split(X, y, test_size=0.2, random_state=42)\n",
    "\n",
    "# Create an instance of Logistic Regression with class weighting\n",
    "clf = LogisticRegression(class_weight='balanced', random_state=42)\n",
    "\n",
    "# Fit the model on the training data\n",
    "clf.fit(X_train, y_train)\n",
    "\n",
    "# Evaluate the model on the testing data\n",
    "accuracy = clf.score(X_test, y_test)\n",
    "print(\"Accuracy:\", accuracy)"
   ]
  },
  {
   "cell_type": "markdown",
   "metadata": {},
   "source": [
    "**(5) Anomaly detection**: Anomaly detection finds and removes outliers in data. It is helpful for identifying rare events or observations that deviate significantly from the expected behavior. In imbalanced data, anomaly detection can be used to label the rare observations in the minority class as anomalies, improving dataset balance and enhancing model performance.\n",
    "\n",
    "Clustering and one-class classification are common approaches for anomaly detection in imbalanced data. Clustering groups similar minority class observations, while one-class classification trains a model on the majority class to detect anomalies in the minority class."
   ]
  },
  {
   "cell_type": "code",
   "execution_count": 20,
   "metadata": {
    "tags": []
   },
   "outputs": [
    {
     "name": "stdout",
     "output_type": "stream",
     "text": [
      "Original training data shape: (800, 10) (800,)\n",
      "Filtered training data shape: (746, 10) (746,)\n"
     ]
    }
   ],
   "source": [
    "from sklearn.datasets import make_classification\n",
    "from sklearn.ensemble import IsolationForest\n",
    "from sklearn.model_selection import train_test_split\n",
    "\n",
    "# Create an imbalanced dataset\n",
    "X, y = make_classification(n_samples=1000, n_features=10, weights=[0.9, 0.1], random_state=42)\n",
    "\n",
    "# Split the data into training and testing sets\n",
    "X_train, X_test, y_train, y_test = train_test_split(X, y, test_size=0.2, random_state=42)\n",
    "\n",
    "# Print the shape of the original training data\n",
    "print(\"Original training data shape:\", X_train.shape, y_train.shape)\n",
    "\n",
    "# Create an instance of Isolation Forest\n",
    "clf = IsolationForest(random_state=42)\n",
    "\n",
    "# Fit the model on the training data\n",
    "clf.fit(X_train)\n",
    "\n",
    "# Get the boolean indexing array for non-anomalous samples\n",
    "is_non_anomaly = clf.predict(X_train) == 1\n",
    "\n",
    "# Apply the boolean indexing to filter out non-anomalous samples\n",
    "X_train = X_train[is_non_anomaly]\n",
    "y_train = y_train[is_non_anomaly]\n",
    "\n",
    "# Print the shape of the filtered training data\n",
    "print(\"Filtered training data shape:\", X_train.shape, y_train.shape)"
   ]
  },
  {
   "cell_type": "markdown",
   "metadata": {},
   "source": [
    "**(6) Cost-Sensitive Learning**: Cost-Sensitive Learning refers to the practice of assigning varying costs to different types of errors in a model to address class imbalance. This can be achieved by utilizing the `sample_weight` parameter in the model. By assigning different weights to different classes or instances, the model can emphasize the importance of correctly predicting the minority class or reducing errors in the imbalanced data."
   ]
  },
  {
   "cell_type": "code",
   "execution_count": 22,
   "metadata": {
    "tags": []
   },
   "outputs": [
    {
     "name": "stdout",
     "output_type": "stream",
     "text": [
      "Accuracy: 0.9\n"
     ]
    }
   ],
   "source": [
    "import numpy as np\n",
    "from sklearn.datasets import make_classification\n",
    "from sklearn.tree import DecisionTreeClassifier\n",
    "from sklearn.model_selection import train_test_split\n",
    "\n",
    "# Create an imbalanced dataset\n",
    "X, y = make_classification(n_samples=1000, n_features=10, weights=[0.9, 0.1], random_state=42)\n",
    "\n",
    "# Split the data into training and testing sets\n",
    "X_train, X_test, y_train, y_test = train_test_split(X, y, test_size=0.2, random_state=42)\n",
    "\n",
    "# Calculate class weights for cost-sensitive learning\n",
    "class_weights = {0: 1, 1: 10}  # Adjust the weights based on the specific requirements\n",
    "\n",
    "# Convert class weights dictionary to an array-like object\n",
    "sample_weights = np.array([class_weights[label] for label in y_train])\n",
    "\n",
    "# Create an instance of Decision Tree classifier\n",
    "clf = DecisionTreeClassifier(random_state=42)\n",
    "\n",
    "# Fit the model on the training data with class weights\n",
    "clf.fit(X_train, y_train, sample_weight=sample_weights)\n",
    "\n",
    "# Evaluate the model on the testing data\n",
    "accuracy = clf.score(X_test, y_test)\n",
    "print(\"Accuracy:\", accuracy)"
   ]
  },
  {
   "cell_type": "markdown",
   "metadata": {},
   "source": [
    "### 2.2 Feature Engineering for Categorical Variables<a class=\"anchor\" id=\"section_2\"></a>\n",
    "\n",
    "Categorical variables represent qualitative attributes and consist of distinct categories or groups. They cannot be measured numerically or ordered. Examples include gender, color, and occupation. Categorical variables are used for classification and grouping in data analysis and machine learning.\n",
    "\n",
    "<div style=\"text-align:center\">\n",
    "    <h1 style=\"font-size:12px; \">Type of Varibles</h1>\n",
    "    <img src=\"images/04/variables.png\" width=\"400\">\n",
    "    <p style=\"font-style:italic; font-size:12px; text-align:center\">Image Source:<a href=\"https://thefactfactor.com/facts/management/statistics/variable/1432/\" style=\"text-decoration:none; color:inherit;\">The FactFactor</a></p>\n",
    "</div>\n",
    "\n",
    "#### 2.2.1 Encoding Categorical Variables<a class=\"anchor\" id=\"section_2_1\"></a>\n",
    "The process of encoding categorical variables is vital in feature engineering, as it transforms categorical data into a numerical format understandable by machine learning algorithms. Various commonly employed techniques for encoding categorical variables include:\n",
    "\n",
    "**(1) One-Hot Encoding**\n",
    "One-hot encoding is a method that transforms categorical variables into a binary feature set, where each feature represents a distinct category from the original variable. This technique involves creating a new binary column for each category, assigning a value of 1 if the category is present and 0 if it is not.\n",
    "\n",
    "Below is an example using the pandas library for one-hot encoding:"
   ]
  },
  {
   "cell_type": "code",
   "execution_count": 28,
   "metadata": {
    "tags": []
   },
   "outputs": [
    {
     "data": {
      "text/html": [
       "<div>\n",
       "<style scoped>\n",
       "    .dataframe tbody tr th:only-of-type {\n",
       "        vertical-align: middle;\n",
       "    }\n",
       "\n",
       "    .dataframe tbody tr th {\n",
       "        vertical-align: top;\n",
       "    }\n",
       "\n",
       "    .dataframe thead th {\n",
       "        text-align: right;\n",
       "    }\n",
       "</style>\n",
       "<table border=\"1\" class=\"dataframe\">\n",
       "  <thead>\n",
       "    <tr style=\"text-align: right;\">\n",
       "      <th></th>\n",
       "      <th>Id</th>\n",
       "      <th>SepalLengthCm</th>\n",
       "      <th>SepalWidthCm</th>\n",
       "      <th>PetalLengthCm</th>\n",
       "      <th>PetalWidthCm</th>\n",
       "      <th>Species</th>\n",
       "    </tr>\n",
       "  </thead>\n",
       "  <tbody>\n",
       "    <tr>\n",
       "      <th>0</th>\n",
       "      <td>1</td>\n",
       "      <td>5.1</td>\n",
       "      <td>3.5</td>\n",
       "      <td>1.4</td>\n",
       "      <td>0.2</td>\n",
       "      <td>Iris-setosa</td>\n",
       "    </tr>\n",
       "    <tr>\n",
       "      <th>1</th>\n",
       "      <td>2</td>\n",
       "      <td>4.9</td>\n",
       "      <td>3.0</td>\n",
       "      <td>1.4</td>\n",
       "      <td>0.2</td>\n",
       "      <td>Iris-setosa</td>\n",
       "    </tr>\n",
       "    <tr>\n",
       "      <th>2</th>\n",
       "      <td>3</td>\n",
       "      <td>4.7</td>\n",
       "      <td>3.2</td>\n",
       "      <td>1.3</td>\n",
       "      <td>0.2</td>\n",
       "      <td>Iris-setosa</td>\n",
       "    </tr>\n",
       "    <tr>\n",
       "      <th>3</th>\n",
       "      <td>4</td>\n",
       "      <td>4.6</td>\n",
       "      <td>3.1</td>\n",
       "      <td>1.5</td>\n",
       "      <td>0.2</td>\n",
       "      <td>Iris-setosa</td>\n",
       "    </tr>\n",
       "    <tr>\n",
       "      <th>4</th>\n",
       "      <td>5</td>\n",
       "      <td>5.0</td>\n",
       "      <td>3.6</td>\n",
       "      <td>1.4</td>\n",
       "      <td>0.2</td>\n",
       "      <td>Iris-setosa</td>\n",
       "    </tr>\n",
       "  </tbody>\n",
       "</table>\n",
       "</div>"
      ],
      "text/plain": [
       "   Id  SepalLengthCm  SepalWidthCm  PetalLengthCm  PetalWidthCm      Species\n",
       "0   1            5.1           3.5            1.4           0.2  Iris-setosa\n",
       "1   2            4.9           3.0            1.4           0.2  Iris-setosa\n",
       "2   3            4.7           3.2            1.3           0.2  Iris-setosa\n",
       "3   4            4.6           3.1            1.5           0.2  Iris-setosa\n",
       "4   5            5.0           3.6            1.4           0.2  Iris-setosa"
      ]
     },
     "execution_count": 28,
     "metadata": {},
     "output_type": "execute_result"
    }
   ],
   "source": [
    "import pandas as pd\n",
    "\n",
    "# Load the Iris dataset\n",
    "iris_data = pd.read_csv('data/Iris.csv')\n",
    "\n",
    "iris_data.head()"
   ]
  },
  {
   "cell_type": "code",
   "execution_count": 25,
   "metadata": {
    "tags": []
   },
   "outputs": [
    {
     "name": "stdout",
     "output_type": "stream",
     "text": [
      "   Id  SepalLengthCm  SepalWidthCm  PetalLengthCm  PetalWidthCm  \\\n",
      "0   1            5.1           3.5            1.4           0.2   \n",
      "1   2            4.9           3.0            1.4           0.2   \n",
      "2   3            4.7           3.2            1.3           0.2   \n",
      "3   4            4.6           3.1            1.5           0.2   \n",
      "4   5            5.0           3.6            1.4           0.2   \n",
      "\n",
      "   Species_Iris-setosa  Species_Iris-versicolor  Species_Iris-virginica  \n",
      "0                    1                        0                       0  \n",
      "1                    1                        0                       0  \n",
      "2                    1                        0                       0  \n",
      "3                    1                        0                       0  \n",
      "4                    1                        0                       0  \n"
     ]
    }
   ],
   "source": [
    "# Perform one-hot encoding\n",
    "encoded_df = pd.get_dummies(iris_data)\n",
    "\n",
    "# Display the encoded dataset\n",
    "print(encoded_df.head())"
   ]
  },
  {
   "cell_type": "markdown",
   "metadata": {},
   "source": [
    "Below is an example using the scikit-learn library for one-hot encoding:"
   ]
  },
  {
   "cell_type": "code",
   "execution_count": 34,
   "metadata": {
    "tags": []
   },
   "outputs": [
    {
     "name": "stdout",
     "output_type": "stream",
     "text": [
      "   Id  SepalLengthCm  SepalWidthCm  PetalLengthCm  PetalWidthCm      Species  \\\n",
      "0   1            5.1           3.5            1.4           0.2  Iris-setosa   \n",
      "1   2            4.9           3.0            1.4           0.2  Iris-setosa   \n",
      "2   3            4.7           3.2            1.3           0.2  Iris-setosa   \n",
      "3   4            4.6           3.1            1.5           0.2  Iris-setosa   \n",
      "4   5            5.0           3.6            1.4           0.2  Iris-setosa   \n",
      "\n",
      "   Species_Iris-setosa  Species_Iris-versicolor  Species_Iris-virginica  \n",
      "0                  1.0                      0.0                     0.0  \n",
      "1                  1.0                      0.0                     0.0  \n",
      "2                  1.0                      0.0                     0.0  \n",
      "3                  1.0                      0.0                     0.0  \n",
      "4                  1.0                      0.0                     0.0  \n"
     ]
    }
   ],
   "source": [
    "from sklearn.preprocessing import OneHotEncoder\n",
    "import pandas as pd\n",
    "\n",
    "# Load the Iris dataset\n",
    "iris_data = pd.read_csv('data/Iris.csv')\n",
    "\n",
    "# Extract the categorical column(s) to encode\n",
    "categorical_cols = ['Species']\n",
    "\n",
    "# Create an instance of the OneHotEncoder\n",
    "encoder = OneHotEncoder(sparse=False)\n",
    "\n",
    "# Fit and transform the categorical column(s)\n",
    "encoded_data = encoder.fit_transform(iris_data[categorical_cols])\n",
    "\n",
    "# Create a new dataframe with the encoded data\n",
    "encoded_df = pd.DataFrame(encoded_data, columns=encoder.get_feature_names_out(categorical_cols))\n",
    "\n",
    "# Concatenate the encoded dataframe with the original dataframe\n",
    "final_df = pd.concat([iris_data, encoded_df], axis=1)\n",
    "\n",
    "# Display the final encoded dataset\n",
    "print(final_df.head())\n"
   ]
  },
  {
   "cell_type": "markdown",
   "metadata": {},
   "source": [
    "**(2) Label Encoding**\n",
    "Label encoding is a method that assigns a distinct numerical value to each category present in the original variable. This technique involves assigning a numerical label to each category in the order of their appearance within the variable.\n",
    "\n",
    "Here's an example using the scikit-learn library:"
   ]
  },
  {
   "cell_type": "code",
   "execution_count": 35,
   "metadata": {
    "tags": []
   },
   "outputs": [
    {
     "name": "stdout",
     "output_type": "stream",
     "text": [
      "    color  color_encoded\n",
      "0     red              2\n",
      "1    blue              0\n",
      "2   green              1\n",
      "3     red              2\n",
      "4  yellow              3\n",
      "5    blue              0\n"
     ]
    }
   ],
   "source": [
    "from sklearn.preprocessing import LabelEncoder\n",
    "import pandas as pd\n",
    "\n",
    "# Create a sample dataframe\n",
    "df = pd.DataFrame({\n",
    "   'color': ['red', 'blue', 'green', 'red', 'yellow', 'blue']\n",
    "})\n",
    "\n",
    "# Apply label encoding\n",
    "label_encoder = LabelEncoder()\n",
    "df['color_encoded'] = label_encoder.fit_transform(df['color'])\n",
    "\n",
    "# Display the updated dataframe\n",
    "print(df)"
   ]
  },
  {
   "cell_type": "markdown",
   "metadata": {},
   "source": [
    "**(3) Ordinal Encoding**\n",
    "Ordinal encoding is a method that assigns a numerical value to each category present in the original variable, considering their order or rank. This technique involves ordering the categories based on a specific criterion and assigning numerical values to them based on their position within the order.\n",
    "\n",
    "Here's an example using the category_encoders library:"
   ]
  },
  {
   "cell_type": "code",
   "execution_count": 37,
   "metadata": {
    "tags": []
   },
   "outputs": [
    {
     "name": "stdout",
     "output_type": "stream",
     "text": [
      "     size  size_encoded\n",
      "0   small           2.0\n",
      "1  medium           1.0\n",
      "2   large           0.0\n",
      "3  medium           1.0\n",
      "4   small           2.0\n",
      "5   large           0.0\n"
     ]
    }
   ],
   "source": [
    "from sklearn.preprocessing import OrdinalEncoder\n",
    "import pandas as pd\n",
    "\n",
    "# Create a sample dataframe\n",
    "df = pd.DataFrame({\n",
    "   'size': ['small', 'medium', 'large', 'medium', 'small', 'large']\n",
    "})\n",
    "\n",
    "# Apply ordinal encoding\n",
    "encoder = OrdinalEncoder()\n",
    "df['size_encoded'] = encoder.fit_transform(df[['size']])\n",
    "\n",
    "# Display the encoded dataframe\n",
    "print(df)"
   ]
  },
  {
   "cell_type": "markdown",
   "metadata": {},
   "source": [
    "#### 2.2.2 Handling Rare Categories<a class=\"anchor\" id=\"section_2_2\"></a>\n",
    "Rare category handling techniques can be employed to address infrequently occurring categories within categorical variables. These techniques aim to mitigate challenges faced by machine learning models due to limited representation of rare categories. Several approaches include:\n",
    "\n",
    "**(1) Grouping rare categories**: This technique involves consolidating rare categories into a single category or a few categories. By doing so, the number of categories is reduced, and the representation of rare categories is increased.\n",
    "\n",
    "**(2) Replacing rare categories with a common category**: In this approach, rare categories are replaced with the most common category within the variable. This strategy proves effective when the rare categories are deemed less significant for the analysis.\n",
    "\n",
    "**(3) One-hot encoding with a flag**: This method entails creating a new category specifically for rare categories and assigning a flag to identify them as rare. This approach enables the model to differentiate rare categories from other categories.\n",
    "\n",
    "Let's consider an example of handling rare categories using the  Breast Cancer dataset from scikit-learn."
   ]
  },
  {
   "cell_type": "code",
   "execution_count": 46,
   "metadata": {
    "tags": []
   },
   "outputs": [
    {
     "name": "stdout",
     "output_type": "stream",
     "text": [
      "0.10070    5\n",
      "0.11500    4\n",
      "0.10540    4\n",
      "0.10750    4\n",
      "0.10630    3\n",
      "          ..\n",
      "0.08876    1\n",
      "0.09965    1\n",
      "0.13230    1\n",
      "0.08968    1\n",
      "0.05263    1\n",
      "Name: mean smoothness, Length: 474, dtype: int64\n"
     ]
    }
   ],
   "source": [
    "import pandas as pd\n",
    "import numpy as np\n",
    "from sklearn.datasets import load_breast_cancer\n",
    "\n",
    "# Load the Breast Cancer dataset\n",
    "data = load_breast_cancer()\n",
    "breast_cancer = pd.DataFrame(data.data, columns=data.feature_names)\n",
    "breast_cancer['target'] = data.target\n",
    "\n",
    "# View the value counts of the 'mean smoothness' column\n",
    "print(breast_cancer['mean smoothness'].value_counts())"
   ]
  },
  {
   "cell_type": "code",
   "execution_count": 47,
   "metadata": {
    "tags": []
   },
   "outputs": [
    {
     "name": "stdout",
     "output_type": "stream",
     "text": [
      "Rare    569\n",
      "Name: mean smoothness, dtype: int64\n"
     ]
    }
   ],
   "source": [
    "# Group rare categories into a single category\n",
    "breast_cancer['mean smoothness'] = np.where(breast_cancer['mean smoothness'] > 2, breast_cancer['mean smoothness'], 'Rare')\n",
    "\n",
    "# View the value counts of the 'mean smoothness' column after grouping\n",
    "print(breast_cancer['mean smoothness'].value_counts())"
   ]
  },
  {
   "cell_type": "code",
   "execution_count": 48,
   "metadata": {
    "tags": []
   },
   "outputs": [
    {
     "name": "stdout",
     "output_type": "stream",
     "text": [
      "Rare    569\n",
      "Name: mean smoothness, dtype: int64\n"
     ]
    }
   ],
   "source": [
    "# Replace rare categories with the most common category\n",
    "most_common_category = breast_cancer['mean smoothness'].mode()[0]\n",
    "breast_cancer['mean smoothness'] = np.where(breast_cancer['mean smoothness'] == 'Rare', most_common_category, breast_cancer['mean smoothness'])\n",
    "\n",
    "# View the value counts of the 'mean smoothness' column after replacement\n",
    "print(breast_cancer['mean smoothness'].value_counts())"
   ]
  },
  {
   "cell_type": "code",
   "execution_count": 49,
   "metadata": {
    "tags": []
   },
   "outputs": [
    {
     "name": "stdout",
     "output_type": "stream",
     "text": [
      "   mean radius  mean texture  mean perimeter  mean area mean smoothness  \\\n",
      "0        17.99         10.38          122.80     1001.0            Rare   \n",
      "1        20.57         17.77          132.90     1326.0            Rare   \n",
      "2        19.69         21.25          130.00     1203.0            Rare   \n",
      "3        11.42         20.38           77.58      386.1            Rare   \n",
      "4        20.29         14.34          135.10     1297.0            Rare   \n",
      "\n",
      "   mean compactness  mean concavity  mean concave points  mean symmetry  \\\n",
      "0           0.27760          0.3001              0.14710         0.2419   \n",
      "1           0.07864          0.0869              0.07017         0.1812   \n",
      "2           0.15990          0.1974              0.12790         0.2069   \n",
      "3           0.28390          0.2414              0.10520         0.2597   \n",
      "4           0.13280          0.1980              0.10430         0.1809   \n",
      "\n",
      "   mean fractal dimension  ...  worst perimeter  worst area  worst smoothness  \\\n",
      "0                 0.07871  ...           184.60      2019.0            0.1622   \n",
      "1                 0.05667  ...           158.80      1956.0            0.1238   \n",
      "2                 0.05999  ...           152.50      1709.0            0.1444   \n",
      "3                 0.09744  ...            98.87       567.7            0.2098   \n",
      "4                 0.05883  ...           152.20      1575.0            0.1374   \n",
      "\n",
      "   worst compactness  worst concavity  worst concave points  worst symmetry  \\\n",
      "0             0.6656           0.7119                0.2654          0.4601   \n",
      "1             0.1866           0.2416                0.1860          0.2750   \n",
      "2             0.4245           0.4504                0.2430          0.3613   \n",
      "3             0.8663           0.6869                0.2575          0.6638   \n",
      "4             0.2050           0.4000                0.1625          0.2364   \n",
      "\n",
      "   worst fractal dimension  target  mean smoothness_Rare  \n",
      "0                  0.11890       0                     1  \n",
      "1                  0.08902       0                     1  \n",
      "2                  0.08758       0                     1  \n",
      "3                  0.17300       0                     1  \n",
      "4                  0.07678       0                     1  \n",
      "\n",
      "[5 rows x 32 columns]\n"
     ]
    }
   ],
   "source": [
    "# Create a new category for rare categories and flag them as rare\n",
    "breast_cancer['mean smoothness_Rare'] = np.where(breast_cancer['mean smoothness'] == 'Rare', 1, 0)\n",
    "\n",
    "# Display the updated dataset\n",
    "print(breast_cancer.head())"
   ]
  },
  {
   "cell_type": "markdown",
   "metadata": {},
   "source": [
    "### 2.3 Feature Engineering for Time-Series Data<a class=\"anchor\" id=\"section_3\"></a>"
   ]
  },
  {
   "cell_type": "code",
   "execution_count": null,
   "metadata": {},
   "outputs": [],
   "source": []
  },
  {
   "cell_type": "markdown",
   "metadata": {},
   "source": [
    "### 2.4 Feature Engineering for Text Data<a class=\"anchor\" id=\"section_4\"></a>"
   ]
  },
  {
   "cell_type": "markdown",
   "metadata": {},
   "source": [
    "## 3. Conclusion<a class=\"anchor\" id=\"conclusion\"></a>\n",
    "\n",
    "In conclusion, this notebook has delved into the essential realm of feature engineering, focusing on various techniques for different types of variables. For numerical variables, we covered feature selection and extraction, scaling and normalization, creating new features, handling skewness and kurtosis, and addressing imbalanced data. For categorical variables, we explored encoding techniques and managing rare categories. Additionally, we discussed working with time-series data and text preprocessing. By applying these techniques, data can be transformed effectively, resulting in improved performance of machine learning models."
   ]
  },
  {
   "cell_type": "markdown",
   "metadata": {},
   "source": [
    "***\n",
    "\n",
    "## Bonus Questions\n",
    "\n",
    "We will use the `%load` command to load the content of a specified file into the cell, primarily for the purpose of incorporating solutions once you have finished the exercises."
   ]
  },
  {
   "cell_type": "markdown",
   "metadata": {},
   "source": [
    "### Q1: Binning"
   ]
  },
  {
   "cell_type": "code",
   "execution_count": null,
   "metadata": {},
   "outputs": [],
   "source": [
    "# Code it"
   ]
  },
  {
   "cell_type": "markdown",
   "metadata": {},
   "source": [
    "**Solution**"
   ]
  },
  {
   "cell_type": "code",
   "execution_count": 15,
   "metadata": {},
   "outputs": [
    {
     "name": "stdout",
     "output_type": "stream",
     "text": [
      "   crop_yield yield_category\n",
      "0          50            low\n",
      "1         100         medium\n",
      "2          75            low\n",
      "3         120           high\n",
      "4          90         medium\n",
      "5          80            low\n",
      "6         110           high\n",
      "7          95         medium\n"
     ]
    }
   ],
   "source": [
    "import pandas as pd\n",
    "\n",
    "# create a sample data frame\n",
    "data = pd.DataFrame({'crop_yield': [50, 100, 75, 120, 90, 80, 110, 95]})\n",
    "\n",
    "# create bins for different yield categories\n",
    "bins = [0, 80, 100, 120, float('inf')]\n",
    "labels = ['low', 'medium', 'high', 'very high']\n",
    "data['yield_category'] = pd.cut(data['crop_yield'], bins=bins, labels=labels)\n",
    "\n",
    "# display the updated data frame\n",
    "print(data)"
   ]
  },
  {
   "cell_type": "markdown",
   "metadata": {},
   "source": [
    "### Q2: Skewness and Kurtosis Handling"
   ]
  },
  {
   "cell_type": "code",
   "execution_count": null,
   "metadata": {},
   "outputs": [],
   "source": [
    "# Code it"
   ]
  },
  {
   "cell_type": "markdown",
   "metadata": {},
   "source": [
    "**Solution**"
   ]
  },
  {
   "cell_type": "code",
   "execution_count": 44,
   "metadata": {},
   "outputs": [
    {
     "name": "stdout",
     "output_type": "stream",
     "text": [
      "          Original Data  Log Transformed Data\n",
      "Skewness       2.480052             -1.605369\n",
      "Kurtosis      37.491469              4.485470\n"
     ]
    },
    {
     "name": "stderr",
     "output_type": "stream",
     "text": [
      "/scratch/local/1420363/ipykernel_39783/2727221560.py:13: RuntimeWarning: invalid value encountered in log\n",
      "  log_data = np.log(data)\n"
     ]
    }
   ],
   "source": [
    "import numpy as np\n",
    "import pandas as pd\n",
    "from scipy import stats\n",
    "\n",
    "# Generate some data with high kurtosis\n",
    "data = np.random.normal(0, 5, 1000)**3\n",
    "\n",
    "# Calculate skewness and kurtosis for original data\n",
    "skewness = stats.skew(data)\n",
    "kurtosis = stats.kurtosis(data)\n",
    "\n",
    "# Log transformation\n",
    "log_data = np.log(data)\n",
    "\n",
    "# Remove any missing values (NaN) from log_data\n",
    "log_data = log_data[~np.isnan(log_data)]\n",
    "\n",
    "# Calculate skewness and kurtosis for log-transformed data\n",
    "log_skewness = stats.skew(log_data)\n",
    "log_kurtosis = stats.kurtosis(log_data)\n",
    "\n",
    "# Display the results\n",
    "results = pd.DataFrame({\n",
    "    'Original Data': [skewness, kurtosis],\n",
    "    'Log Transformed Data': [log_skewness, log_kurtosis]\n",
    "}, index=['Skewness', 'Kurtosis'])\n",
    "\n",
    "print(results)"
   ]
  },
  {
   "cell_type": "markdown",
   "metadata": {},
   "source": [
    "### Q3: Creating New Features"
   ]
  },
  {
   "cell_type": "code",
   "execution_count": null,
   "metadata": {},
   "outputs": [],
   "source": [
    "# Code it"
   ]
  },
  {
   "cell_type": "markdown",
   "metadata": {},
   "source": [
    "**Solution**"
   ]
  },
  {
   "cell_type": "code",
   "execution_count": 38,
   "metadata": {},
   "outputs": [
    {
     "name": "stdout",
     "output_type": "stream",
     "text": [
      "[[ 1.  1.  2.  1.  2.  4.]\n",
      " [ 1.  3.  4.  9. 12. 16.]]\n"
     ]
    }
   ],
   "source": [
    "from sklearn.preprocessing import PolynomialFeatures\n",
    "import numpy as np\n",
    "\n",
    "# create a sample data set\n",
    "X = np.array([[1, 2],\n",
    "              [3, 4]])\n",
    "\n",
    "# create polynomial features up to degree 2\n",
    "poly = PolynomialFeatures(degree=2)\n",
    "X_poly = poly.fit_transform(X)\n",
    "\n",
    "# display the updated feature matrix\n",
    "print(X_poly)"
   ]
  },
  {
   "cell_type": "code",
   "execution_count": null,
   "metadata": {},
   "outputs": [],
   "source": []
  }
 ],
 "metadata": {
  "kernelspec": {
   "display_name": "UFRC Python-3.10",
   "language": "python",
   "name": "python3-3.10-ufrc"
  },
  "language_info": {
   "codemirror_mode": {
    "name": "ipython",
    "version": 3
   },
   "file_extension": ".py",
   "mimetype": "text/x-python",
   "name": "python",
   "nbconvert_exporter": "python",
   "pygments_lexer": "ipython3",
   "version": "3.10.5"
  },
  "toc-autonumbering": false,
  "toc-showmarkdowntxt": false
 },
 "nbformat": 4,
 "nbformat_minor": 4
}
